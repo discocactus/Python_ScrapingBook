{
 "cells": [
  {
   "cell_type": "code",
   "execution_count": null,
   "metadata": {
    "collapsed": true
   },
   "outputs": [],
   "source": [
    "# chapter 2-4 webページを取得する"
   ]
  },
  {
   "cell_type": "code",
   "execution_count": null,
   "metadata": {
    "collapsed": true
   },
   "outputs": [],
   "source": []
  },
  {
   "cell_type": "code",
   "execution_count": 1,
   "metadata": {
    "collapsed": true
   },
   "outputs": [],
   "source": [
    "from urllib.request import urlopen"
   ]
  },
  {
   "cell_type": "code",
   "execution_count": 3,
   "metadata": {
    "collapsed": false
   },
   "outputs": [],
   "source": [
    "f = urlopen('http://sample.scraping-book.com/dp')"
   ]
  },
  {
   "cell_type": "code",
   "execution_count": 4,
   "metadata": {
    "collapsed": false
   },
   "outputs": [
    {
     "data": {
      "text/plain": [
       "http.client.HTTPResponse"
      ]
     },
     "execution_count": 4,
     "metadata": {},
     "output_type": "execute_result"
    }
   ],
   "source": [
    "type(f)"
   ]
  },
  {
   "cell_type": "code",
   "execution_count": 5,
   "metadata": {
    "collapsed": false
   },
   "outputs": [
    {
     "data": {
      "text/plain": [
       "b'<!DOCTYPE HTML>\\n<html lang=\"ja\" class=\"pc\">\\n<head>\\n  <meta charset=\"UTF-8\">\\n  <title>Python\\xe3\\x82\\xaf\\xe3\\x83\\xad\\xe3\\x83\\xbc\\xe3\\x83\\xaa\\xe3\\x83\\xb3\\xe3\\x82\\xb0\\xef\\xbc\\x86\\xe3\\x82\\xb9\\xe3\\x82\\xaf\\xe3\\x83\\xac\\xe3\\x82\\xa4\\xe3\\x83\\x94\\xe3\\x83\\xb3\\xe3\\x82\\xb0 -\\xe3\\x83\\x87\\xe3\\x83\\xbc\\xe3\\x82\\xbf\\xe5\\x8f\\x8e\\xe9\\x9b\\x86\\xe3\\x83\\xbb\\xe8\\xa7\\xa3\\xe6\\x9e\\x90\\xe3\\x81\\xae\\xe3\\x81\\x9f\\xe3\\x82\\x81\\xe3\\x81\\xae\\xe5\\xae\\x9f\\xe8\\xb7\\xb5\\xe9\\x96\\x8b\\xe7\\x99\\xba\\xe3\\x82\\xac\\xe3\\x82\\xa4\\xe3\\x83\\x89- \\xe3\\x82\\xb5\\xe3\\x83\\xb3\\xe3\\x83\\x97\\xe3\\x83\\xab\\xe3\\x83\\x9a\\xe3\\x83\\xbc\\xe3\\x82\\xb8</title>\\n  <meta http-equiv=\"Content-Style-Type\" content=\"text/css\"/>\\n  <meta http-equiv=\"Content-Script-Type\" content=\"application/javascript\"/>\\n  <meta name=\"description\" content=\"Python\\xe3\\x82\\xaf\\xe3\\x83\\xad\\xe3\\x83\\xbc\\xe3\\x83\\xaa\\xe3\\x83\\xb3\\xe3\\x82\\xb0\\xef\\xbc\\x86\\xe3\\x82\\xb9\\xe3\\x82\\xaf\\xe3\\x83\\xac\\xe3\\x82\\xa4\\xe3\\x83\\x94\\xe3\\x83\\xb3\\xe3\\x82\\xb0 -\\xe3\\x83\\x87\\xe3\\x83\\xbc\\xe3\\x82\\xbf\\xe5\\x8f\\x8e\\xe9\\x9b\\x86\\xe3\\x83\\xbb\\xe8\\xa7\\xa3\\xe6\\x9e\\x90\\xe3\\x81\\xae\\xe3\\x81\\x9f\\xe3\\x82\\x81\\xe3\\x81\\xae\\xe5\\xae\\x9f\\xe8\\xb7\\xb5\\xe9\\x96\\x8b\\xe7\\x99\\xba\\xe3\\x82\\xac\\xe3\\x82\\xa4\\xe3\\x83\\x89- \\xe3\\x82\\xb5\\xe3\\x83\\xb3\\xe3\\x83\\x97\\xe3\\x83\\xab\\xe3\\x83\\x9a\\xe3\\x83\\xbc\\xe3\\x82\\xb8\"/>\\n  <meta http-equiv=\"X-UA-Compatible\" content=\"IE=Edge,chrome=1\"/>\\n  <meta name=\"apple-mobile-web-app-capable\" content=\"yes\"/>\\n  <meta name=\"format-detection\" content=\"telephone=no\"/>\\n  <link rel=\"shortcut icon\" href=\"/assets/templates/gdp/favicon.ico\" type=\"image/vnd.microsoft.icon\"/>\\n  <meta name=\"robots\" content=\"noindex,noarchive\"/>\\n  <link rel=\"stylesheet\" href=\"/dp/assets/style/store1124.css\" type=\"text/css\" media=\"all\"/>\\n</head>\\n<body itemscope=\"itemscope\" itemtype=\"http://schema.org/WebPage\" class=\"page-home\">\\n  <header id=\"header\" itemscope=\"itemscope\" itemtype=\"http://schema.org/WPHeader\">\\n    <h1 class=\"home-title\">Scraping-Book</h1>\\n    <h2 class=\"home-subtitle\">\\xe3\\x81\\x93\\xe3\\x82\\x8c\\xe3\\x81\\xaf\\xe6\\x9b\\xb8\\xe7\\xb1\\x8d\\xe7\\x94\\xa8\\xe3\\x81\\xae\\xe3\\x82\\xb5\\xe3\\x83\\xb3\\xe3\\x83\\x97\\xe3\\x83\\xab\\xe3\\x83\\x9a\\xe3\\x83\\xbc\\xe3\\x82\\xb8\\xe3\\x81\\xa7\\xe3\\x81\\x99\\xe3\\x80\\x82\\xe8\\xb3\\xbc\\xe5\\x85\\xa5\\xe3\\x81\\xaa\\xe3\\x81\\xa9\\xe3\\x81\\xae\\xe6\\x93\\x8d\\xe4\\xbd\\x9c\\xe3\\x81\\xaf\\xe3\\x81\\xa7\\xe3\\x81\\x8d\\xe3\\x81\\xbe\\xe3\\x81\\x9b\\xe3\\x82\\x93\\xe3\\x80\\x82</h2>\\n    <nav id=\"headerFunction\">\\n      <div id=\"login\">\\n        <a href=\"#login\" title=\"\\xe3\\x82\\xb5\\xe3\\x83\\xb3\\xe3\\x83\\x97\\xe3\\x83\\xab\\xe3\\x83\\x9a\\xe3\\x83\\xbc\\xe3\\x82\\xb8\\xe3\\x81\\xae\\xe3\\x81\\x9f\\xe3\\x82\\x81\\xe5\\x88\\xa9\\xe7\\x94\\xa8\\xe3\\x81\\xa7\\xe3\\x81\\x8d\\xe3\\x81\\xbe\\xe3\\x81\\x9b\\xe3\\x82\\x93\">\\xe3\\x83\\xad\\xe3\\x82\\xb0\\xe3\\x82\\xa4\\xe3\\x83\\xb3</a>\\n      </div>\\n      <div id=\"cart\">\\n        <a href=\"/dp/cart\" title=\"\\xe3\\x82\\xb5\\xe3\\x83\\xb3\\xe3\\x83\\x97\\xe3\\x83\\xab\\xe3\\x83\\x9a\\xe3\\x83\\xbc\\xe3\\x82\\xb8\\xe3\\x81\\xae\\xe3\\x81\\x9f\\xe3\\x82\\x81\\xe5\\x88\\xa9\\xe7\\x94\\xa8\\xe3\\x81\\xa7\\xe3\\x81\\x8d\\xe3\\x81\\xbe\\xe3\\x81\\x9b\\xe3\\x82\\x93\">\\xe3\\x82\\xab\\xe3\\x83\\xbc\\xe3\\x83\\x88</a>\\n      </div>\\n    </nav>\\n  </header>\\n  <div id=\"main\">\\n    <noscript><div id=\"noscript\">\\n      <p>\\xe6\\x9c\\xac\\xe3\\x82\\xb5\\xe3\\x82\\xa4\\xe3\\x83\\x88\\xe3\\x81\\xa7\\xe3\\x81\\xafJavaScript\\xe3\\x82\\x92\\xe4\\xbd\\xbf\\xe7\\x94\\xa8\\xe3\\x81\\x97\\xe3\\x81\\xa6\\xe3\\x81\\x8a\\xe3\\x82\\x8a\\xe3\\x81\\xbe\\xe3\\x81\\x99\\xe3\\x80\\x82JavaScript\\xe3\\x81\\x8c\\xe7\\x84\\xa1\\xe5\\x8a\\xb9\\xe3\\x81\\xaa\\xe7\\x8a\\xb6\\xe6\\x85\\x8b\\xe3\\x81\\xa7\\xe3\\x81\\xaf\\xe3\\x81\\x94\\xe5\\x88\\xa9\\xe7\\x94\\xa8\\xe3\\x81\\x84\\xe3\\x81\\x9f\\xe3\\x81\\xa0\\xe3\\x81\\x91\\xe3\\x81\\xbe\\xe3\\x81\\x9b\\xe3\\x82\\x93\\xe3\\x80\\x82</p>\\n    </div></noscript>\\n\\n    <div id=\"bookList\">\\n      <h2>\\xe5\\x95\\x86\\xe5\\x93\\x81\\xe4\\xb8\\x80\\xe8\\xa6\\xa7</h2>\\n      <div id=\"topNavigation\">\\n        <div id=\"filter\">\\n          <form id=\"search\" action=\"/dp\" method=\"get\">\\n            <input type=\"search\" name=\"query\" id=\"searchText\" title=\"\\xe6\\xa4\\x9c\\xe7\\xb4\\xa2\\xe3\\x81\\x99\\xe3\\x82\\x8b\\xe5\\x95\\x86\\xe5\\x93\\x81\\xe3\\x81\\xae\\xe3\\x82\\xad\\xe3\\x83\\xbc\\xe3\\x83\\xaf\\xe3\\x83\\xbc\\xe3\\x83\\x89\\xe3\\x82\\x92\\xe5\\x85\\xa5\\xe5\\x8a\\x9b\" placeholder=\"\\xe5\\x95\\x86\\xe5\\x93\\x81\\xe3\\x81\\xae\\xe3\\x82\\xad\\xe3\\x83\\xbc\\xe3\\x83\\xaf\\xe3\\x83\\xbc\\xe3\\x83\\x89\" required=\"required\" value=\"\"/>\\n            <input type=\"submit\" id=\"searchSubmit\" value=\"\\xe6\\xa4\\x9c\\xe7\\xb4\\xa2\" title=\"\\xe6\\xa4\\x9c\\xe7\\xb4\\xa2\\xe3\\x81\\x99\\xe3\\x82\\x8b\"/>\\n          </form>\\n          <div id=\"select\">\\n            <a href=\"\" id=\"selectLabel\" title=\"\\xe5\\x95\\x86\\xe5\\x93\\x81\\xe3\\x82\\xb8\\xe3\\x83\\xa3\\xe3\\x83\\xb3\\xe3\\x83\\xab\\xe3\\x82\\x92\\xe9\\x81\\xb8\\xe6\\x8a\\x9e\\xe3\\x81\\x99\\xe3\\x82\\x8b\">\\xe3\\x81\\x99\\xe3\\x81\\xb9\\xe3\\x81\\xa6\\xe3\\x81\\xae\\xe5\\x95\\x86\\xe5\\x93\\x81</a>\\n            <div id=\"selectMenu\">\\n              <ul id=\"selectMenuBody\"><li class=\"title\">\\xe5\\x95\\x86\\xe5\\x93\\x81\\xe3\\x82\\xb8\\xe3\\x83\\xa3\\xe3\\x83\\xb3\\xe3\\x83\\xab\\xe3\\x82\\x92\\xe9\\x81\\xb8\\xe6\\x8a\\x9e</li><li class=\"selected\"><a href=\"/dp\">\\xe3\\x81\\x99\\xe3\\x81\\xb9\\xe3\\x81\\xa6\\xe3\\x81\\xae\\xe5\\x95\\x86\\xe5\\x93\\x81</a></li><li><a href=\"/dp/genre/%E3%83%91%E3%82%BD%E3%82%B3%E3%83%B3\">\\xe3\\x83\\x91\\xe3\\x82\\xbd\\xe3\\x82\\xb3\\xe3\\x83\\xb3</a></li><li><a href=\"/dp/genre/%E3%82%B9%E3%83%9E%E3%83%BC%E3%83%88%E3%83%95%E3%82%A9%E3%83%B3%E3%83%BB%E3%82%BF%E3%83%96%E3%83%AC%E3%83%83%E3%83%88\">\\xe3\\x82\\xb9\\xe3\\x83\\x9e\\xe3\\x83\\xbc\\xe3\\x83\\x88\\xe3\\x83\\x95\\xe3\\x82\\xa9\\xe3\\x83\\xb3\\xe3\\x83\\xbb\\xe3\\x82\\xbf\\xe3\\x83\\x96\\xe3\\x83\\xac\\xe3\\x83\\x83\\xe3\\x83\\x88</a></li><li><a href=\"/dp/genre/%E3%83%87%E3%82%B6%E3%82%A4%E3%83%B3%E3%83%BB%E7%B4%A0%E6%9D%90%E9%9B%86\">\\xe3\\x83\\x87\\xe3\\x82\\xb6\\xe3\\x82\\xa4\\xe3\\x83\\xb3\\xe3\\x83\\xbb\\xe7\\xb4\\xa0\\xe6\\x9d\\x90\\xe9\\x9b\\x86</a></li><li><a href=\"/dp/genre/Web%E3%82%B5%E3%82%A4%E3%83%88%E5%88%B6%E4%BD%9C\">Web\\xe3\\x82\\xb5\\xe3\\x82\\xa4\\xe3\\x83\\x88\\xe5\\x88\\xb6\\xe4\\xbd\\x9c</a></li><li><a href=\"/dp/genre/%E3%83%97%E3%83%AD%E3%82%B0%E3%83%A9%E3%83%9F%E3%83%B3%E3%82%B0%E3%83%BB%E3%82%B7%E3%82%B9%E3%83%86%E3%83%A0%E9%96%8B%E7%99%BA\">\\xe3\\x83\\x97\\xe3\\x83\\xad\\xe3\\x82\\xb0\\xe3\\x83\\xa9\\xe3\\x83\\x9f\\xe3\\x83\\xb3\\xe3\\x82\\xb0\\xe3\\x83\\xbb\\xe3\\x82\\xb7\\xe3\\x82\\xb9\\xe3\\x83\\x86\\xe3\\x83\\xa0\\xe9\\x96\\x8b\\xe7\\x99\\xba</a></li><li><a href=\"/dp/genre/%E3%83%8D%E3%83%83%E3%83%88%E3%83%AF%E3%83%BC%E3%82%AF%E3%83%BBUNIX%E3%83%BB%E3%83%87%E3%83%BC%E3%82%BF%E3%83%99%E3%83%BC%E3%82%B9\">\\xe3\\x83\\x8d\\xe3\\x83\\x83\\xe3\\x83\\x88\\xe3\\x83\\xaf\\xe3\\x83\\xbc\\xe3\\x82\\xaf\\xe3\\x83\\xbbUNIX\\xe3\\x83\\xbb\\xe3\\x83\\x87\\xe3\\x83\\xbc\\xe3\\x82\\xbf\\xe3\\x83\\x99\\xe3\\x83\\xbc\\xe3\\x82\\xb9</a></li><li><a href=\"/dp/genre/%E8%B3%87%E6%A0%BC%E8%A9%A6%E9%A8%93%EF%BC%88IT%EF%BC%89\">\\xe8\\xb3\\x87\\xe6\\xa0\\xbc\\xe8\\xa9\\xa6\\xe9\\xa8\\x93\\xef\\xbc\\x88IT\\xef\\xbc\\x89</a></li><li><a href=\"/dp/genre/%E8%B3%87%E6%A0%BC%E8%A9%A6%E9%A8%93%EF%BC%88%E4%B8%80%E8%88%AC%EF%BC%89%E3%83%BB%E5%A4%A7%E5%AD%A6%E5%8F%97%E9%A8%93\">\\xe8\\xb3\\x87\\xe6\\xa0\\xbc\\xe8\\xa9\\xa6\\xe9\\xa8\\x93\\xef\\xbc\\x88\\xe4\\xb8\\x80\\xe8\\x88\\xac\\xef\\xbc\\x89\\xe3\\x83\\xbb\\xe5\\xa4\\xa7\\xe5\\xad\\xa6\\xe5\\x8f\\x97\\xe9\\xa8\\x93</a></li><li><a href=\"/dp/genre/%E8%B6%A3%E5%91%B3%E3%83%BB%E5%AE%9F%E7%94%A8%E3%83%BB%E3%83%87%E3%82%B8%E3%82%AB%E3%83%A1\">\\xe8\\xb6\\xa3\\xe5\\x91\\xb3\\xe3\\x83\\xbb\\xe5\\xae\\x9f\\xe7\\x94\\xa8\\xe3\\x83\\xbb\\xe3\\x83\\x87\\xe3\\x82\\xb8\\xe3\\x82\\xab\\xe3\\x83\\xa1</a></li><li><a href=\"/dp/genre/%E3%83%93%E3%82%B8%E3%83%8D%E3%82%B9%E3%83%BB%E3%83%9E%E3%83%8D%E3%83%BC\">\\xe3\\x83\\x93\\xe3\\x82\\xb8\\xe3\\x83\\x8d\\xe3\\x82\\xb9\\xe3\\x83\\xbb\\xe3\\x83\\x9e\\xe3\\x83\\x8d\\xe3\\x83\\xbc</a></li><li><a href=\"/dp/genre/%E7%90%86%E5%B7%A5%E3%83%BB%E3%82%B5%E3%82%A4%E3%82%A8%E3%83%B3%E3%82%B9\">\\xe7\\x90\\x86\\xe5\\xb7\\xa5\\xe3\\x83\\xbb\\xe3\\x82\\xb5\\xe3\\x82\\xa4\\xe3\\x82\\xa8\\xe3\\x83\\xb3\\xe3\\x82\\xb9</a></li></ul>\\n            </div>\\n          </div>\\n        </div>\\n        <nav id=\"pagingTop\">          <ul>\\n            <li><span class=\"prev\">\\xe2\\x80\\x95</span></li>\\n            <li class=\"paging-number\">1</li>\\n            <li><a href=\"/dp?start=30\" title=\"\\xe3\\x82\\xb5\\xe3\\x83\\xb3\\xe3\\x83\\x97\\xe3\\x83\\xab\\xe3\\x83\\x9a\\xe3\\x83\\xbc\\xe3\\x82\\xb8\\xe3\\x81\\xae\\xe3\\x81\\x9f\\xe3\\x82\\x81\\xe5\\x88\\xa9\\xe7\\x94\\xa8\\xe3\\x81\\xa7\\xe3\\x81\\x8d\\xe3\\x81\\xbe\\xe3\\x81\\x9b\\xe3\\x82\\x93\" class=\"next\">\\xe6\\xac\\xa1</a></li>\\n          </ul>\\n        </nav>\\n      </div>\\n      <ul itemprop=\"isPartOf\" itemscope=\"itemscope\" itemtype=\"http://www.schema.org/CollectionPage\" id=\"listBook\" class=\"list-book\"><li id=\"bannerTopAd\">\\n  <div id=\"topAdPrev\"><a href=\"#adPrev\" title=\"\\xe3\\x82\\xb5\\xe3\\x83\\xb3\\xe3\\x83\\x97\\xe3\\x83\\xab\\xe3\\x83\\x9a\\xe3\\x83\\xbc\\xe3\\x82\\xb8\\xe3\\x81\\xae\\xe3\\x81\\x9f\\xe3\\x82\\x81\\xe5\\x88\\xa9\\xe7\\x94\\xa8\\xe3\\x81\\xa7\\xe3\\x81\\x8d\\xe3\\x81\\xbe\\xe3\\x81\\x9b\\xe3\\x82\\x93\">\\xe5\\x89\\x8d</a></div>\\n  <div id=\"topAdNext\"><a href=\"#adNext\" title=\"\\xe3\\x82\\xb5\\xe3\\x83\\xb3\\xe3\\x83\\x97\\xe3\\x83\\xab\\xe3\\x83\\x9a\\xe3\\x83\\xbc\\xe3\\x82\\xb8\\xe3\\x81\\xae\\xe3\\x81\\x9f\\xe3\\x82\\x81\\xe5\\x88\\xa9\\xe7\\x94\\xa8\\xe3\\x81\\xa7\\xe3\\x81\\x8d\\xe3\\x81\\xbe\\xe3\\x81\\x9b\\xe3\\x82\\x93\">\\xe6\\xac\\xa1</a></div>\\n  <ul id=\"topAdNum\"></ul>\\n</li>\\n<li class=\"subscription\"><a href=\"/dp/subscription\" title=\"\\xe3\\x82\\xb5\\xe3\\x83\\xb3\\xe3\\x83\\x97\\xe3\\x83\\xab\\xe3\\x83\\x9a\\xe3\\x83\\xbc\\xe3\\x82\\xb8\\xe3\\x81\\xae\\xe3\\x81\\x9f\\xe3\\x82\\x81\\xe5\\x88\\xa9\\xe7\\x94\\xa8\\xe3\\x81\\xa7\\xe3\\x81\\x8d\\xe3\\x81\\xbe\\xe3\\x81\\x9b\\xe3\\x82\\x93\">\\n  <p class=\"title\"><span class=\"series\">Software Design\\xe3\\x83\\xbb<wbr>WEB+DB PRESS</span>\\xe9\\x9b\\xbb\\xe5\\xad\\x90\\xe7\\x89\\x88\\xe5\\xae\\x9a\\xe6\\x9c\\x9f\\xe8\\xb3\\xbc\\xe8\\xaa\\xad\\xe3\\x81\\xae\\xe3\\x81\\x8a\\xe7\\x94\\xb3\\xe3\\x81\\x97\\xe8\\xbe\\xbc\\xe3\\x81\\xbf</p>\\n  <img src=\"/assets/images/dummy.png\" data-image=\"/assets/images/gdp/subscription/subsc-cover.png,/assets/images/gdp/subscription/subsc-cover@2x.png\" width=\"236\" height=\"138\" alt=\"cover\" style=\"max-width:none;max-height:none;position:absolute;right:0;bottom:-10px;border:none\">\\n  <ul class=\"format\"><li class=\"pdf\">PDF</li></ul>\\n</a></li>        <li class=\"new\" id=\"978-4-7741-8336-7\"><a itemprop=\"url\" href=\"/dp/ebook/2016/978-4-7741-8336-7\">\\n          <img itemprop=\"image\" src=\"/assets/images/dummy.png\" width=\"100\" height=\"141\" data-image=\"/assets/images/gdp/2016/thumb/TH100_978-4-7741-8336-7.jpg,/assets/images/gdp/2016/thumb/TH200_978-4-7741-8336-7.jpg\" alt=\"\\xe3\\x82\\xab\\xe3\\x83\\x90\\xe3\\x83\\xbc\\xe7\\x94\\xbb\\xe5\\x83\\x8f\"/>\\n          <p itemprop=\"name\" class=\"title\">\\xe3\\x81\\x93\\xe3\\x82\\x8c\\xe3\\x81\\x8b\\xe3\\x82\\x89\\xe3\\x81\\xaf\\xe3\\x81\\x98\\xe3\\x82\\x81\\xe3\\x82\\x8b\\xe3\\x83\\x97\\xe3\\x83\\xad\\xe3\\x82\\xb0\\xe3\\x83\\xa9\\xe3\\x83\\x9f\\xe3\\x83\\xb3\\xe3\\x82\\xb0 \\xe4\\xbd\\x9c\\xe3\\x81\\xa3\\xe3\\x81\\xa6\\xe8\\xa6\\x9a\\xe3\\x81\\x88\\xe3\\x82\\x8b\\xe5\\x9f\\xba\\xe7\\xa4\\x8e\\xe3\\x81\\xae\\xe5\\x9f\\xba\\xe7\\xa4\\x8e</p>\\n          <p itemprop=\"author\" class=\"author\">\\xe8\\xb0\\xb7\\xe5\\xb0\\xbb\\xe3\\x81\\x8b\\xe3\\x81\\x8a\\xe3\\x82\\x8a\\xe3\\x80\\x80\\xe8\\x91\\x97\\xef\\xbc\\x8c<wbr/>\\xe8\\xb0\\xb7\\xe5\\xb0\\xbb\\xe8\\xb1\\x8a\\xe5\\xaf\\xbf\\xe3\\x80\\x80\\xe7\\x9b\\xa3\\xe4\\xbf\\xae</p>\\n          <p itemprop=\"offers\" itemscope=\"itemscope\" itemtype=\"http://schema.org/Offer\" class=\"price\"><span itemprop=\"price\">2,280</span>\\xe5\\x86\\x86<meta itemprop=\"priceCurrency\" content=\"JPY\"/></p>\\n          <ul class=\"format\">\\n            <li class=\"pdf\">PDF</li><li class=\"epub\">EPUB</li>\\n          </ul>\\n          <ul class=\"date\">\\n            <li class=\"notice\"><time datetime=\"2016-7-23\" itemprop=\"datePublished\" class=\"published\">2016\\xe5\\xb9\\xb47\\xe6\\x9c\\x8823\\xe6\\x97\\xa5</time></li>\\n            \\n          </ul>\\n        </a></li>        <li class=\"new\" id=\"978-4-7741-8337-4\"><a itemprop=\"url\" href=\"/dp/ebook/2016/978-4-7741-8337-4\">\\n          <img itemprop=\"image\" src=\"/assets/images/dummy.png\" width=\"100\" height=\"141\" data-image=\"/assets/images/gdp/2016/thumb/TH100_978-4-7741-8337-4.jpg,/assets/images/gdp/2016/thumb/TH200_978-4-7741-8337-4.jpg\" alt=\"\\xe3\\x82\\xab\\xe3\\x83\\x90\\xe3\\x83\\xbc\\xe7\\x94\\xbb\\xe5\\x83\\x8f\"/>\\n          <p itemprop=\"name\" class=\"title\"><span class=\"series\">\\xe6\\x83\\x85\\xe5\\xa0\\xb1\\xe5\\x87\\xa6\\xe7\\x90\\x86\\xe6\\x8a\\x80\\xe8\\xa1\\x93\\xe8\\x80\\x85\\xe8\\xa9\\xa6\\xe9\\xa8\\x93</span> \\xe5\\xb9\\xb3\\xe6\\x88\\x90<wbr/>28<wbr/>\\xe5\\xb9\\xb4\\xe5\\xba\\xa6<wbr/>\\xe3\\x80\\x90\\xe7\\xa7\\x8b\\xe6\\x9c\\x9f\\xe3\\x80\\x91<wbr/>\\xe6\\x83\\x85\\xe5\\xa0\\xb1\\xe3\\x82\\xbb\\xe3\\x82\\xad\\xe3\\x83\\xa5\\xe3\\x83\\xaa\\xe3\\x83\\x86\\xe3\\x82\\xa3\\xe3\\x83\\x9e\\xe3\\x83\\x8d\\xe3\\x82\\xb8\\xe3\\x83\\xa1\\xe3\\x83\\xb3\\xe3\\x83\\x88 \\xe3\\x83\\x91\\xe3\\x83\\xbc\\xe3\\x83\\x95\\xe3\\x82\\xa7\\xe3\\x82\\xaf\\xe3\\x83\\x88\\xe3\\x83\\xa9\\xe3\\x83\\xbc\\xe3\\x83\\x8b\\xe3\\x83\\xb3\\xe3\\x82\\xb0\\xe9\\x81\\x8e\\xe5\\x8e\\xbb\\xe5\\x95\\x8f\\xe9\\xa1\\x8c\\xe9\\x9b\\x86</p>\\n          <p itemprop=\"author\" class=\"author\">\\xe5\\xba\\x84\\xe5\\x8f\\xb8\\xe5\\x8b\\x9d\\xe5\\x93\\x89\\xef\\xbc\\x8c<wbr/>\\xe5\\x90\\x89\\xe5\\xb7\\x9d\\xe5\\x85\\x81\\xe6\\xa8\\xb9\\xe3\\x80\\x80\\xe8\\x91\\x97</p>\\n          <p itemprop=\"offers\" itemscope=\"itemscope\" itemtype=\"http://schema.org/Offer\" class=\"price\"><span itemprop=\"price\">1,480</span>\\xe5\\x86\\x86<meta itemprop=\"priceCurrency\" content=\"JPY\"/></p>\\n          <ul class=\"format\">\\n            <li class=\"pdf\">PDF</li>\\n          </ul>\\n          <ul class=\"date\">\\n            <li class=\"notice\"><time datetime=\"2016-7-23\" itemprop=\"datePublished\" class=\"published\">2016\\xe5\\xb9\\xb47\\xe6\\x9c\\x8823\\xe6\\x97\\xa5</time></li>\\n            \\n          </ul>\\n        </a></li>        <li class=\"new\" id=\"978-4-7741-8338-1\"><a itemprop=\"url\" href=\"/dp/ebook/2016/978-4-7741-8338-1\">\\n          <img itemprop=\"image\" src=\"/assets/images/dummy.png\" width=\"100\" height=\"144\" data-image=\"/assets/images/gdp/2016/thumb/TH100_978-4-7741-8338-1.jpg,/assets/images/gdp/2016/thumb/TH200_978-4-7741-8338-1.jpg\" alt=\"\\xe3\\x82\\xab\\xe3\\x83\\x90\\xe3\\x83\\xbc\\xe7\\x94\\xbb\\xe5\\x83\\x8f\"/>\\n          <p itemprop=\"name\" class=\"title\"><span class=\"series\">\\xe5\\xa4\\xa7\\xe4\\xba\\xba\\xe3\\x81\\xae\\xe8\\x87\\xaa\\xe7\\x94\\xb1\\xe6\\x99\\x82\\xe9\\x96\\x93<wbr/>\\xef\\xbc\\x88\\xe5\\xa4\\xa7\\xe4\\xba\\xba\\xe3\\x81\\xae\\xe8\\x87\\xaa\\xe7\\x94\\xb1\\xe6\\x99\\x82\\xe9\\x96\\x93<wbr/>mini\\xef\\xbc\\x89</span> \\xe6\\xb0\\xb4\\xe6\\xb3\\xb3\\xe3\\x81\\xae\\xe3\\x81\\x8d\\xe3\\x82\\x8c\\xe3\\x81\\x84\\xe3\\x81\\xaa\\xe3\\x82\\xab\\xe3\\x83\\xa9\\xe3\\x83\\x80\\xe3\\x82\\x92\\xe3\\x81\\xa4\\xe3\\x81\\x8f\\xe3\\x82\\x8b<br/><span class=\"sub\">\\xef\\xbd\\x9e\\xe3\\x82\\xb9\\xe3\\x83\\xaa\\xe3\\x83\\xa0\\xe3\\x81\\xaa\\xe9\\x80\\x86\\xe4\\xb8\\x89\\xe8\\xa7\\x92\\xe5\\xbd\\xa2\\xe3\\x81\\xab\\xe3\\x81\\xaa\\xe3\\x82\\x8b\\xef\\xbc\\x81\\xe3\\x83\\x89\\xe3\\x83\\xa9\\xe3\\x82\\xa4\\xe3\\x83\\xa9\\xe3\\x83\\xb3\\xe3\\x83\\x89\\xe3\\x83\\x88\\xe3\\x83\\xac\\xe3\\x83\\xbc\\xe3\\x83\\x8b\\xe3\\x83\\xb3\\xe3\\x82\\xb0</span></p>\\n          <p itemprop=\"author\" class=\"author\">\\xe9\\xab\\x99\\xe6\\xa9\\x8b\\xe9\\x9b\\x84\\xe4\\xbb\\x8b\\xe3\\x80\\x80\\xe8\\x91\\x97</p>\\n          <p itemprop=\"offers\" itemscope=\"itemscope\" itemtype=\"http://schema.org/Offer\" class=\"price\"><span itemprop=\"price\">1,280</span>\\xe5\\x86\\x86<meta itemprop=\"priceCurrency\" content=\"JPY\"/></p>\\n          <ul class=\"format\">\\n            <li class=\"pdf\">PDF</li>\\n          </ul>\\n          <ul class=\"date\">\\n            <li class=\"notice\"><time datetime=\"2016-7-23\" itemprop=\"datePublished\" class=\"published\">2016\\xe5\\xb9\\xb47\\xe6\\x9c\\x8823\\xe6\\x97\\xa5</time></li>\\n            \\n          </ul>\\n        </a></li>        <li class=\"new\" id=\"978-4-7741-8346-6\"><a itemprop=\"url\" href=\"/dp/ebook/2016/978-4-7741-8346-6\">\\n          <img itemprop=\"image\" src=\"/assets/images/dummy.png\" width=\"100\" height=\"133\" data-image=\"/assets/images/gdp/2016/thumb/TH100_978-4-7741-8346-6.jpg,/assets/images/gdp/2016/thumb/TH200_978-4-7741-8346-6.jpg\" alt=\"\\xe3\\x82\\xab\\xe3\\x83\\x90\\xe3\\x83\\xbc\\xe7\\x94\\xbb\\xe5\\x83\\x8f\"/>\\n          <p itemprop=\"name\" class=\"title\"><span class=\"series\">30<wbr/>\\xe3\\x83\\xac\\xe3\\x83\\x83\\xe3\\x82\\xb9\\xe3\\x83\\xb3</span> 30<wbr/>\\xe3\\x83\\xac\\xe3\\x83\\x83\\xe3\\x82\\xb9\\xe3\\x83\\xb3\\xe3\\x81\\xa7\\xe7\\xb5\\xb6\\xe5\\xaf\\xbe\\xe5\\x90\\x88\\xe6\\xa0\\xbc\\xef\\xbc\\x81 Microsoft Office Specialist PowerPoint 2013 \\xe3\\x83\\x86\\xe3\\x82\\xad\\xe3\\x82\\xb9\\xe3\\x83\\x88\\xef\\xbc\\x8b\\xe5\\x95\\x8f\\xe9\\xa1\\x8c\\xe9\\x9b\\x86</p>\\n          <p itemprop=\"author\" class=\"author\">\\xe6\\x9c\\xac\\xe9\\x83\\xb7PC\\xe5\\xa1\\xbe\\xe3\\x80\\x80\\xe8\\x91\\x97</p>\\n          <p itemprop=\"offers\" itemscope=\"itemscope\" itemtype=\"http://schema.org/Offer\" class=\"price\"><span itemprop=\"price\">1,980</span>\\xe5\\x86\\x86<meta itemprop=\"priceCurrency\" content=\"JPY\"/></p>\\n          <ul class=\"format\">\\n            <li class=\"pdf\">PDF</li>\\n          </ul>\\n          <ul class=\"date\">\\n            <li class=\"notice\"><time datetime=\"2016-7-22\" itemprop=\"datePublished\" class=\"published\">2016\\xe5\\xb9\\xb47\\xe6\\x9c\\x8822\\xe6\\x97\\xa5</time></li>\\n            \\n          </ul>\\n        </a></li>        <li class=\"new\" id=\"978-4-7741-8334-3\"><a itemprop=\"url\" href=\"/dp/ebook/2016/978-4-7741-8334-3\">\\n          <img itemprop=\"image\" src=\"/assets/images/dummy.png\" width=\"100\" height=\"147\" data-image=\"/assets/images/gdp/2016/thumb/TH100_978-4-7741-8334-3.jpg,/assets/images/gdp/2016/thumb/TH200_978-4-7741-8334-3.jpg\" alt=\"\\xe3\\x82\\xab\\xe3\\x83\\x90\\xe3\\x83\\xbc\\xe7\\x94\\xbb\\xe5\\x83\\x8f\"/>\\n          <p itemprop=\"name\" class=\"title\"><span class=\"series\">\\xe3\\x82\\xbc\\xe3\\x83\\xad\\xe3\\x81\\x8b\\xe3\\x82\\x89\\xe3\\x81\\xaf\\xe3\\x81\\x98\\xe3\\x82\\x81\\xe3\\x82\\x8b</span> \\xe3\\x82\\xbc\\xe3\\x83\\xad\\xe3\\x81\\x8b\\xe3\\x82\\x89\\xe3\\x81\\xaf\\xe3\\x81\\x98\\xe3\\x82\\x81\\xe3\\x82\\x8b<br/>\\xe6\\xb5\\xb7\\xe5\\xa4\\x96\\xe6\\x97\\x85\\xe8\\xa1\\x8c\\xe3\\x81\\xa7\\xe3\\x82\\xb9\\xe3\\x83\\x9e\\xe3\\x83\\x9b\\xe6\\xb4\\xbb\\xe7\\x94\\xa8 \\xe3\\x82\\xb9\\xe3\\x83\\x9e\\xe3\\x83\\xbc\\xe3\\x83\\x88\\xe3\\x82\\xac\\xe3\\x82\\xa4\\xe3\\x83\\x89</p>\\n          <p itemprop=\"author\" class=\"author\">\\xe5\\xb1\\xb1\\xe8\\xb0\\xb7\\xe5\\x89\\x9b\\xe5\\x8f\\xb2\\xef\\xbc\\x8c<wbr/>\\xe7\\x94\\xb0\\xe5\\x8f\\xa3\\xe5\\x92\\x8c\\xe8\\xa3\\x95\\xef\\xbc\\x8c<wbr/>\\xe3\\x82\\xbf\\xe3\\x83\\x88\\xe3\\x83\\xa9\\xe3\\x82\\xa8\\xe3\\x83\\x87\\xe3\\x82\\xa3\\xe3\\x83\\x83\\xe3\\x83\\x88\\xe3\\x80\\x80\\xe8\\x91\\x97</p>\\n          <p itemprop=\"offers\" itemscope=\"itemscope\" itemtype=\"http://schema.org/Offer\" class=\"price\"><span itemprop=\"price\">1,380</span>\\xe5\\x86\\x86<meta itemprop=\"priceCurrency\" content=\"JPY\"/></p>\\n          <ul class=\"format\">\\n            <li class=\"pdf\">PDF</li>\\n          </ul>\\n          <ul class=\"date\">\\n            <li class=\"notice\"><time datetime=\"2016-7-22\" itemprop=\"datePublished\" class=\"published\">2016\\xe5\\xb9\\xb47\\xe6\\x9c\\x8822\\xe6\\x97\\xa5</time></li>\\n            \\n          </ul>\\n        </a></li>        <li class=\"new\" id=\"978-4-7741-8335-0\"><a itemprop=\"url\" href=\"/dp/ebook/2016/978-4-7741-8335-0\">\\n          <img itemprop=\"image\" src=\"/assets/images/dummy.png\" width=\"100\" height=\"157\" data-image=\"/assets/images/gdp/2016/thumb/TH100_978-4-7741-8335-0.jpg,/assets/images/gdp/2016/thumb/TH200_978-4-7741-8335-0.jpg\" alt=\"\\xe3\\x82\\xab\\xe3\\x83\\x90\\xe3\\x83\\xbc\\xe7\\x94\\xbb\\xe5\\x83\\x8f\"/>\\n          <p itemprop=\"name\" class=\"title\"><span class=\"series\">\\xe4\\xbb\\x8a\\xe3\\x81\\x99\\xe3\\x81\\x90\\xe4\\xbd\\xbf\\xe3\\x81\\x88\\xe3\\x82\\x8b\\xe3\\x81\\x8b\\xe3\\x82\\x93\\xe3\\x81\\x9f\\xe3\\x82\\x93<wbr/>mini</span> \\xe4\\xbb\\x8a\\xe3\\x81\\x99\\xe3\\x81\\x90\\xe4\\xbd\\xbf\\xe3\\x81\\x88\\xe3\\x82\\x8b\\xe3\\x81\\x8b\\xe3\\x82\\x93\\xe3\\x81\\x9f\\xe3\\x82\\x93mini<br/>CD&amp;DVD \\xe4\\xbd\\x9c\\xe6\\x88\\x90\\xe8\\xb6\\x85\\xe5\\x85\\xa5\\xe9\\x96\\x80<br/><span class=\"sub\">\\xef\\xbc\\xbbWindows 10<wbr/>\\xe5\\xaf\\xbe\\xe5\\xbf\\x9c\\xe7\\x89\\x88\\xef\\xbc\\xbd</span></p>\\n          <p itemprop=\"author\" class=\"author\">\\xe3\\x82\\xaa\\xe3\\x83\\xb3\\xe3\\x82\\xb5\\xe3\\x82\\xa4\\xe3\\x83\\x88\\xe3\\x80\\x80\\xe8\\x91\\x97</p>\\n          <p itemprop=\"offers\" itemscope=\"itemscope\" itemtype=\"http://schema.org/Offer\" class=\"price\"><span itemprop=\"price\">1,080</span>\\xe5\\x86\\x86<meta itemprop=\"priceCurrency\" content=\"JPY\"/></p>\\n          <ul class=\"format\">\\n            <li class=\"pdf\">PDF</li>\\n          </ul>\\n          <ul class=\"date\">\\n            <li class=\"notice\"><time datetime=\"2016-7-22\" itemprop=\"datePublished\" class=\"published\">2016\\xe5\\xb9\\xb47\\xe6\\x9c\\x8822\\xe6\\x97\\xa5</time></li>\\n            \\n          </ul>\\n        </a></li>        <li class=\"new\" id=\"978-4-7741-8325-1\"><a itemprop=\"url\" href=\"/dp/ebook/2016/978-4-7741-8325-1\">\\n          <img itemprop=\"image\" src=\"/assets/images/dummy.png\" width=\"100\" height=\"133\" data-image=\"/assets/images/gdp/2016/thumb/TH100_978-4-7741-8325-1.jpg,/assets/images/gdp/2016/thumb/TH200_978-4-7741-8325-1.jpg\" alt=\"\\xe3\\x82\\xab\\xe3\\x83\\x90\\xe3\\x83\\xbc\\xe7\\x94\\xbb\\xe5\\x83\\x8f\"/>\\n          <p itemprop=\"name\" class=\"title\"><span class=\"series\">\\xe5\\xa4\\xa7\\xe3\\x81\\x8d\\xe3\\x81\\xaa\\xe5\\xad\\x97\\xe3\\x81\\xa7\\xe3\\x82\\x8f\\xe3\\x81\\x8b\\xe3\\x82\\x8a\\xe3\\x82\\x84\\xe3\\x81\\x99\\xe3\\x81\\x84</span> \\xe5\\xa4\\xa7\\xe3\\x81\\x8d\\xe3\\x81\\xaa\\xe5\\xad\\x97\\xe3\\x81\\xa7\\xe3\\x82\\x8f\\xe3\\x81\\x8b\\xe3\\x82\\x8a\\xe3\\x82\\x84\\xe3\\x81\\x99\\xe3\\x81\\x84<br/>\\xe3\\x83\\xaf\\xe3\\x83\\xbc\\xe3\\x83\\x89<wbr/>2016<wbr/>\\xe5\\x85\\xa5\\xe9\\x96\\x80</p>\\n          <p itemprop=\"author\" class=\"author\">AYURA\\xe3\\x80\\x80\\xe8\\x91\\x97</p>\\n          <p itemprop=\"offers\" itemscope=\"itemscope\" itemtype=\"http://schema.org/Offer\" class=\"price\"><span itemprop=\"price\">980</span>\\xe5\\x86\\x86<meta itemprop=\"priceCurrency\" content=\"JPY\"/></p>\\n          <ul class=\"format\">\\n            <li class=\"pdf\">PDF</li>\\n          </ul>\\n          <ul class=\"date\">\\n            <li><time datetime=\"2016-7-20\" itemprop=\"datePublished\" class=\"published\">2016\\xe5\\xb9\\xb47\\xe6\\x9c\\x8820\\xe6\\x97\\xa5</time></li>\\n            \\n          </ul>\\n        </a></li>        <li class=\"new\" id=\"978-4-7741-8322-0\"><a itemprop=\"url\" href=\"/dp/ebook/2016/978-4-7741-8322-0\">\\n          <img itemprop=\"image\" src=\"/assets/images/dummy.png\" width=\"100\" height=\"133\" data-image=\"/assets/images/gdp/2016/thumb/TH100_978-4-7741-8322-0.jpg,/assets/images/gdp/2016/thumb/TH200_978-4-7741-8322-0.jpg\" alt=\"\\xe3\\x82\\xab\\xe3\\x83\\x90\\xe3\\x83\\xbc\\xe7\\x94\\xbb\\xe5\\x83\\x8f\"/>\\n          <p itemprop=\"name\" class=\"title\"><span class=\"series\">\\xe5\\xa4\\xa7\\xe3\\x81\\x8d\\xe3\\x81\\xaa\\xe5\\xad\\x97\\xe3\\x81\\xa7\\xe3\\x82\\x8f\\xe3\\x81\\x8b\\xe3\\x82\\x8a\\xe3\\x82\\x84\\xe3\\x81\\x99\\xe3\\x81\\x84</span> \\xe5\\xa4\\xa7\\xe3\\x81\\x8d\\xe3\\x81\\xaa\\xe5\\xad\\x97\\xe3\\x81\\xa7\\xe3\\x82\\x8f\\xe3\\x81\\x8b\\xe3\\x82\\x8a\\xe3\\x82\\x84\\xe3\\x81\\x99\\xe3\\x81\\x84<br/>\\xe3\\x82\\xa8\\xe3\\x82\\xaf\\xe3\\x82\\xbb\\xe3\\x83\\xab<wbr/>2016 \\xe5\\x85\\xa5\\xe9\\x96\\x80</p>\\n          <p itemprop=\"author\" class=\"author\">AYURA\\xe3\\x80\\x80\\xe8\\x91\\x97</p>\\n          <p itemprop=\"offers\" itemscope=\"itemscope\" itemtype=\"http://schema.org/Offer\" class=\"price\"><span itemprop=\"price\">980</span>\\xe5\\x86\\x86<meta itemprop=\"priceCurrency\" content=\"JPY\"/></p>\\n          <ul class=\"format\">\\n            <li class=\"pdf\">PDF</li>\\n          </ul>\\n          <ul class=\"date\">\\n            <li><time datetime=\"2016-7-20\" itemprop=\"datePublished\" class=\"published\">2016\\xe5\\xb9\\xb47\\xe6\\x9c\\x8820\\xe6\\x97\\xa5</time></li>\\n            \\n          </ul>\\n        </a></li>        <li class=\"new\" id=\"978-4-7741-8323-7\"><a itemprop=\"url\" href=\"/dp/ebook/2016/978-4-7741-8323-7\">\\n          <img itemprop=\"image\" src=\"/assets/images/dummy.png\" width=\"100\" height=\"128\" data-image=\"/assets/images/gdp/2016/thumb/TH100_978-4-7741-8323-7.jpg,/assets/images/gdp/2016/thumb/TH200_978-4-7741-8323-7.jpg\" alt=\"\\xe3\\x82\\xab\\xe3\\x83\\x90\\xe3\\x83\\xbc\\xe7\\x94\\xbb\\xe5\\x83\\x8f\"/>\\n          <p itemprop=\"name\" class=\"title\"><span class=\"series\">\\xe4\\xbb\\x8a\\xe3\\x81\\x99\\xe3\\x81\\x90\\xe4\\xbd\\xbf\\xe3\\x81\\x88\\xe3\\x82\\x8b\\xe3\\x81\\x8b\\xe3\\x82\\x93\\xe3\\x81\\x9f\\xe3\\x82\\x93</span> \\xe4\\xbb\\x8a\\xe3\\x81\\x99\\xe3\\x81\\x90\\xe4\\xbd\\xbf\\xe3\\x81\\x88\\xe3\\x82\\x8b\\xe3\\x81\\x8b\\xe3\\x82\\x93\\xe3\\x81\\x9f\\xe3\\x82\\x93<br/>\\xe3\\x81\\x9c\\xe3\\x81\\xa3\\xe3\\x81\\x9f\\xe3\\x81\\x84\\xe3\\x83\\x87\\xe3\\x82\\xad\\xe3\\x81\\xbe\\xe3\\x81\\x99\\xef\\xbc\\x81 \\xe3\\x83\\x87\\xe3\\x82\\xb8\\xe3\\x82\\xab\\xe3\\x83\\xa1\\xe5\\x86\\x99\\xe7\\x9c\\x9f\\xe6\\xb4\\xbb\\xe7\\x94\\xa8\\xe8\\xa1\\x93<br/><span class=\"sub\">\\xef\\xbc\\xbbWindows 10<wbr/>\\xe5\\xaf\\xbe\\xe5\\xbf\\x9c\\xe7\\x89\\x88\\xef\\xbc\\xbd</span></p>\\n          <p itemprop=\"author\" class=\"author\">\\xe4\\xba\\x95\\xe4\\xb8\\x8a\\xe9\\xa6\\x99\\xe7\\xb7\\x92\\xe9\\x87\\x8c\\xe3\\x80\\x80\\xe8\\x91\\x97</p>\\n          <p itemprop=\"offers\" itemscope=\"itemscope\" itemtype=\"http://schema.org/Offer\" class=\"price\"><span itemprop=\"price\">1,480</span>\\xe5\\x86\\x86<meta itemprop=\"priceCurrency\" content=\"JPY\"/></p>\\n          <ul class=\"format\">\\n            <li class=\"pdf\">PDF</li>\\n          </ul>\\n          <ul class=\"date\">\\n            <li><time datetime=\"2016-7-16\" itemprop=\"datePublished\" class=\"published\">2016\\xe5\\xb9\\xb47\\xe6\\x9c\\x8816\\xe6\\x97\\xa5</time></li>\\n            \\n          </ul>\\n        </a></li>        <li class=\"new\" id=\"978-4-7741-8119-6\"><a itemprop=\"url\" href=\"/dp/ebook/2016/978-4-7741-8119-6\">\\n          <img itemprop=\"image\" src=\"/assets/images/dummy.png\" width=\"100\" height=\"141\" data-image=\"/assets/images/gdp/2016/thumb/TH100_978-4-7741-8119-6.jpg,/assets/images/gdp/2016/thumb/TH200_978-4-7741-8119-6.jpg\" alt=\"\\xe3\\x82\\xab\\xe3\\x83\\x90\\xe3\\x83\\xbc\\xe7\\x94\\xbb\\xe5\\x83\\x8f\"/>\\n          <p itemprop=\"name\" class=\"title\">Software Design 2016<wbr/>\\xe5\\xb9\\xb4<wbr/>8<wbr/>\\xe6\\x9c\\x88\\xe5\\x8f\\xb7</p>\\n          <p itemprop=\"author\" class=\"author\"></p>\\n          <p itemprop=\"offers\" itemscope=\"itemscope\" itemtype=\"http://schema.org/Offer\" class=\"price\"><span itemprop=\"price\">1,318</span>\\xe5\\x86\\x86<meta itemprop=\"priceCurrency\" content=\"JPY\"/></p>\\n          <ul class=\"format\">\\n            <li class=\"pdf\">PDF</li>\\n          </ul>\\n          <ul class=\"date\">\\n            <li><time datetime=\"2016-7-16\" itemprop=\"datePublished\" class=\"published\">2016\\xe5\\xb9\\xb47\\xe6\\x9c\\x8816\\xe6\\x97\\xa5</time></li>\\n            \\n          </ul>\\n        </a></li>        <li class=\"new\" id=\"978-4-7741-8333-6\"><a itemprop=\"url\" href=\"/dp/ebook/2016/978-4-7741-8333-6\">\\n          <img itemprop=\"image\" src=\"/assets/images/dummy.png\" width=\"100\" height=\"126\" data-image=\"/assets/images/gdp/2016/thumb/TH100_978-4-7741-8333-6.jpg,/assets/images/gdp/2016/thumb/TH200_978-4-7741-8333-6.jpg\" alt=\"\\xe3\\x82\\xab\\xe3\\x83\\x90\\xe3\\x83\\xbc\\xe7\\x94\\xbb\\xe5\\x83\\x8f\"/>\\n          <p itemprop=\"name\" class=\"title\">\\xe7\\x84\\xa1\\xe6\\x96\\x99\\xe3\\x81\\xa7\\xe3\\x81\\xaf\\xe3\\x81\\x98\\xe3\\x82\\x81\\xe3\\x82\\x8b<wbr/>Blender CG<wbr/>\\xe3\\x82\\xa4\\xe3\\x83\\xa9\\xe3\\x82\\xb9\\xe3\\x83\\x88\\xe3\\x83\\x86\\xe3\\x82\\xaf\\xe3\\x83\\x8b\\xe3\\x83\\x83\\xe3\\x82\\xaf<br/><span class=\"sub\">\\xef\\xbd\\x9e<wbr/>3DCG<wbr/>\\xe3\\x81\\xae\\xe8\\x80\\x83\\xe3\\x81\\x88\\xe6\\x96\\xb9\\xe3\\x81\\xa8\\xe3\\x81\\x97\\xe3\\x81\\x8f\\xe3\\x81\\xbf\\xe3\\x81\\x8c\\xe3\\x81\\x97\\xe3\\x81\\xa3\\xe3\\x81\\x8b\\xe3\\x82\\x8a\\xe3\\x82\\x8f\\xe3\\x81\\x8b\\xe3\\x82\\x8b</span></p>\\n          <p itemprop=\"author\" class=\"author\">\\xe5\\xa4\\xa7\\xe6\\xbe\\xa4\\xe9\\xbe\\x8d\\xe4\\xb8\\x80\\xe3\\x80\\x80\\xe8\\x91\\x97</p>\\n          <p itemprop=\"offers\" itemscope=\"itemscope\" itemtype=\"http://schema.org/Offer\" class=\"price\"><span itemprop=\"price\">2,680</span>\\xe5\\x86\\x86<meta itemprop=\"priceCurrency\" content=\"JPY\"/></p>\\n          <ul class=\"format\">\\n            <li class=\"pdf\">PDF</li>\\n          </ul>\\n          <ul class=\"date\">\\n            <li><time datetime=\"2016-7-16\" itemprop=\"datePublished\" class=\"published\">2016\\xe5\\xb9\\xb47\\xe6\\x9c\\x8816\\xe6\\x97\\xa5</time></li>\\n            \\n          </ul>\\n        </a></li>        <li class=\"new\" id=\"978-4-7741-8324-4\"><a itemprop=\"url\" href=\"/dp/ebook/2016/978-4-7741-8324-4\">\\n          <img itemprop=\"image\" src=\"/assets/images/dummy.png\" width=\"100\" height=\"127\" data-image=\"/assets/images/gdp/2016/thumb/TH100_978-4-7741-8324-4.jpg,/assets/images/gdp/2016/thumb/TH200_978-4-7741-8324-4.jpg\" alt=\"\\xe3\\x82\\xab\\xe3\\x83\\x90\\xe3\\x83\\xbc\\xe7\\x94\\xbb\\xe5\\x83\\x8f\"/>\\n          <p itemprop=\"name\" class=\"title\">\\xe5\\xb0\\x8f\\xe3\\x81\\x95\\xe3\\x81\\xaa\\xe3\\x81\\x8a\\xe5\\xba\\x97\\xef\\xbc\\x86<wbr/>\\xe4\\xbc\\x9a\\xe7\\xa4\\xbe\\xe3\\x81\\xae WordPress<wbr/>\\xe8\\xb6\\x85\\xe5\\x85\\xa5\\xe9\\x96\\x80<br/><span class=\"sub\">\\xe2\\x80\\x95\\xe5\\x88\\x9d\\xe3\\x82\\x81\\xe3\\x81\\xa6\\xe3\\x81\\xa7\\xe3\\x82\\x82\\xe5\\xae\\x89\\xe5\\xbf\\x83\\xef\\xbc\\x81\\xe6\\x80\\x9d\\xe3\\x81\\x84\\xe3\\x81\\xa9\\xe3\\x81\\x8a\\xe3\\x82\\x8a\\xe3\\x81\\xae\\xe3\\x83\\x9b\\xe3\\x83\\xbc\\xe3\\x83\\xa0\\xe3\\x83\\x9a\\xe3\\x83\\xbc\\xe3\\x82\\xb8\\xe3\\x82\\x92\\xe4\\xbd\\x9c\\xe3\\x82\\x8d\\xe3\\x81\\x86\\xef\\xbc\\x81</span></p>\\n          <p itemprop=\"author\" class=\"author\">\\xe6\\x98\\x9f\\xe9\\x87\\x8e\\xe9\\x82\\xa6\\xe6\\x95\\x8f\\xef\\xbc\\x8c<wbr/>\\xe5\\xa4\\xa7\\xe8\\x83\\xa1\\xe7\\x94\\xb1\\xe7\\xb4\\x80\\xef\\xbc\\x8c<wbr/>\\xe5\\x90\\x89\\xe7\\x94\\xb0\\xe8\\xa3\\x95\\xe4\\xbb\\x8b\\xef\\xbc\\x8c<wbr/>\\xe7\\xbe\\xbd\\xe9\\x87\\x8e\\xe3\\x82\\x81\\xe3\\x81\\x90\\xe3\\x81\\xbf\\xef\\xbc\\x8c<wbr/>\\xe3\\x83\\xaa\\xe3\\x83\\x96\\xe3\\x83\\xad\\xe3\\x83\\xaf\\xe3\\x83\\xbc\\xe3\\x82\\xaf\\xe3\\x82\\xb9\\xe3\\x80\\x80\\xe8\\x91\\x97</p>\\n          <p itemprop=\"offers\" itemscope=\"itemscope\" itemtype=\"http://schema.org/Offer\" class=\"price\"><span itemprop=\"price\">1,980</span>\\xe5\\x86\\x86<meta itemprop=\"priceCurrency\" content=\"JPY\"/></p>\\n          <ul class=\"format\">\\n            <li class=\"pdf\">PDF</li><li class=\"epub\">EPUB</li>\\n          </ul>\\n          <ul class=\"date\">\\n            <li><time datetime=\"2016-7-15\" itemprop=\"datePublished\" class=\"published\">2016\\xe5\\xb9\\xb47\\xe6\\x9c\\x8815\\xe6\\x97\\xa5</time></li>\\n            \\n          </ul>\\n        </a></li>        <li id=\"978-4-7741-8302-2\"><a itemprop=\"url\" href=\"/dp/ebook/2016/978-4-7741-8302-2\">\\n          <img itemprop=\"image\" src=\"/assets/images/dummy.png\" width=\"100\" height=\"142\" data-image=\"/assets/images/gdp/2016/thumb/TH100_978-4-7741-8302-2.jpg,/assets/images/gdp/2016/thumb/TH200_978-4-7741-8302-2.jpg\" alt=\"\\xe3\\x82\\xab\\xe3\\x83\\x90\\xe3\\x83\\xbc\\xe7\\x94\\xbb\\xe5\\x83\\x8f\"/>\\n          <p itemprop=\"name\" class=\"title\"><span class=\"series\">WEB+DB PRESS plus</span> Atom<wbr/>\\xe5\\xae\\x9f\\xe8\\xb7\\xb5\\xe5\\x85\\xa5\\xe9\\x96\\x80<br/><span class=\"sub\">\\xe2\\x94\\x80\\xe2\\x94\\x80\\xe9\\x80\\xb2\\xe5\\x8c\\x96\\xe3\\x81\\x97\\xe7\\xb6\\x9a\\xe3\\x81\\x91\\xe3\\x82\\x8b\\xe3\\x83\\x8f\\xe3\\x83\\x83\\xe3\\x82\\xab\\xe3\\x83\\x96\\xe3\\x83\\xab\\xe3\\x81\\xaa\\xe3\\x82\\xa8\\xe3\\x83\\x87\\xe3\\x82\\xa3\\xe3\\x82\\xbf</span></p>\\n          <p itemprop=\"author\" class=\"author\">\\xe5\\xa4\\xa7\\xe7\\xab\\xb9\\xe6\\x99\\xba\\xe4\\xb9\\x9f\\xe3\\x80\\x80\\xe8\\x91\\x97</p>\\n          <p itemprop=\"offers\" itemscope=\"itemscope\" itemtype=\"http://schema.org/Offer\" class=\"price\"><span itemprop=\"price\">2,680</span>\\xe5\\x86\\x86<meta itemprop=\"priceCurrency\" content=\"JPY\"/></p>\\n          <ul class=\"format\">\\n            <li class=\"pdf\">PDF</li><li class=\"epub\">EPUB</li>\\n          </ul>\\n          <ul class=\"date\">\\n            <li><time datetime=\"2016-7-14\" itemprop=\"datePublished\" class=\"published\">2016\\xe5\\xb9\\xb47\\xe6\\x9c\\x8814\\xe6\\x97\\xa5</time></li>\\n            \\n          </ul>\\n        </a></li>        <li id=\"978-4-7741-8301-5\"><a itemprop=\"url\" href=\"/dp/ebook/2016/978-4-7741-8301-5\">\\n          <img itemprop=\"image\" src=\"/assets/images/dummy.png\" width=\"100\" height=\"142\" data-image=\"/assets/images/gdp/2016/thumb/TH100_978-4-7741-8301-5.jpg,/assets/images/gdp/2016/thumb/TH200_978-4-7741-8301-5.jpg\" alt=\"\\xe3\\x82\\xab\\xe3\\x83\\x90\\xe3\\x83\\xbc\\xe7\\x94\\xbb\\xe5\\x83\\x8f\"/>\\n          <p itemprop=\"name\" class=\"title\">\\xe3\\x82\\xa2\\xe3\\x82\\xa6\\xe3\\x83\\x88\\xe3\\x83\\xa9\\xe3\\x82\\xa4\\xe3\\x83\\x8a\\xe3\\x83\\xbc\\xe5\\xae\\x9f\\xe8\\xb7\\xb5\\xe5\\x85\\xa5\\xe9\\x96\\x80<br/><span class=\"sub\">\\xef\\xbd\\x9e<wbr/>\\xe3\\x80\\x8c\\xe6\\x9b\\xb8\\xe3\\x81\\x8f\\xe3\\x83\\xbb<wbr/>\\xe8\\x80\\x83\\xe3\\x81\\x88\\xe3\\x82\\x8b\\xe3\\x83\\xbb<wbr/>\\xe7\\x94\\x9f\\xe6\\xb4\\xbb\\xe3\\x81\\x99\\xe3\\x82\\x8b\\xe3\\x80\\x8d<wbr/>\\xe5\\x89\\xb5\\xe9\\x80\\xa0\\xe7\\x9a\\x84\\xe3\\x82\\xa2\\xe3\\x82\\xa6\\xe3\\x83\\x88\\xe3\\x83\\xa9\\xe3\\x82\\xa4\\xe3\\x83\\xb3\\xe3\\x83\\xbb<wbr/>\\xe3\\x83\\x97\\xe3\\x83\\xad\\xe3\\x82\\xbb\\xe3\\x83\\x83\\xe3\\x82\\xb7\\xe3\\x83\\xb3\\xe3\\x82\\xb0\\xe3\\x81\\xae\\xe6\\x8a\\x80\\xe8\\xa1\\x93\\xe3\\x80\\x9c</span></p>\\n          <p itemprop=\"author\" class=\"author\">Tak.\\xe3\\x80\\x80\\xe8\\x91\\x97</p>\\n          <p itemprop=\"offers\" itemscope=\"itemscope\" itemtype=\"http://schema.org/Offer\" class=\"price\"><span itemprop=\"price\">1,980</span>\\xe5\\x86\\x86<meta itemprop=\"priceCurrency\" content=\"JPY\"/></p>\\n          <ul class=\"format\">\\n            <li class=\"pdf\">PDF</li><li class=\"epub\">EPUB</li>\\n          </ul>\\n          <ul class=\"date\">\\n            <li><time datetime=\"2016-7-09\" itemprop=\"datePublished\" class=\"published\">2016\\xe5\\xb9\\xb47\\xe6\\x9c\\x889\\xe6\\x97\\xa5</time></li>\\n            \\n          </ul>\\n        </a></li>        <li id=\"978-4-7741-8297-1\"><a itemprop=\"url\" href=\"/dp/ebook/2016/978-4-7741-8297-1\">\\n          <img itemprop=\"image\" src=\"/assets/images/dummy.png\" width=\"100\" height=\"152\" data-image=\"/assets/images/gdp/2016/thumb/TH100_978-4-7741-8297-1.jpg,/assets/images/gdp/2016/thumb/TH200_978-4-7741-8297-1.jpg\" alt=\"\\xe3\\x82\\xab\\xe3\\x83\\x90\\xe3\\x83\\xbc\\xe7\\x94\\xbb\\xe5\\x83\\x8f\"/>\\n          <p itemprop=\"name\" class=\"title\"><span class=\"series\">\\xe3\\x82\\xbc\\xe3\\x83\\xad\\xe3\\x81\\x8b\\xe3\\x82\\x89\\xe3\\x81\\xaf\\xe3\\x81\\x98\\xe3\\x82\\x81\\xe3\\x82\\x8b</span> \\xe3\\x82\\xbc\\xe3\\x83\\xad\\xe3\\x81\\x8b\\xe3\\x82\\x89\\xe3\\x81\\xaf\\xe3\\x81\\x98\\xe3\\x82\\x81\\xe3\\x82\\x8b<br/>\\xe3\\x83\\x89\\xe3\\x82\\xb3\\xe3\\x83\\xa2<wbr/>Galaxy S7 edge SC-02H \\xe3\\x82\\xb9\\xe3\\x83\\x9e\\xe3\\x83\\xbc\\xe3\\x83\\x88\\xe3\\x82\\xac\\xe3\\x82\\xa4\\xe3\\x83\\x89</p>\\n          <p itemprop=\"author\" class=\"author\">\\xe6\\x8a\\x80\\xe8\\xa1\\x93\\xe8\\xa9\\x95\\xe8\\xab\\x96\\xe7\\xa4\\xbe\\xe7\\xb7\\xa8\\xe9\\x9b\\x86\\xe9\\x83\\xa8\\xe3\\x80\\x80\\xe8\\x91\\x97</p>\\n          <p itemprop=\"offers\" itemscope=\"itemscope\" itemtype=\"http://schema.org/Offer\" class=\"price\"><span itemprop=\"price\">1,380</span>\\xe5\\x86\\x86<meta itemprop=\"priceCurrency\" content=\"JPY\"/></p>\\n          <ul class=\"format\">\\n            <li class=\"pdf\">PDF</li>\\n          </ul>\\n          <ul class=\"date\">\\n            <li><time datetime=\"2016-7-08\" itemprop=\"datePublished\" class=\"published\">2016\\xe5\\xb9\\xb47\\xe6\\x9c\\x888\\xe6\\x97\\xa5</time></li>\\n            \\n          </ul>\\n        </a></li>        <li id=\"978-4-7741-8255-9\"><a itemprop=\"url\" href=\"/dp/ebook/2016/978-4-7741-8255-9\">\\n          <img itemprop=\"image\" src=\"/assets/images/dummy.png\" width=\"100\" height=\"141\" data-image=\"/assets/images/gdp/2016/thumb/TH100_978-4-7741-8255-9.jpg,/assets/images/gdp/2016/thumb/TH200_978-4-7741-8255-9.jpg\" alt=\"\\xe3\\x82\\xab\\xe3\\x83\\x90\\xe3\\x83\\xbc\\xe7\\x94\\xbb\\xe5\\x83\\x8f\"/>\\n          <p itemprop=\"name\" class=\"title\">Excel<wbr/>\\xe3\\x81\\xae\\xe3\\x83\\xa0\\xe3\\x82\\xab\\xe3\\x83\\xa0\\xe3\\x82\\xab\\xef\\xbc\\x81\\xe3\\x81\\x8c\\xe4\\xb8\\x80\\xe7\\x9e\\xac\\xe3\\x81\\xa7\\xe3\\x81\\xaa\\xe3\\x81\\x8f\\xe3\\x81\\xaa\\xe3\\x82\\x8b\\xe4\\xbd\\xbf\\xe3\\x81\\x84\\xe6\\x96\\xb9<br/><span class=\"sub\">\\xef\\xbd\\x9e\\xe8\\xa1\\xa8\\xe8\\xa8\\x88\\xe7\\xae\\x97\\xe3\\x83\\xbb<wbr/>\\xe8\\xb3\\x87\\xe6\\x96\\x99\\xe4\\xbd\\x9c\\xe6\\x88\\x90\\xe3\\x81\\xae\\xe3\\x82\\xb9\\xe3\\x83\\x88\\xe3\\x83\\xac\\xe3\\x82\\xb9\\xe3\\x82\\x92\\xe6\\x9c\\x80\\xe5\\xb0\\x8f\\xe9\\x99\\x90\\xe3\\x81\\xab\\xef\\xbc\\x81</span></p>\\n          <p itemprop=\"author\" class=\"author\">\\xe5\\x9b\\x9b\\xe7\\xa6\\xae\\xe9\\x9d\\x99\\xe5\\xad\\x90\\xe3\\x80\\x80\\xe8\\x91\\x97</p>\\n          <p itemprop=\"offers\" itemscope=\"itemscope\" itemtype=\"http://schema.org/Offer\" class=\"price\"><span itemprop=\"price\">1,480</span>\\xe5\\x86\\x86<meta itemprop=\"priceCurrency\" content=\"JPY\"/></p>\\n          <ul class=\"format\">\\n            <li class=\"pdf\">PDF</li><li class=\"epub\">EPUB</li>\\n          </ul>\\n          <ul class=\"date\">\\n            <li><time datetime=\"2016-7-08\" itemprop=\"datePublished\" class=\"published\">2016\\xe5\\xb9\\xb47\\xe6\\x9c\\x888\\xe6\\x97\\xa5</time></li>\\n            \\n          </ul>\\n        </a></li>        <li id=\"978-4-7741-8258-2\"><a itemprop=\"url\" href=\"/dp/ebook/2016/978-4-7741-8258-2\">\\n          <img itemprop=\"image\" src=\"/assets/images/dummy.png\" width=\"100\" height=\"141\" data-image=\"/assets/images/gdp/2016/thumb/TH100_978-4-7741-8258-2.jpg,/assets/images/gdp/2016/thumb/TH200_978-4-7741-8258-2.jpg\" alt=\"\\xe3\\x82\\xab\\xe3\\x83\\x90\\xe3\\x83\\xbc\\xe7\\x94\\xbb\\xe5\\x83\\x8f\"/>\\n          <p itemprop=\"name\" class=\"title\">Word<wbr/>\\xe3\\x81\\xae\\xe3\\x83\\xa0\\xe3\\x82\\xab\\xe3\\x83\\xa0\\xe3\\x82\\xab\\xef\\xbc\\x81\\xe3\\x81\\x8c\\xe4\\xb8\\x80\\xe7\\x9e\\xac\\xe3\\x81\\xa7\\xe3\\x81\\xaa\\xe3\\x81\\x8f\\xe3\\x81\\xaa\\xe3\\x82\\x8b\\xe4\\xbd\\xbf\\xe3\\x81\\x84\\xe6\\x96\\xb9<br/><span class=\"sub\">\\xef\\xbd\\x9e\\xe6\\x96\\x87\\xe7\\xab\\xa0\\xe3\\x83\\xbb<wbr/>\\xe8\\xb3\\x87\\xe6\\x96\\x99\\xe4\\xbd\\x9c\\xe6\\x88\\x90\\xe3\\x81\\xae\\xe3\\x82\\xb9\\xe3\\x83\\x88\\xe3\\x83\\xac\\xe3\\x82\\xb9\\xe3\\x82\\x92\\xe6\\x9c\\x80\\xe5\\xb0\\x8f\\xe9\\x99\\x90\\xe3\\x81\\xab\\xef\\xbc\\x81</span></p>\\n          <p itemprop=\"author\" class=\"author\">\\xe5\\x9b\\x9b\\xe7\\xa6\\xae\\xe9\\x9d\\x99\\xe5\\xad\\x90\\xe3\\x80\\x80\\xe8\\x91\\x97</p>\\n          <p itemprop=\"offers\" itemscope=\"itemscope\" itemtype=\"http://schema.org/Offer\" class=\"price\"><span itemprop=\"price\">1,480</span>\\xe5\\x86\\x86<meta itemprop=\"priceCurrency\" content=\"JPY\"/></p>\\n          <ul class=\"format\">\\n            <li class=\"pdf\">PDF</li><li class=\"epub\">EPUB</li>\\n          </ul>\\n          <ul class=\"date\">\\n            <li><time datetime=\"2016-7-08\" itemprop=\"datePublished\" class=\"published\">2016\\xe5\\xb9\\xb47\\xe6\\x9c\\x888\\xe6\\x97\\xa5</time></li>\\n            \\n          </ul>\\n        </a></li>        <li id=\"978-4-7741-8319-0\"><a itemprop=\"url\" href=\"/dp/ebook/2016/978-4-7741-8319-0\">\\n          <img itemprop=\"image\" src=\"/assets/images/dummy.png\" width=\"100\" height=\"142\" data-image=\"/assets/images/gdp/2016/thumb/TH100_978-4-7741-8319-0.jpg,/assets/images/gdp/2016/thumb/TH200_978-4-7741-8319-0.jpg\" alt=\"\\xe3\\x82\\xab\\xe3\\x83\\x90\\xe3\\x83\\xbc\\xe7\\x94\\xbb\\xe5\\x83\\x8f\"/>\\n          <p itemprop=\"name\" class=\"title\"><span class=\"series\">\\xe7\\x94\\x9f\\xe7\\x89\\xa9\\xe3\\x83\\x9f\\xe3\\x82\\xb9\\xe3\\x83\\x86\\xe3\\x83\\xaa\\xe3\\x83\\xbc<wbr/>\\xef\\xbc\\x88\\xe7\\x94\\x9f\\xe7\\x89\\xa9\\xe3\\x83\\x9f\\xe3\\x82\\xb9\\xe3\\x83\\x86\\xe3\\x83\\xaa\\xe3\\x83\\xbc \\xe3\\x83\\x97\\xe3\\x83\\xad\\xef\\xbc\\x89</span> \\xe3\\x81\\x9d\\xe3\\x82\\x82\\xe3\\x81\\x9d\\xe3\\x82\\x82\\xe5\\xb3\\xb6\\xe3\\x81\\xab\\xe9\\x80\\xb2\\xe5\\x8c\\x96\\xe3\\x81\\x82\\xe3\\x82\\x8a</p>\\n          <p itemprop=\"author\" class=\"author\">\\xe5\\xb7\\x9d\\xe4\\xb8\\x8a\\xe5\\x92\\x8c\\xe4\\xba\\xba\\xe3\\x80\\x80\\xe8\\x91\\x97</p>\\n          <p itemprop=\"offers\" itemscope=\"itemscope\" itemtype=\"http://schema.org/Offer\" class=\"price\"><span itemprop=\"price\">1,880</span>\\xe5\\x86\\x86<meta itemprop=\"priceCurrency\" content=\"JPY\"/></p>\\n          <ul class=\"format\">\\n            <li class=\"pdf\">PDF</li><li class=\"epub\">EPUB</li>\\n          </ul>\\n          <ul class=\"date\">\\n            <li><time datetime=\"2016-7-08\" itemprop=\"datePublished\" class=\"published\">2016\\xe5\\xb9\\xb47\\xe6\\x9c\\x888\\xe6\\x97\\xa5</time></li>\\n            <li><time datetime=\"2016-7-08\" itemprop=\"dateModified\" class=\"modified\">2016\\xe5\\xb9\\xb47\\xe6\\x9c\\x888\\xe6\\x97\\xa5</time></li>\\n          </ul>\\n        </a></li>        <li id=\"978-4-7741-8318-3\"><a itemprop=\"url\" href=\"/dp/ebook/2016/978-4-7741-8318-3\">\\n          <img itemprop=\"image\" src=\"/assets/images/dummy.png\" width=\"100\" height=\"143\" data-image=\"/assets/images/gdp/2016/thumb/TH100_978-4-7741-8318-3.jpg,/assets/images/gdp/2016/thumb/TH200_978-4-7741-8318-3.jpg\" alt=\"\\xe3\\x82\\xab\\xe3\\x83\\x90\\xe3\\x83\\xbc\\xe7\\x94\\xbb\\xe5\\x83\\x8f\"/>\\n          <p itemprop=\"name\" class=\"title\"><span class=\"series\">\\xe5\\xa4\\xa7\\xe4\\xba\\xba\\xe3\\x81\\xae\\xe8\\x87\\xaa\\xe7\\x94\\xb1\\xe6\\x99\\x82\\xe9\\x96\\x93<wbr/>\\xef\\xbc\\x88\\xe5\\xa4\\xa7\\xe4\\xba\\xba\\xe3\\x81\\xae\\xe8\\x87\\xaa\\xe7\\x94\\xb1\\xe6\\x99\\x82\\xe9\\x96\\x93<wbr/>mini\\xef\\xbc\\x89</span> \\xe5\\xb1\\xb1\\xe6\\xad\\xa9\\xe3\\x81\\x8d\\xe3\\x82\\xb9\\xe3\\x82\\xbf\\xe3\\x83\\xbc\\xe3\\x83\\x88\\xe3\\x83\\x96\\xe3\\x83\\x83\\xe3\\x82\\xaf<br/><span class=\"sub\">\\xef\\xbd\\x9e\\xe9\\x81\\x93\\xe5\\x85\\xb7\\xe3\\x81\\xa8\\xe6\\xad\\xa9\\xe3\\x81\\x8d\\xe6\\x96\\xb9\\xe3\\x81\\x8c\\xe3\\x82\\x8f\\xe3\\x81\\x8b\\xe3\\x82\\x8b\\xef\\xbc\\x8c<wbr/>\\xe8\\xa1\\x8c\\xe3\\x81\\x8d\\xe3\\x81\\x9f\\xe3\\x81\\x84\\xe3\\x82\\xb3\\xe3\\x83\\xbc\\xe3\\x82\\xb9\\xe3\\x81\\x8c\\xe8\\xa6\\x8b\\xe3\\x81\\xa4\\xe3\\x81\\x8b\\xe3\\x82\\x8b</span></p>\\n          <p itemprop=\"author\" class=\"author\">\\xe8\\xa5\\xbf\\xe9\\x87\\x8e\\xe6\\xb7\\x91\\xe5\\xad\\x90\\xe3\\x80\\x80\\xe8\\x91\\x97</p>\\n          <p itemprop=\"offers\" itemscope=\"itemscope\" itemtype=\"http://schema.org/Offer\" class=\"price\"><span itemprop=\"price\">1,280</span>\\xe5\\x86\\x86<meta itemprop=\"priceCurrency\" content=\"JPY\"/></p>\\n          <ul class=\"format\">\\n            <li class=\"pdf\">PDF</li>\\n          </ul>\\n          <ul class=\"date\">\\n            <li><time datetime=\"2016-7-06\" itemprop=\"datePublished\" class=\"published\">2016\\xe5\\xb9\\xb47\\xe6\\x9c\\x886\\xe6\\x97\\xa5</time></li>\\n            \\n          </ul>\\n        </a></li>        <li id=\"978-4-7741-8317-6\"><a itemprop=\"url\" href=\"/dp/ebook/2016/978-4-7741-8317-6\">\\n          <img itemprop=\"image\" src=\"/assets/images/dummy.png\" width=\"100\" height=\"142\" data-image=\"/assets/images/gdp/2016/thumb/TH100_978-4-7741-8317-6.jpg,/assets/images/gdp/2016/thumb/TH200_978-4-7741-8317-6.jpg\" alt=\"\\xe3\\x82\\xab\\xe3\\x83\\x90\\xe3\\x83\\xbc\\xe7\\x94\\xbb\\xe5\\x83\\x8f\"/>\\n          <p itemprop=\"name\" class=\"title\">\\xe5\\xb9\\xb3\\xe6\\x88\\x90<wbr/>28-29<wbr/>\\xe5\\xb9\\xb4\\xe5\\xba\\xa6 \\xe5\\x9f\\xba\\xe6\\x9c\\xac\\xe6\\x83\\x85\\xe5\\xa0\\xb1\\xe6\\x8a\\x80\\xe8\\xa1\\x93\\xe8\\x80\\x85 \\xe8\\xa9\\xa6\\xe9\\xa8\\x93\\xe3\\x81\\xab\\xe3\\x82\\x88\\xe3\\x81\\x8f\\xe3\\x81\\xa7\\xe3\\x82\\x8b\\xe5\\x95\\x8f\\xe9\\xa1\\x8c\\xe9\\x9b\\x86<br/><span class=\"sub\">\\xe3\\x80\\x90\\xe5\\x8d\\x88\\xe5\\xbe\\x8c\\xe3\\x80\\x91</span></p>\\n          <p itemprop=\"author\" class=\"author\">\\xe8\\xa7\\x92\\xe8\\xb0\\xb7\\xe4\\xb8\\x80\\xe6\\x88\\x90\\xef\\xbc\\x8c<wbr/>\\xe3\\x82\\xa4\\xe3\\x82\\xa8\\xe3\\x83\\xad\\xe3\\x83\\xbc\\xe3\\x83\\x86\\xe3\\x83\\xbc\\xe3\\x83\\xab\\xe3\\x82\\xb3\\xe3\\x83\\xb3\\xe3\\x83\\x94\\xe3\\x83\\xa5\\xe3\\x83\\xbc\\xe3\\x82\\xbf\\xe3\\x80\\x80\\xe8\\x91\\x97</p>\\n          <p itemprop=\"offers\" itemscope=\"itemscope\" itemtype=\"http://schema.org/Offer\" class=\"price\"><span itemprop=\"price\">1,880</span>\\xe5\\x86\\x86<meta itemprop=\"priceCurrency\" content=\"JPY\"/></p>\\n          <ul class=\"format\">\\n            <li class=\"pdf\">PDF</li><li class=\"epub\">EPUB</li>\\n          </ul>\\n          <ul class=\"date\">\\n            <li><time datetime=\"2016-7-05\" itemprop=\"datePublished\" class=\"published\">2016\\xe5\\xb9\\xb47\\xe6\\x9c\\x885\\xe6\\x97\\xa5</time></li>\\n            \\n          </ul>\\n        </a></li>        <li id=\"978-4-7741-8300-8\"><a itemprop=\"url\" href=\"/dp/ebook/2016/978-4-7741-8300-8\">\\n          <img itemprop=\"image\" src=\"/assets/images/dummy.png\" width=\"100\" height=\"142\" data-image=\"/assets/images/gdp/2016/thumb/TH100_978-4-7741-8300-8.jpg,/assets/images/gdp/2016/thumb/TH200_978-4-7741-8300-8.jpg\" alt=\"\\xe3\\x82\\xab\\xe3\\x83\\x90\\xe3\\x83\\xbc\\xe7\\x94\\xbb\\xe5\\x83\\x8f\"/>\\n          <p itemprop=\"name\" class=\"title\"><span class=\"series\">\\xe5\\xa4\\xa7\\xe4\\xba\\xba\\xe3\\x81\\xae\\xe8\\x87\\xaa\\xe7\\x94\\xb1\\xe6\\x99\\x82\\xe9\\x96\\x93<wbr/>\\xef\\xbc\\x88\\xe5\\xa4\\xa7\\xe4\\xba\\xba\\xe3\\x81\\xae\\xe8\\x87\\xaa\\xe7\\x94\\xb1\\xe6\\x99\\x82\\xe9\\x96\\x93<wbr/>mini\\xef\\xbc\\x89</span> \\xe3\\x81\\x82\\xe3\\x81\\x8d\\xe3\\x82\\x89\\xe3\\x82\\x81\\xe3\\x81\\xaa\\xe3\\x81\\x84\\xe3\\x83\\xa9\\xe3\\x83\\xb3\\xe3\\x83\\x8b\\xe3\\x83\\xb3\\xe3\\x82\\xb0<br/><span class=\"sub\">\\xef\\xbd\\x9e\\xe6\\xa5\\xbd\\xe3\\x81\\x97\\xe3\\x81\\x84\\xe3\\x83\\xa9\\xe3\\x83\\xb3\\xe3\\x81\\xae\\xe3\\x81\\xaf\\xe3\\x81\\x98\\xe3\\x82\\x81\\xe3\\x81\\x8b\\xe3\\x81\\x9f\\xef\\xbc\\x8c<wbr/>\\xe7\\xb6\\x9a\\xe3\\x81\\x91\\xe3\\x81\\x8b\\xe3\\x81\\x9f</span></p>\\n          <p itemprop=\"author\" class=\"author\">\\xe7\\x99\\xbd\\xe6\\x96\\xb9\\xe5\\x81\\xa5\\xe4\\xb8\\x80\\xef\\xbc\\x8c<wbr/>\\xe3\\x83\\x8a\\xe3\\x82\\xa4\\xe3\\x82\\xb9\\xe3\\x82\\xaf\\xe3\\x80\\x80\\xe8\\x91\\x97</p>\\n          <p itemprop=\"offers\" itemscope=\"itemscope\" itemtype=\"http://schema.org/Offer\" class=\"price\"><span itemprop=\"price\">1,280</span>\\xe5\\x86\\x86<meta itemprop=\"priceCurrency\" content=\"JPY\"/></p>\\n          <ul class=\"format\">\\n            <li class=\"pdf\">PDF</li>\\n          </ul>\\n          <ul class=\"date\">\\n            <li><time datetime=\"2016-7-01\" itemprop=\"datePublished\" class=\"published\">2016\\xe5\\xb9\\xb47\\xe6\\x9c\\x881\\xe6\\x97\\xa5</time></li>\\n            \\n          </ul>\\n        </a></li>        <li id=\"978-4-7741-8299-5\"><a itemprop=\"url\" href=\"/dp/ebook/2016/978-4-7741-8299-5\">\\n          <img itemprop=\"image\" src=\"/assets/images/dummy.png\" width=\"100\" height=\"126\" data-image=\"/assets/images/gdp/2016/thumb/TH100_978-4-7741-8299-5.jpg,/assets/images/gdp/2016/thumb/TH200_978-4-7741-8299-5.jpg\" alt=\"\\xe3\\x82\\xab\\xe3\\x83\\x90\\xe3\\x83\\xbc\\xe7\\x94\\xbb\\xe5\\x83\\x8f\"/>\\n          <p itemprop=\"name\" class=\"title\">Excel<wbr/>\\xef\\xbc\\x86<wbr/>Access<wbr/>\\xe9\\x80\\xa3\\xe6\\x90\\xba \\xe5\\xae\\x9f\\xe8\\xb7\\xb5\\xe3\\x82\\xac\\xe3\\x82\\xa4\\xe3\\x83\\x89<br/><span class=\"sub\">\\xef\\xbd\\x9e\\xe4\\xbb\\x95\\xe4\\xba\\x8b\\xe3\\x81\\xae\\xe7\\x8f\\xbe\\xe5\\xa0\\xb4\\xe3\\x81\\xa7\\xe5\\x8d\\xb3\\xe4\\xbd\\xbf\\xe3\\x81\\x88\\xe3\\x82\\x8b</span></p>\\n          <p itemprop=\"author\" class=\"author\">\\xe4\\xbb\\x8a\\xe6\\x9d\\x91\\xe3\\x82\\x86\\xe3\\x81\\x86\\xe3\\x81\\x93\\xe3\\x80\\x80\\xe8\\x91\\x97</p>\\n          <p itemprop=\"offers\" itemscope=\"itemscope\" itemtype=\"http://schema.org/Offer\" class=\"price\"><span itemprop=\"price\">2,680</span>\\xe5\\x86\\x86<meta itemprop=\"priceCurrency\" content=\"JPY\"/></p>\\n          <ul class=\"format\">\\n            <li class=\"pdf\">PDF</li>\\n          </ul>\\n          <ul class=\"date\">\\n            <li><time datetime=\"2016-6-29\" itemprop=\"datePublished\" class=\"published\">2016\\xe5\\xb9\\xb46\\xe6\\x9c\\x8829\\xe6\\x97\\xa5</time></li>\\n            \\n          </ul>\\n        </a></li>        <li id=\"978-4-7741-8296-4\"><a itemprop=\"url\" href=\"/dp/ebook/2016/978-4-7741-8296-4\">\\n          <img itemprop=\"image\" src=\"/assets/images/dummy.png\" width=\"100\" height=\"142\" data-image=\"/assets/images/gdp/2016/thumb/TH100_978-4-7741-8296-4.jpg,/assets/images/gdp/2016/thumb/TH200_978-4-7741-8296-4.jpg\" alt=\"\\xe3\\x82\\xab\\xe3\\x83\\x90\\xe3\\x83\\xbc\\xe7\\x94\\xbb\\xe5\\x83\\x8f\"/>\\n          <p itemprop=\"name\" class=\"title\"><span class=\"series\">\\xe5\\xa4\\xa7\\xe4\\xba\\xba\\xe3\\x81\\xae\\xe8\\x87\\xaa\\xe7\\x94\\xb1\\xe6\\x99\\x82\\xe9\\x96\\x93<wbr/>\\xef\\xbc\\x88\\xe5\\xa4\\xa7\\xe4\\xba\\xba\\xe3\\x81\\xae\\xe8\\x87\\xaa\\xe7\\x94\\xb1\\xe6\\x99\\x82\\xe9\\x96\\x93<wbr/>mini\\xef\\xbc\\x89</span> \\xe3\\x82\\x82\\xe3\\x81\\x86\\xe4\\xb8\\x80\\xe5\\xba\\xa6\\xe3\\x83\\x90\\xe3\\x82\\xa4\\xe3\\x82\\xaf\\xe3\\x81\\xab\\xe4\\xb9\\x97\\xe3\\x82\\x8d\\xe3\\x81\\x86\\xef\\xbc\\x81<br/><span class=\"sub\">\\xef\\xbd\\x9e\\xe7\\xbe\\xa8\\xe6\\x9c\\x9b\\xe3\\x81\\x95\\xe3\\x82\\x8c\\xe3\\x82\\x8b\\xe3\\x82\\xaa\\xe3\\x83\\x88\\xe3\\x83\\x8a\\xe3\\x81\\xae\\xe3\\x83\\xa9\\xe3\\x82\\xa4\\xe3\\x83\\x80\\xe3\\x83\\xbc\\xe3\\x81\\xab\\xe3\\x81\\xaa\\xe3\\x82\\x8a\\xe3\\x81\\x9f\\xe3\\x81\\x84\\xe4\\xba\\xba\\xe3\\x81\\xab</span></p>\\n          <p itemprop=\"author\" class=\"author\">\\xe8\\xa5\\xbf\\xe5\\xb0\\xbe\\xe6\\xb7\\xb3\\xe3\\x80\\x80\\xe8\\x91\\x97\\xef\\xbc\\x8c<wbr/>WINDY Co.\\xe3\\x80\\x80\\xe7\\xb7\\xa8</p>\\n          <p itemprop=\"offers\" itemscope=\"itemscope\" itemtype=\"http://schema.org/Offer\" class=\"price\"><span itemprop=\"price\">1,280</span>\\xe5\\x86\\x86<meta itemprop=\"priceCurrency\" content=\"JPY\"/></p>\\n          <ul class=\"format\">\\n            <li class=\"pdf\">PDF</li>\\n          </ul>\\n          <ul class=\"date\">\\n            <li><time datetime=\"2016-6-28\" itemprop=\"datePublished\" class=\"published\">2016\\xe5\\xb9\\xb46\\xe6\\x9c\\x8828\\xe6\\x97\\xa5</time></li>\\n            \\n          </ul>\\n        </a></li>        <li id=\"978-4-7741-8292-6\"><a itemprop=\"url\" href=\"/dp/ebook/2016/978-4-7741-8292-6\">\\n          <img itemprop=\"image\" src=\"/assets/images/dummy.png\" width=\"100\" height=\"142\" data-image=\"/assets/images/gdp/2016/thumb/TH100_978-4-7741-8292-6.jpg,/assets/images/gdp/2016/thumb/TH200_978-4-7741-8292-6.jpg\" alt=\"\\xe3\\x82\\xab\\xe3\\x83\\x90\\xe3\\x83\\xbc\\xe7\\x94\\xbb\\xe5\\x83\\x8f\"/>\\n          <p itemprop=\"name\" class=\"title\">Slack<wbr/>\\xe5\\x85\\xa5\\xe9\\x96\\x80<br/><span class=\"sub\">[ChatOps\\xe3\\x81\\xab\\xe3\\x82\\x88\\xe3\\x82\\x8b\\xe3\\x83\\x81\\xe3\\x83\\xbc\\xe3\\x83\\xa0\\xe9\\x96\\x8b\\xe7\\x99\\xba\\xe3\\x81\\xae\\xe5\\x8a\\xb9\\xe7\\x8e\\x87\\xe5\\x8c\\x96]</span></p>\\n          <p itemprop=\"author\" class=\"author\">\\xe6\\x9d\\xbe\\xe4\\xb8\\x8b\\xe9\\x9b\\x85\\xe5\\x92\\x8c\\xef\\xbc\\x8c<wbr/>\\xe5\\xb0\\x8f\\xe5\\xb3\\xb6\\xe6\\xb3\\xb0\\xe6\\xb4\\x8b\\xef\\xbc\\x8c<wbr/>\\xe9\\x95\\xb7\\xe7\\x80\\xac\\xe6\\x95\\xa6\\xe5\\x8f\\xb2\\xef\\xbc\\x8c<wbr/>\\xe5\\x9d\\x82\\xe6\\x9c\\xac\\xe5\\x8d\\x93\\xe5\\xb7\\xb3\\xe3\\x80\\x80\\xe8\\x91\\x97</p>\\n          <p itemprop=\"offers\" itemscope=\"itemscope\" itemtype=\"http://schema.org/Offer\" class=\"price\"><span itemprop=\"price\">1,980</span>\\xe5\\x86\\x86<meta itemprop=\"priceCurrency\" content=\"JPY\"/></p>\\n          <ul class=\"format\">\\n            <li class=\"pdf\">PDF</li><li class=\"epub\">EPUB</li>\\n          </ul>\\n          <ul class=\"date\">\\n            <li><time datetime=\"2016-6-28\" itemprop=\"datePublished\" class=\"published\">2016\\xe5\\xb9\\xb46\\xe6\\x9c\\x8828\\xe6\\x97\\xa5</time></li>\\n            \\n          </ul>\\n        </a></li>        <li id=\"978-4-7741-8273-5\"><a itemprop=\"url\" href=\"/dp/ebook/2016/978-4-7741-8273-5\">\\n          <img itemprop=\"image\" src=\"/assets/images/dummy.png\" width=\"100\" height=\"127\" data-image=\"/assets/images/gdp/2016/thumb/TH100_978-4-7741-8273-5.jpg,/assets/images/gdp/2016/thumb/TH200_978-4-7741-8273-5.jpg\" alt=\"\\xe3\\x82\\xab\\xe3\\x83\\x90\\xe3\\x83\\xbc\\xe7\\x94\\xbb\\xe5\\x83\\x8f\"/>\\n          <p itemprop=\"name\" class=\"title\">\\xe3\\x83\\x91\\xe3\\x82\\xbd\\xe3\\x82\\xb3\\xe3\\x83\\xb3\\xe5\\x85\\xa5\\xe9\\x96\\x80<wbr/>5<wbr/>\\xe5\\x86\\x8a\\xe5\\x88\\x86\\xef\\xbc\\x81<br/><span class=\"sub\">\\xef\\xbc\\x9c<wbr/>Windows 10<wbr/>\\xe5\\x85\\xa5\\xe9\\x96\\x80\\xef\\xbc\\x8b<wbr/>Windows 10<wbr/>\\xe6\\xb4\\xbb\\xe7\\x94\\xa8\\xef\\xbc\\x8b\\xe3\\x82\\xa4\\xe3\\x83\\xb3\\xe3\\x82\\xbf\\xe3\\x83\\xbc\\xe3\\x83\\x8d\\xe3\\x83\\x83\\xe3\\x83\\x88\\xef\\xbc\\x86<wbr/>\\xe3\\x83\\xa1\\xe3\\x83\\xbc\\xe3\\x83\\xab\\xef\\xbc\\x8b<wbr/>Word<wbr/>\\xef\\xbc\\x8b<wbr/>Excel<wbr/>\\xef\\xbc\\x9e</span></p>\\n          <p itemprop=\"author\" class=\"author\">\\xe9\\xa3\\xaf\\xe5\\xb3\\xb6\\xe5\\xbc\\x98\\xe6\\x96\\x87\\xe3\\x80\\x80\\xe8\\x91\\x97</p>\\n          <p itemprop=\"offers\" itemscope=\"itemscope\" itemtype=\"http://schema.org/Offer\" class=\"price\"><span itemprop=\"price\">1,780</span>\\xe5\\x86\\x86<meta itemprop=\"priceCurrency\" content=\"JPY\"/></p>\\n          <ul class=\"format\">\\n            <li class=\"pdf\">PDF</li>\\n          </ul>\\n          <ul class=\"date\">\\n            <li><time datetime=\"2016-6-27\" itemprop=\"datePublished\" class=\"published\">2016\\xe5\\xb9\\xb46\\xe6\\x9c\\x8827\\xe6\\x97\\xa5</time></li>\\n            \\n          </ul>\\n        </a></li>        <li id=\"978-4-7741-8295-7\"><a itemprop=\"url\" href=\"/dp/ebook/2016/978-4-7741-8295-7\">\\n          <img itemprop=\"image\" src=\"/assets/images/dummy.png\" width=\"100\" height=\"110\" data-image=\"/assets/images/gdp/2016/thumb/TH100_978-4-7741-8295-7.jpg,/assets/images/gdp/2016/thumb/TH200_978-4-7741-8295-7.jpg\" alt=\"\\xe3\\x82\\xab\\xe3\\x83\\x90\\xe3\\x83\\xbc\\xe7\\x94\\xbb\\xe5\\x83\\x8f\"/>\\n          <p itemprop=\"name\" class=\"title\">\\xe4\\xba\\xba\\xe6\\xb0\\x97\\xe3\\x83\\x8f\\xe3\\x83\\xb3\\xe3\\x83\\x89\\xe3\\x83\\xa1\\xe3\\x82\\xa4\\xe3\\x83\\x89\\xe4\\xbd\\x9c\\xe5\\xae\\xb6\\xe3\\x81\\xab\\xe3\\x81\\xaa\\xe3\\x82\\x8a\\xe3\\x81\\x9f\\xe3\\x81\\x84\\xe4\\xba\\xba\\xe3\\x81\\x8c\\xe8\\xaa\\xad\\xe3\\x82\\x80\\xe6\\x9c\\xac</p>\\n          <p itemprop=\"author\" class=\"author\">ARENSKI\\xe3\\x80\\x80\\xe8\\x91\\x97\\xef\\xbc\\x8c<wbr/>\\xe5\\xb0\\x8f\\xe6\\xb3\\x89\\xe4\\xb8\\x83\\xe7\\xbe\\x8e\\xe3\\x80\\x80\\xe7\\x9b\\xa3\\xe4\\xbf\\xae</p>\\n          <p itemprop=\"offers\" itemscope=\"itemscope\" itemtype=\"http://schema.org/Offer\" class=\"price\"><span itemprop=\"price\">1,480</span>\\xe5\\x86\\x86<meta itemprop=\"priceCurrency\" content=\"JPY\"/></p>\\n          <ul class=\"format\">\\n            <li class=\"pdf\">PDF</li><li class=\"epub\">EPUB</li>\\n          </ul>\\n          <ul class=\"date\">\\n            <li><time datetime=\"2016-6-27\" itemprop=\"datePublished\" class=\"published\">2016\\xe5\\xb9\\xb46\\xe6\\x9c\\x8827\\xe6\\x97\\xa5</time></li>\\n            <li><time datetime=\"2016-6-30\" itemprop=\"dateModified\" class=\"modified\">2016\\xe5\\xb9\\xb46\\xe6\\x9c\\x8830\\xe6\\x97\\xa5</time></li>\\n          </ul>\\n        </a></li>        <li id=\"978-4-7741-8288-9\"><a itemprop=\"url\" href=\"/dp/ebook/2016/978-4-7741-8288-9\">\\n          <img itemprop=\"image\" src=\"/assets/images/dummy.png\" width=\"100\" height=\"142\" data-image=\"/assets/images/gdp/2016/thumb/TH100_978-4-7741-8288-9.jpg,/assets/images/gdp/2016/thumb/TH200_978-4-7741-8288-9.jpg\" alt=\"\\xe3\\x82\\xab\\xe3\\x83\\x90\\xe3\\x83\\xbc\\xe7\\x94\\xbb\\xe5\\x83\\x8f\"/>\\n          <p itemprop=\"name\" class=\"title\"><span class=\"series\">\\xe4\\xbb\\x8a\\xe3\\x81\\x99\\xe3\\x81\\x90\\xe4\\xbd\\xbf\\xe3\\x81\\x88\\xe3\\x82\\x8b\\xe3\\x81\\x8b\\xe3\\x82\\x93\\xe3\\x81\\x9f\\xe3\\x82\\x93<wbr/>Ex</span> \\xe4\\xbb\\x8a\\xe3\\x81\\x99\\xe3\\x81\\x90\\xe4\\xbd\\xbf\\xe3\\x81\\x88\\xe3\\x82\\x8b\\xe3\\x81\\x8b\\xe3\\x82\\x93\\xe3\\x81\\x9f\\xe3\\x82\\x93Ex<br/>\\xe3\\x83\\xa4\\xe3\\x83\\x95\\xe3\\x82\\xaa\\xe3\\x82\\xaf\\xef\\xbc\\x81 \\xe6\\x9c\\xac\\xe6\\xb0\\x97\\xe3\\x81\\xa7\\xe5\\x84\\xb2\\xe3\\x81\\x91\\xe3\\x82\\x8b\\xef\\xbc\\x81 \\xe3\\x83\\x97\\xe3\\x83\\xad\\xe6\\x8a\\x80\\xe3\\x82\\xbb\\xe3\\x83\\xac\\xe3\\x82\\xaf\\xe3\\x82\\xb7\\xe3\\x83\\xa7\\xe3\\x83\\xb3</p>\\n          <p itemprop=\"author\" class=\"author\">\\xe6\\xa2\\x85\\xe7\\x94\\xb0\\xe6\\xbd\\xa4\\xe3\\x80\\x80\\xe8\\x91\\x97</p>\\n          <p itemprop=\"offers\" itemscope=\"itemscope\" itemtype=\"http://schema.org/Offer\" class=\"price\"><span itemprop=\"price\">1,780</span>\\xe5\\x86\\x86<meta itemprop=\"priceCurrency\" content=\"JPY\"/></p>\\n          <ul class=\"format\">\\n            <li class=\"pdf\">PDF</li>\\n          </ul>\\n          <ul class=\"date\">\\n            <li><time datetime=\"2016-6-25\" itemprop=\"datePublished\" class=\"published\">2016\\xe5\\xb9\\xb46\\xe6\\x9c\\x8825\\xe6\\x97\\xa5</time></li>\\n            \\n          </ul>\\n        </a></li>        <li id=\"978-4-7741-8289-6\"><a itemprop=\"url\" href=\"/dp/ebook/2016/978-4-7741-8289-6\">\\n          <img itemprop=\"image\" src=\"/assets/images/dummy.png\" width=\"100\" height=\"157\" data-image=\"/assets/images/gdp/2016/thumb/TH100_978-4-7741-8289-6.jpg,/assets/images/gdp/2016/thumb/TH200_978-4-7741-8289-6.jpg\" alt=\"\\xe3\\x82\\xab\\xe3\\x83\\x90\\xe3\\x83\\xbc\\xe7\\x94\\xbb\\xe5\\x83\\x8f\"/>\\n          <p itemprop=\"name\" class=\"title\"><span class=\"series\">\\xe4\\xbb\\x8a\\xe3\\x81\\x99\\xe3\\x81\\x90\\xe4\\xbd\\xbf\\xe3\\x81\\x88\\xe3\\x82\\x8b\\xe3\\x81\\x8b\\xe3\\x82\\x93\\xe3\\x81\\x9f\\xe3\\x82\\x93<wbr/>mini</span> \\xe4\\xbb\\x8a\\xe3\\x81\\x99\\xe3\\x81\\x90\\xe4\\xbd\\xbf\\xe3\\x81\\x88\\xe3\\x82\\x8b\\xe3\\x81\\x8b\\xe3\\x82\\x93\\xe3\\x81\\x9f\\xe3\\x82\\x93mini<br/>Access 2016 \\xe5\\x9f\\xba\\xe6\\x9c\\xac\\xe6\\x8a\\x80</p>\\n          <p itemprop=\"author\" class=\"author\">\\xe6\\x8a\\x80\\xe8\\xa1\\x93\\xe8\\xa9\\x95\\xe8\\xab\\x96\\xe7\\xa4\\xbe\\xe7\\xb7\\xa8\\xe9\\x9b\\x86\\xe9\\x83\\xa8\\xef\\xbc\\x8c<wbr/>AYURA\\xe3\\x80\\x80\\xe8\\x91\\x97</p>\\n          <p itemprop=\"offers\" itemscope=\"itemscope\" itemtype=\"http://schema.org/Offer\" class=\"price\"><span itemprop=\"price\">980</span>\\xe5\\x86\\x86<meta itemprop=\"priceCurrency\" content=\"JPY\"/></p>\\n          <ul class=\"format\">\\n            <li class=\"pdf\">PDF</li>\\n          </ul>\\n          <ul class=\"date\">\\n            <li><time datetime=\"2016-6-25\" itemprop=\"datePublished\" class=\"published\">2016\\xe5\\xb9\\xb46\\xe6\\x9c\\x8825\\xe6\\x97\\xa5</time></li>\\n            \\n          </ul>\\n        </a></li>        <li id=\"978-4-7741-8290-2\"><a itemprop=\"url\" href=\"/dp/ebook/2016/978-4-7741-8290-2\">\\n          <img itemprop=\"image\" src=\"/assets/images/dummy.png\" width=\"100\" height=\"147\" data-image=\"/assets/images/gdp/2016/thumb/TH100_978-4-7741-8290-2.jpg,/assets/images/gdp/2016/thumb/TH200_978-4-7741-8290-2.jpg\" alt=\"\\xe3\\x82\\xab\\xe3\\x83\\x90\\xe3\\x83\\xbc\\xe7\\x94\\xbb\\xe5\\x83\\x8f\"/>\\n          <p itemprop=\"name\" class=\"title\"><span class=\"series\">\\xe3\\x82\\xbc\\xe3\\x83\\xad\\xe3\\x81\\x8b\\xe3\\x82\\x89\\xe3\\x81\\xaf\\xe3\\x81\\x98\\xe3\\x82\\x81\\xe3\\x82\\x8b</span> \\xe3\\x82\\xbc\\xe3\\x83\\xad\\xe3\\x81\\x8b\\xe3\\x82\\x89\\xe3\\x81\\xaf\\xe3\\x81\\x98\\xe3\\x82\\x81\\xe3\\x82\\x8b<br/>OneNote 2016<wbr/>\\xef\\xbc\\x8f<wbr/>2013 \\xe3\\x82\\xb9\\xe3\\x83\\x9e\\xe3\\x83\\xbc\\xe3\\x83\\x88\\xe3\\x82\\xac\\xe3\\x82\\xa4\\xe3\\x83\\x89</p>\\n          <p itemprop=\"author\" class=\"author\">\\xe6\\x8a\\x80\\xe8\\xa1\\x93\\xe8\\xa9\\x95\\xe8\\xab\\x96\\xe7\\xa4\\xbe\\xe7\\xb7\\xa8\\xe9\\x9b\\x86\\xe9\\x83\\xa8\\xef\\xbc\\x8c<wbr/>\\xe3\\x83\\x9e\\xe3\\x82\\xa4\\xe3\\x82\\xab\\xe3\\x80\\x80\\xe8\\x91\\x97</p>\\n          <p itemprop=\"offers\" itemscope=\"itemscope\" itemtype=\"http://schema.org/Offer\" class=\"price\"><span itemprop=\"price\">980</span>\\xe5\\x86\\x86<meta itemprop=\"priceCurrency\" content=\"JPY\"/></p>\\n          <ul class=\"format\">\\n            <li class=\"pdf\">PDF</li>\\n          </ul>\\n          <ul class=\"date\">\\n            <li><time datetime=\"2016-6-25\" itemprop=\"datePublished\" class=\"published\">2016\\xe5\\xb9\\xb46\\xe6\\x9c\\x8825\\xe6\\x97\\xa5</time></li>\\n            \\n          </ul>\\n        </a></li>        <li id=\"978-4-7741-8291-9\"><a itemprop=\"url\" href=\"/dp/ebook/2016/978-4-7741-8291-9\">\\n          <img itemprop=\"image\" src=\"/assets/images/dummy.png\" width=\"100\" height=\"147\" data-image=\"/assets/images/gdp/2016/thumb/TH100_978-4-7741-8291-9.jpg,/assets/images/gdp/2016/thumb/TH200_978-4-7741-8291-9.jpg\" alt=\"\\xe3\\x82\\xab\\xe3\\x83\\x90\\xe3\\x83\\xbc\\xe7\\x94\\xbb\\xe5\\x83\\x8f\"/>\\n          <p itemprop=\"name\" class=\"title\"><span class=\"series\">\\xe3\\x82\\xbc\\xe3\\x83\\xad\\xe3\\x81\\x8b\\xe3\\x82\\x89\\xe3\\x81\\xaf\\xe3\\x81\\x98\\xe3\\x82\\x81\\xe3\\x82\\x8b</span> \\xe3\\x82\\xbc\\xe3\\x83\\xad\\xe3\\x81\\x8b\\xe3\\x82\\x89\\xe3\\x81\\xaf\\xe3\\x81\\x98\\xe3\\x82\\x81\\xe3\\x82\\x8b<br/>au Galaxy S7 edge SCV33 \\xe3\\x82\\xb9\\xe3\\x83\\x9e\\xe3\\x83\\xbc\\xe3\\x83\\x88\\xe3\\x82\\xac\\xe3\\x82\\xa4\\xe3\\x83\\x89</p>\\n          <p itemprop=\"author\" class=\"author\">\\xe6\\x8a\\x80\\xe8\\xa1\\x93\\xe8\\xa9\\x95\\xe8\\xab\\x96\\xe7\\xa4\\xbe\\xe7\\xb7\\xa8\\xe9\\x9b\\x86\\xe9\\x83\\xa8\\xe3\\x80\\x80\\xe8\\x91\\x97</p>\\n          <p itemprop=\"offers\" itemscope=\"itemscope\" itemtype=\"http://schema.org/Offer\" class=\"price\"><span itemprop=\"price\">1,380</span>\\xe5\\x86\\x86<meta itemprop=\"priceCurrency\" content=\"JPY\"/></p>\\n          <ul class=\"format\">\\n            <li class=\"pdf\">PDF</li>\\n          </ul>\\n          <ul class=\"date\">\\n            <li><time datetime=\"2016-6-25\" itemprop=\"datePublished\" class=\"published\">2016\\xe5\\xb9\\xb46\\xe6\\x9c\\x8825\\xe6\\x97\\xa5</time></li>\\n            \\n          </ul>\\n        </a></li>\\n      </ul>\\n      <nav id=\"pagingBottom\">        <ul>\\n          <li><span class=\"prev\">\\xe2\\x80\\x95</span></li>\\n          <li class=\"paging-number\">1 - 30 / 1395</li>\\n          <li><a href=\"/dp?start=30\" title=\"\\xe3\\x82\\xb5\\xe3\\x83\\xb3\\xe3\\x83\\x97\\xe3\\x83\\xab\\xe3\\x83\\x9a\\xe3\\x83\\xbc\\xe3\\x82\\xb8\\xe3\\x81\\xae\\xe3\\x81\\x9f\\xe3\\x82\\x81\\xe5\\x88\\xa9\\xe7\\x94\\xa8\\xe3\\x81\\xa7\\xe3\\x81\\x8d\\xe3\\x81\\xbe\\xe3\\x81\\x9b\\xe3\\x82\\x93\" class=\"next\">\\xe6\\xac\\xa1</a></li>\\n        </ul>\\n      </nav>\\n    </div>\\n  </div>\\n  <footer id=\"footer\" itemscope=\"itemscope\" itemtype=\"http://www.schema.org/WPFooter\">\\n    <div id=\"wait\" class=\"hidden\"></div>\\n    <nav id=\"navigation\" itemscope=\"itemscope\" itemtype=\"http://www.schema.org/SiteNavigationElement\">\\n      <ul id=\"navigationLink\">\\n        <li id=\"navLinkHome\" class=\"current\"><a itemprop=\"url\" href=\"/dp\" title=\"\\xe3\\x82\\xb5\\xe3\\x83\\xb3\\xe3\\x83\\x97\\xe3\\x83\\xab\\xe3\\x83\\x9a\\xe3\\x83\\xbc\\xe3\\x82\\xb8\\xe3\\x81\\xae\\xe3\\x81\\x9f\\xe3\\x82\\x81\\xe5\\x88\\xa9\\xe7\\x94\\xa8\\xe3\\x81\\xa7\\xe3\\x81\\x8d\\xe3\\x81\\xbe\\xe3\\x81\\x9b\\xe3\\x82\\x93\" class=\"home\">\\xe3\\x82\\xb9\\xe3\\x83\\x88\\xe3\\x82\\xa2</a></li>\\n        <li id=\"navLinkMyPage\"><a itemprop=\"url\" href=\"/dp/my-page\" title=\"\\xe3\\x82\\xb5\\xe3\\x83\\xb3\\xe3\\x83\\x97\\xe3\\x83\\xab\\xe3\\x83\\x9a\\xe3\\x83\\xbc\\xe3\\x82\\xb8\\xe3\\x81\\xae\\xe3\\x81\\x9f\\xe3\\x82\\x81\\xe5\\x88\\xa9\\xe7\\x94\\xa8\\xe3\\x81\\xa7\\xe3\\x81\\x8d\\xe3\\x81\\xbe\\xe3\\x81\\x9b\\xe3\\x82\\x93\" class=\"mypage\">\\xe3\\x83\\x9e\\xe3\\x82\\xa4\\xe3\\x83\\x9a\\xe3\\x83\\xbc\\xe3\\x82\\xb8</a></li>\\n        <li id=\"navLinkInfor\"><a itemprop=\"url\" href=\"/dp/information\" title=\"\\xe3\\x82\\xb5\\xe3\\x83\\xb3\\xe3\\x83\\x97\\xe3\\x83\\xab\\xe3\\x83\\x9a\\xe3\\x83\\xbc\\xe3\\x82\\xb8\\xe3\\x81\\xae\\xe3\\x81\\x9f\\xe3\\x82\\x81\\xe5\\x88\\xa9\\xe7\\x94\\xa8\\xe3\\x81\\xa7\\xe3\\x81\\x8d\\xe3\\x81\\xbe\\xe3\\x81\\x9b\\xe3\\x82\\x93\" class=\"information\">\\xe3\\x81\\x8a\\xe7\\x9f\\xa5\\xe3\\x82\\x89\\xe3\\x81\\x9b</a></li>\\n        <li id=\"navLinkHelp\"><a itemprop=\"url\" href=\"/dp/help\" title=\"\\xe3\\x82\\xb5\\xe3\\x83\\xb3\\xe3\\x83\\x97\\xe3\\x83\\xab\\xe3\\x83\\x9a\\xe3\\x83\\xbc\\xe3\\x82\\xb8\\xe3\\x81\\xae\\xe3\\x81\\x9f\\xe3\\x82\\x81\\xe5\\x88\\xa9\\xe7\\x94\\xa8\\xe3\\x81\\xa7\\xe3\\x81\\x8d\\xe3\\x81\\xbe\\xe3\\x81\\x9b\\xe3\\x82\\x93\" class=\"help\">\\xe3\\x83\\x98\\xe3\\x83\\xab\\xe3\\x83\\x97</a></li>\\n      </ul>\\n    </nav>\\n    <nav id=\"function\" itemscope=\"itemscope\" itemtype=\"http://www.schema.org/WPSideBar\">\\n      <div id=\"backgroundWrapper\"></div>\\n      <div id=\"navInfor\"><p class=\"page\">1 - 30 / 1395</p></div>\\n    </nav>\\n    <div id=\"storeInformation\">\\n      <ul id=\"footerLink\">\\n        <li><a href=\"/\">\\xe3\\x81\\x93\\xe3\\x81\\xae\\xe3\\x82\\xb5\\xe3\\x82\\xa4\\xe3\\x83\\x88\\xe3\\x81\\xab\\xe3\\x81\\xa4\\xe3\\x81\\x84\\xe3\\x81\\xa6</a></li>\\n      </ul>\\n      <p id=\"storeCopyright\"><span style=\"color:red;font-size:1.8em;\">\\xe3\\x81\\x93\\xe3\\x81\\xae\\xe3\\x83\\x9a\\xe3\\x83\\xbc\\xe3\\x82\\xb8\\xe3\\x81\\xaf\\xe3\\x80\\x8cPython\\xe3\\x82\\xaf\\xe3\\x83\\xad\\xe3\\x83\\xbc\\xe3\\x83\\xaa\\xe3\\x83\\xb3\\xe3\\x82\\xb0\\xef\\xbc\\x86\\xe3\\x82\\xb9\\xe3\\x82\\xaf\\xe3\\x83\\xac\\xe3\\x82\\xa4\\xe3\\x83\\x94\\xe3\\x83\\xb3\\xe3\\x82\\xb0 -\\xe3\\x83\\x87\\xe3\\x83\\xbc\\xe3\\x82\\xbf\\xe5\\x8f\\x8e\\xe9\\x9b\\x86\\xe3\\x83\\xbb\\xe8\\xa7\\xa3\\xe6\\x9e\\x90\\xe3\\x81\\xae\\xe3\\x81\\x9f\\xe3\\x82\\x81\\xe3\\x81\\xae\\xe5\\xae\\x9f\\xe8\\xb7\\xb5\\xe9\\x96\\x8b\\xe7\\x99\\xba\\xe3\\x82\\xac\\xe3\\x82\\xa4\\xe3\\x83\\x89-\\xe3\\x80\\x8d\\xe3\\x81\\xae\\xe3\\x81\\x9f\\xe3\\x82\\x81\\xe3\\x81\\xae\\xe3\\x82\\xb5\\xe3\\x83\\xb3\\xe3\\x83\\x97\\xe3\\x83\\xab\\xe3\\x82\\xb5\\xe3\\x82\\xa4\\xe3\\x83\\x88\\xe3\\x81\\xa7\\xe3\\x81\\x99\\xe3\\x80\\x82\\xe7\\x89\\xb9\\xe5\\x88\\xa5\\xe3\\x81\\xae\\xe8\\xa8\\xb1\\xe5\\x8f\\xaf\\xe3\\x82\\x92\\xe5\\xbe\\x97\\xe3\\x81\\xa6\\xe6\\x8a\\x80\\xe8\\xa1\\x93\\xe8\\xa9\\x95\\xe8\\xab\\x96\\xe7\\xa4\\xbe\\xe3\\x81\\xae\\xe8\\x91\\x97\\xe4\\xbd\\x9c\\xe7\\x89\\xa9\\xe3\\x82\\x92\\xe4\\xbd\\xbf\\xe7\\x94\\xa8\\xe3\\x81\\x97\\xe3\\x81\\xa6\\xe3\\x81\\x84\\xe3\\x81\\xbe\\xe3\\x81\\x99\\xe3\\x80\\x82</span><br/><small>Copyright \\xc2\\xa9 2016 <span class=\"reserved\">All Rights Reserved by</span> <a href=\"http://gihyo.jp/book\">Gijutsu-Hyohron Co., Ltd.</a></small></p>\\n    </div>\\n  </footer>\\n</body>\\n</html>\\n'"
      ]
     },
     "execution_count": 5,
     "metadata": {},
     "output_type": "execute_result"
    }
   ],
   "source": [
    "f.read()"
   ]
  },
  {
   "cell_type": "code",
   "execution_count": 6,
   "metadata": {
    "collapsed": false
   },
   "outputs": [
    {
     "data": {
      "text/plain": [
       "200"
      ]
     },
     "execution_count": 6,
     "metadata": {},
     "output_type": "execute_result"
    }
   ],
   "source": [
    "f.status"
   ]
  },
  {
   "cell_type": "code",
   "execution_count": 7,
   "metadata": {
    "collapsed": false
   },
   "outputs": [
    {
     "data": {
      "text/plain": [
       "'text/html; charset=utf-8'"
      ]
     },
     "execution_count": 7,
     "metadata": {},
     "output_type": "execute_result"
    }
   ],
   "source": [
    "f.getheader('Content-Type')"
   ]
  },
  {
   "cell_type": "code",
   "execution_count": 12,
   "metadata": {
    "collapsed": false
   },
   "outputs": [
    {
     "name": "stdout",
     "output_type": "stream",
     "text": [
      "Writing urlopen_encoding.py\n"
     ]
    }
   ],
   "source": [
    "%%writefile urlopen_encoding.py\n",
    "\n",
    "import sys\n",
    "from urllib.request import urlopen\n",
    "\n",
    "f = urlopen('http://sample.scraping-book.com/dp')\n",
    "encoding = f.info().get_content_charset(failobj=\"utf-8\")\n",
    "print('encoding:', encoding, file=sys.stderr)\n",
    "\n",
    "text = f.read().decode(encoding)\n",
    "print(text)"
   ]
  },
  {
   "cell_type": "code",
   "execution_count": 41,
   "metadata": {
    "collapsed": false
   },
   "outputs": [
    {
     "name": "stdout",
     "output_type": "stream",
     "text": [
      "encoding: utf-8\n",
      "<!DOCTYPE HTML>\n",
      "<html lang=\"ja\" class=\"pc\">\n",
      "<head>\n",
      "  <meta charset=\"UTF-8\">\n",
      "  <title>Pythonクローリング＆スクレイピング -データ収集・解析のための実践開発ガイド- サンプルページ</title>\n",
      "  <meta http-equiv=\"Content-Style-Type\" content=\"text/css\"/>\n",
      "  <meta http-equiv=\"Content-Script-Type\" content=\"application/javascript\"/>\n",
      "  <meta name=\"description\" content=\"Pythonクローリング＆スクレイピング -データ収集・解析のための実践開発ガイド- サンプルページ\"/>\n",
      "  <meta http-equiv=\"X-UA-Compatible\" content=\"IE=Edge,chrome=1\"/>\n",
      "  <meta name=\"apple-mobile-web-app-capable\" content=\"yes\"/>\n",
      "  <meta name=\"format-detection\" content=\"telephone=no\"/>\n",
      "  <link rel=\"shortcut icon\" href=\"/assets/templates/gdp/favicon.ico\" type=\"image/vnd.microsoft.icon\"/>\n",
      "  <meta name=\"robots\" content=\"noindex,noarchive\"/>\n",
      "  <link rel=\"stylesheet\" href=\"/dp/assets/style/store1124.css\" type=\"text/css\" media=\"all\"/>\n",
      "</head>\n",
      "<body itemscope=\"itemscope\" itemtype=\"http://schema.org/WebPage\" class=\"page-home\">\n",
      "  <header id=\"header\" itemscope=\"itemscope\" itemtype=\"http://schema.org/WPHeader\">\n",
      "    <h1 class=\"home-title\">Scraping-Book</h1>\n",
      "    <h2 class=\"home-subtitle\">これは書籍用のサンプルページです。購入などの操作はできません。</h2>\n",
      "    <nav id=\"headerFunction\">\n",
      "      <div id=\"login\">\n",
      "        <a href=\"#login\" title=\"サンプルページのため利用できません\">ログイン</a>\n",
      "      </div>\n",
      "      <div id=\"cart\">\n",
      "        <a href=\"/dp/cart\" title=\"サンプルページのため利用できません\">カート</a>\n",
      "      </div>\n",
      "    </nav>\n",
      "  </header>\n",
      "  <div id=\"main\">\n",
      "    <noscript><div id=\"noscript\">\n",
      "      <p>本サイトではJavaScriptを使用しております。JavaScriptが無効な状態ではご利用いただけません。</p>\n",
      "    </div></noscript>\n",
      "\n",
      "    <div id=\"bookList\">\n",
      "      <h2>商品一覧</h2>\n",
      "      <div id=\"topNavigation\">\n",
      "        <div id=\"filter\">\n",
      "          <form id=\"search\" action=\"/dp\" method=\"get\">\n",
      "            <input type=\"search\" name=\"query\" id=\"searchText\" title=\"検索する商品のキーワードを入力\" placeholder=\"商品のキーワード\" required=\"required\" value=\"\"/>\n",
      "            <input type=\"submit\" id=\"searchSubmit\" value=\"検索\" title=\"検索する\"/>\n",
      "          </form>\n",
      "          <div id=\"select\">\n",
      "            <a href=\"\" id=\"selectLabel\" title=\"商品ジャンルを選択する\">すべての商品</a>\n",
      "            <div id=\"selectMenu\">\n",
      "              <ul id=\"selectMenuBody\"><li class=\"title\">商品ジャンルを選択</li><li class=\"selected\"><a href=\"/dp\">すべての商品</a></li><li><a href=\"/dp/genre/%E3%83%91%E3%82%BD%E3%82%B3%E3%83%B3\">パソコン</a></li><li><a href=\"/dp/genre/%E3%82%B9%E3%83%9E%E3%83%BC%E3%83%88%E3%83%95%E3%82%A9%E3%83%B3%E3%83%BB%E3%82%BF%E3%83%96%E3%83%AC%E3%83%83%E3%83%88\">スマートフォン・タブレット</a></li><li><a href=\"/dp/genre/%E3%83%87%E3%82%B6%E3%82%A4%E3%83%B3%E3%83%BB%E7%B4%A0%E6%9D%90%E9%9B%86\">デザイン・素材集</a></li><li><a href=\"/dp/genre/Web%E3%82%B5%E3%82%A4%E3%83%88%E5%88%B6%E4%BD%9C\">Webサイト制作</a></li><li><a href=\"/dp/genre/%E3%83%97%E3%83%AD%E3%82%B0%E3%83%A9%E3%83%9F%E3%83%B3%E3%82%B0%E3%83%BB%E3%82%B7%E3%82%B9%E3%83%86%E3%83%A0%E9%96%8B%E7%99%BA\">プログラミング・システム開発</a></li><li><a href=\"/dp/genre/%E3%83%8D%E3%83%83%E3%83%88%E3%83%AF%E3%83%BC%E3%82%AF%E3%83%BBUNIX%E3%83%BB%E3%83%87%E3%83%BC%E3%82%BF%E3%83%99%E3%83%BC%E3%82%B9\">ネットワーク・UNIX・データベース</a></li><li><a href=\"/dp/genre/%E8%B3%87%E6%A0%BC%E8%A9%A6%E9%A8%93%EF%BC%88IT%EF%BC%89\">資格試験（IT）</a></li><li><a href=\"/dp/genre/%E8%B3%87%E6%A0%BC%E8%A9%A6%E9%A8%93%EF%BC%88%E4%B8%80%E8%88%AC%EF%BC%89%E3%83%BB%E5%A4%A7%E5%AD%A6%E5%8F%97%E9%A8%93\">資格試験（一般）・大学受験</a></li><li><a href=\"/dp/genre/%E8%B6%A3%E5%91%B3%E3%83%BB%E5%AE%9F%E7%94%A8%E3%83%BB%E3%83%87%E3%82%B8%E3%82%AB%E3%83%A1\">趣味・実用・デジカメ</a></li><li><a href=\"/dp/genre/%E3%83%93%E3%82%B8%E3%83%8D%E3%82%B9%E3%83%BB%E3%83%9E%E3%83%8D%E3%83%BC\">ビジネス・マネー</a></li><li><a href=\"/dp/genre/%E7%90%86%E5%B7%A5%E3%83%BB%E3%82%B5%E3%82%A4%E3%82%A8%E3%83%B3%E3%82%B9\">理工・サイエンス</a></li></ul>\n",
      "            </div>\n",
      "          </div>\n",
      "        </div>\n",
      "        <nav id=\"pagingTop\">          <ul>\n",
      "            <li><span class=\"prev\">―</span></li>\n",
      "            <li class=\"paging-number\">1</li>\n",
      "            <li><a href=\"/dp?start=30\" title=\"サンプルページのため利用できません\" class=\"next\">次</a></li>\n",
      "          </ul>\n",
      "        </nav>\n",
      "      </div>\n",
      "      <ul itemprop=\"isPartOf\" itemscope=\"itemscope\" itemtype=\"http://www.schema.org/CollectionPage\" id=\"listBook\" class=\"list-book\"><li id=\"bannerTopAd\">\n",
      "  <div id=\"topAdPrev\"><a href=\"#adPrev\" title=\"サンプルページのため利用できません\">前</a></div>\n",
      "  <div id=\"topAdNext\"><a href=\"#adNext\" title=\"サンプルページのため利用できません\">次</a></div>\n",
      "  <ul id=\"topAdNum\"></ul>\n",
      "</li>\n",
      "<li class=\"subscription\"><a href=\"/dp/subscription\" title=\"サンプルページのため利用できません\">\n",
      "  <p class=\"title\"><span class=\"series\">Software Design・<wbr>WEB+DB PRESS</span>電子版定期購読のお申し込み</p>\n",
      "  <img src=\"/assets/images/dummy.png\" data-image=\"/assets/images/gdp/subscription/subsc-cover.png,/assets/images/gdp/subscription/subsc-cover@2x.png\" width=\"236\" height=\"138\" alt=\"cover\" style=\"max-width:none;max-height:none;position:absolute;right:0;bottom:-10px;border:none\">\n",
      "  <ul class=\"format\"><li class=\"pdf\">PDF</li></ul>\n",
      "</a></li>        <li class=\"new\" id=\"978-4-7741-8336-7\"><a itemprop=\"url\" href=\"/dp/ebook/2016/978-4-7741-8336-7\">\n",
      "          <img itemprop=\"image\" src=\"/assets/images/dummy.png\" width=\"100\" height=\"141\" data-image=\"/assets/images/gdp/2016/thumb/TH100_978-4-7741-8336-7.jpg,/assets/images/gdp/2016/thumb/TH200_978-4-7741-8336-7.jpg\" alt=\"カバー画像\"/>\n",
      "          <p itemprop=\"name\" class=\"title\">これからはじめるプログラミング 作って覚える基礎の基礎</p>\n",
      "          <p itemprop=\"author\" class=\"author\">谷尻かおり　著，<wbr/>谷尻豊寿　監修</p>\n",
      "          <p itemprop=\"offers\" itemscope=\"itemscope\" itemtype=\"http://schema.org/Offer\" class=\"price\"><span itemprop=\"price\">2,280</span>円<meta itemprop=\"priceCurrency\" content=\"JPY\"/></p>\n",
      "          <ul class=\"format\">\n",
      "            <li class=\"pdf\">PDF</li><li class=\"epub\">EPUB</li>\n",
      "          </ul>\n",
      "          <ul class=\"date\">\n",
      "            <li class=\"notice\"><time datetime=\"2016-7-23\" itemprop=\"datePublished\" class=\"published\">2016年7月23日</time></li>\n",
      "            \n",
      "          </ul>\n",
      "        </a></li>        <li class=\"new\" id=\"978-4-7741-8337-4\"><a itemprop=\"url\" href=\"/dp/ebook/2016/978-4-7741-8337-4\">\n",
      "          <img itemprop=\"image\" src=\"/assets/images/dummy.png\" width=\"100\" height=\"141\" data-image=\"/assets/images/gdp/2016/thumb/TH100_978-4-7741-8337-4.jpg,/assets/images/gdp/2016/thumb/TH200_978-4-7741-8337-4.jpg\" alt=\"カバー画像\"/>\n",
      "          <p itemprop=\"name\" class=\"title\"><span class=\"series\">情報処理技術者試験</span> 平成<wbr/>28<wbr/>年度<wbr/>【秋期】<wbr/>情報セキュリティマネジメント パーフェクトラーニング過去問題集</p>\n",
      "          <p itemprop=\"author\" class=\"author\">庄司勝哉，<wbr/>吉川允樹　著</p>\n",
      "          <p itemprop=\"offers\" itemscope=\"itemscope\" itemtype=\"http://schema.org/Offer\" class=\"price\"><span itemprop=\"price\">1,480</span>円<meta itemprop=\"priceCurrency\" content=\"JPY\"/></p>\n",
      "          <ul class=\"format\">\n",
      "            <li class=\"pdf\">PDF</li>\n",
      "          </ul>\n",
      "          <ul class=\"date\">\n",
      "            <li class=\"notice\"><time datetime=\"2016-7-23\" itemprop=\"datePublished\" class=\"published\">2016年7月23日</time></li>\n",
      "            \n",
      "          </ul>\n",
      "        </a></li>        <li class=\"new\" id=\"978-4-7741-8338-1\"><a itemprop=\"url\" href=\"/dp/ebook/2016/978-4-7741-8338-1\">\n",
      "          <img itemprop=\"image\" src=\"/assets/images/dummy.png\" width=\"100\" height=\"144\" data-image=\"/assets/images/gdp/2016/thumb/TH100_978-4-7741-8338-1.jpg,/assets/images/gdp/2016/thumb/TH200_978-4-7741-8338-1.jpg\" alt=\"カバー画像\"/>\n",
      "          <p itemprop=\"name\" class=\"title\"><span class=\"series\">大人の自由時間<wbr/>（大人の自由時間<wbr/>mini）</span> 水泳のきれいなカラダをつくる<br/><span class=\"sub\">～スリムな逆三角形になる！ドライランドトレーニング</span></p>\n",
      "          <p itemprop=\"author\" class=\"author\">髙橋雄介　著</p>\n",
      "          <p itemprop=\"offers\" itemscope=\"itemscope\" itemtype=\"http://schema.org/Offer\" class=\"price\"><span itemprop=\"price\">1,280</span>円<meta itemprop=\"priceCurrency\" content=\"JPY\"/></p>\n",
      "          <ul class=\"format\">\n",
      "            <li class=\"pdf\">PDF</li>\n",
      "          </ul>\n",
      "          <ul class=\"date\">\n",
      "            <li class=\"notice\"><time datetime=\"2016-7-23\" itemprop=\"datePublished\" class=\"published\">2016年7月23日</time></li>\n",
      "            \n",
      "          </ul>\n",
      "        </a></li>        <li class=\"new\" id=\"978-4-7741-8346-6\"><a itemprop=\"url\" href=\"/dp/ebook/2016/978-4-7741-8346-6\">\n",
      "          <img itemprop=\"image\" src=\"/assets/images/dummy.png\" width=\"100\" height=\"133\" data-image=\"/assets/images/gdp/2016/thumb/TH100_978-4-7741-8346-6.jpg,/assets/images/gdp/2016/thumb/TH200_978-4-7741-8346-6.jpg\" alt=\"カバー画像\"/>\n",
      "          <p itemprop=\"name\" class=\"title\"><span class=\"series\">30<wbr/>レッスン</span> 30<wbr/>レッスンで絶対合格！ Microsoft Office Specialist PowerPoint 2013 テキスト＋問題集</p>\n",
      "          <p itemprop=\"author\" class=\"author\">本郷PC塾　著</p>\n",
      "          <p itemprop=\"offers\" itemscope=\"itemscope\" itemtype=\"http://schema.org/Offer\" class=\"price\"><span itemprop=\"price\">1,980</span>円<meta itemprop=\"priceCurrency\" content=\"JPY\"/></p>\n",
      "          <ul class=\"format\">\n",
      "            <li class=\"pdf\">PDF</li>\n",
      "          </ul>\n",
      "          <ul class=\"date\">\n",
      "            <li class=\"notice\"><time datetime=\"2016-7-22\" itemprop=\"datePublished\" class=\"published\">2016年7月22日</time></li>\n",
      "            \n",
      "          </ul>\n",
      "        </a></li>        <li class=\"new\" id=\"978-4-7741-8334-3\"><a itemprop=\"url\" href=\"/dp/ebook/2016/978-4-7741-8334-3\">\n",
      "          <img itemprop=\"image\" src=\"/assets/images/dummy.png\" width=\"100\" height=\"147\" data-image=\"/assets/images/gdp/2016/thumb/TH100_978-4-7741-8334-3.jpg,/assets/images/gdp/2016/thumb/TH200_978-4-7741-8334-3.jpg\" alt=\"カバー画像\"/>\n",
      "          <p itemprop=\"name\" class=\"title\"><span class=\"series\">ゼロからはじめる</span> ゼロからはじめる<br/>海外旅行でスマホ活用 スマートガイド</p>\n",
      "          <p itemprop=\"author\" class=\"author\">山谷剛史，<wbr/>田口和裕，<wbr/>タトラエディット　著</p>\n",
      "          <p itemprop=\"offers\" itemscope=\"itemscope\" itemtype=\"http://schema.org/Offer\" class=\"price\"><span itemprop=\"price\">1,380</span>円<meta itemprop=\"priceCurrency\" content=\"JPY\"/></p>\n",
      "          <ul class=\"format\">\n",
      "            <li class=\"pdf\">PDF</li>\n",
      "          </ul>\n",
      "          <ul class=\"date\">\n",
      "            <li class=\"notice\"><time datetime=\"2016-7-22\" itemprop=\"datePublished\" class=\"published\">2016年7月22日</time></li>\n",
      "            \n",
      "          </ul>\n",
      "        </a></li>        <li class=\"new\" id=\"978-4-7741-8335-0\"><a itemprop=\"url\" href=\"/dp/ebook/2016/978-4-7741-8335-0\">\n",
      "          <img itemprop=\"image\" src=\"/assets/images/dummy.png\" width=\"100\" height=\"157\" data-image=\"/assets/images/gdp/2016/thumb/TH100_978-4-7741-8335-0.jpg,/assets/images/gdp/2016/thumb/TH200_978-4-7741-8335-0.jpg\" alt=\"カバー画像\"/>\n",
      "          <p itemprop=\"name\" class=\"title\"><span class=\"series\">今すぐ使えるかんたん<wbr/>mini</span> 今すぐ使えるかんたんmini<br/>CD&amp;DVD 作成超入門<br/><span class=\"sub\">［Windows 10<wbr/>対応版］</span></p>\n",
      "          <p itemprop=\"author\" class=\"author\">オンサイト　著</p>\n",
      "          <p itemprop=\"offers\" itemscope=\"itemscope\" itemtype=\"http://schema.org/Offer\" class=\"price\"><span itemprop=\"price\">1,080</span>円<meta itemprop=\"priceCurrency\" content=\"JPY\"/></p>\n",
      "          <ul class=\"format\">\n",
      "            <li class=\"pdf\">PDF</li>\n",
      "          </ul>\n",
      "          <ul class=\"date\">\n",
      "            <li class=\"notice\"><time datetime=\"2016-7-22\" itemprop=\"datePublished\" class=\"published\">2016年7月22日</time></li>\n",
      "            \n",
      "          </ul>\n",
      "        </a></li>        <li class=\"new\" id=\"978-4-7741-8325-1\"><a itemprop=\"url\" href=\"/dp/ebook/2016/978-4-7741-8325-1\">\n",
      "          <img itemprop=\"image\" src=\"/assets/images/dummy.png\" width=\"100\" height=\"133\" data-image=\"/assets/images/gdp/2016/thumb/TH100_978-4-7741-8325-1.jpg,/assets/images/gdp/2016/thumb/TH200_978-4-7741-8325-1.jpg\" alt=\"カバー画像\"/>\n",
      "          <p itemprop=\"name\" class=\"title\"><span class=\"series\">大きな字でわかりやすい</span> 大きな字でわかりやすい<br/>ワード<wbr/>2016<wbr/>入門</p>\n",
      "          <p itemprop=\"author\" class=\"author\">AYURA　著</p>\n",
      "          <p itemprop=\"offers\" itemscope=\"itemscope\" itemtype=\"http://schema.org/Offer\" class=\"price\"><span itemprop=\"price\">980</span>円<meta itemprop=\"priceCurrency\" content=\"JPY\"/></p>\n",
      "          <ul class=\"format\">\n",
      "            <li class=\"pdf\">PDF</li>\n",
      "          </ul>\n",
      "          <ul class=\"date\">\n",
      "            <li><time datetime=\"2016-7-20\" itemprop=\"datePublished\" class=\"published\">2016年7月20日</time></li>\n",
      "            \n",
      "          </ul>\n",
      "        </a></li>        <li class=\"new\" id=\"978-4-7741-8322-0\"><a itemprop=\"url\" href=\"/dp/ebook/2016/978-4-7741-8322-0\">\n",
      "          <img itemprop=\"image\" src=\"/assets/images/dummy.png\" width=\"100\" height=\"133\" data-image=\"/assets/images/gdp/2016/thumb/TH100_978-4-7741-8322-0.jpg,/assets/images/gdp/2016/thumb/TH200_978-4-7741-8322-0.jpg\" alt=\"カバー画像\"/>\n",
      "          <p itemprop=\"name\" class=\"title\"><span class=\"series\">大きな字でわかりやすい</span> 大きな字でわかりやすい<br/>エクセル<wbr/>2016 入門</p>\n",
      "          <p itemprop=\"author\" class=\"author\">AYURA　著</p>\n",
      "          <p itemprop=\"offers\" itemscope=\"itemscope\" itemtype=\"http://schema.org/Offer\" class=\"price\"><span itemprop=\"price\">980</span>円<meta itemprop=\"priceCurrency\" content=\"JPY\"/></p>\n",
      "          <ul class=\"format\">\n",
      "            <li class=\"pdf\">PDF</li>\n",
      "          </ul>\n",
      "          <ul class=\"date\">\n",
      "            <li><time datetime=\"2016-7-20\" itemprop=\"datePublished\" class=\"published\">2016年7月20日</time></li>\n",
      "            \n",
      "          </ul>\n",
      "        </a></li>        <li class=\"new\" id=\"978-4-7741-8323-7\"><a itemprop=\"url\" href=\"/dp/ebook/2016/978-4-7741-8323-7\">\n",
      "          <img itemprop=\"image\" src=\"/assets/images/dummy.png\" width=\"100\" height=\"128\" data-image=\"/assets/images/gdp/2016/thumb/TH100_978-4-7741-8323-7.jpg,/assets/images/gdp/2016/thumb/TH200_978-4-7741-8323-7.jpg\" alt=\"カバー画像\"/>\n",
      "          <p itemprop=\"name\" class=\"title\"><span class=\"series\">今すぐ使えるかんたん</span> 今すぐ使えるかんたん<br/>ぜったいデキます！ デジカメ写真活用術<br/><span class=\"sub\">［Windows 10<wbr/>対応版］</span></p>\n",
      "          <p itemprop=\"author\" class=\"author\">井上香緒里　著</p>\n",
      "          <p itemprop=\"offers\" itemscope=\"itemscope\" itemtype=\"http://schema.org/Offer\" class=\"price\"><span itemprop=\"price\">1,480</span>円<meta itemprop=\"priceCurrency\" content=\"JPY\"/></p>\n",
      "          <ul class=\"format\">\n",
      "            <li class=\"pdf\">PDF</li>\n",
      "          </ul>\n",
      "          <ul class=\"date\">\n",
      "            <li><time datetime=\"2016-7-16\" itemprop=\"datePublished\" class=\"published\">2016年7月16日</time></li>\n",
      "            \n",
      "          </ul>\n",
      "        </a></li>        <li class=\"new\" id=\"978-4-7741-8119-6\"><a itemprop=\"url\" href=\"/dp/ebook/2016/978-4-7741-8119-6\">\n",
      "          <img itemprop=\"image\" src=\"/assets/images/dummy.png\" width=\"100\" height=\"141\" data-image=\"/assets/images/gdp/2016/thumb/TH100_978-4-7741-8119-6.jpg,/assets/images/gdp/2016/thumb/TH200_978-4-7741-8119-6.jpg\" alt=\"カバー画像\"/>\n",
      "          <p itemprop=\"name\" class=\"title\">Software Design 2016<wbr/>年<wbr/>8<wbr/>月号</p>\n",
      "          <p itemprop=\"author\" class=\"author\"></p>\n",
      "          <p itemprop=\"offers\" itemscope=\"itemscope\" itemtype=\"http://schema.org/Offer\" class=\"price\"><span itemprop=\"price\">1,318</span>円<meta itemprop=\"priceCurrency\" content=\"JPY\"/></p>\n",
      "          <ul class=\"format\">\n",
      "            <li class=\"pdf\">PDF</li>\n",
      "          </ul>\n",
      "          <ul class=\"date\">\n",
      "            <li><time datetime=\"2016-7-16\" itemprop=\"datePublished\" class=\"published\">2016年7月16日</time></li>\n",
      "            \n",
      "          </ul>\n",
      "        </a></li>        <li class=\"new\" id=\"978-4-7741-8333-6\"><a itemprop=\"url\" href=\"/dp/ebook/2016/978-4-7741-8333-6\">\n",
      "          <img itemprop=\"image\" src=\"/assets/images/dummy.png\" width=\"100\" height=\"126\" data-image=\"/assets/images/gdp/2016/thumb/TH100_978-4-7741-8333-6.jpg,/assets/images/gdp/2016/thumb/TH200_978-4-7741-8333-6.jpg\" alt=\"カバー画像\"/>\n",
      "          <p itemprop=\"name\" class=\"title\">無料ではじめる<wbr/>Blender CG<wbr/>イラストテクニック<br/><span class=\"sub\">～<wbr/>3DCG<wbr/>の考え方としくみがしっかりわかる</span></p>\n",
      "          <p itemprop=\"author\" class=\"author\">大澤龍一　著</p>\n",
      "          <p itemprop=\"offers\" itemscope=\"itemscope\" itemtype=\"http://schema.org/Offer\" class=\"price\"><span itemprop=\"price\">2,680</span>円<meta itemprop=\"priceCurrency\" content=\"JPY\"/></p>\n",
      "          <ul class=\"format\">\n",
      "            <li class=\"pdf\">PDF</li>\n",
      "          </ul>\n",
      "          <ul class=\"date\">\n",
      "            <li><time datetime=\"2016-7-16\" itemprop=\"datePublished\" class=\"published\">2016年7月16日</time></li>\n",
      "            \n",
      "          </ul>\n",
      "        </a></li>        <li class=\"new\" id=\"978-4-7741-8324-4\"><a itemprop=\"url\" href=\"/dp/ebook/2016/978-4-7741-8324-4\">\n",
      "          <img itemprop=\"image\" src=\"/assets/images/dummy.png\" width=\"100\" height=\"127\" data-image=\"/assets/images/gdp/2016/thumb/TH100_978-4-7741-8324-4.jpg,/assets/images/gdp/2016/thumb/TH200_978-4-7741-8324-4.jpg\" alt=\"カバー画像\"/>\n",
      "          <p itemprop=\"name\" class=\"title\">小さなお店＆<wbr/>会社の WordPress<wbr/>超入門<br/><span class=\"sub\">―初めてでも安心！思いどおりのホームページを作ろう！</span></p>\n",
      "          <p itemprop=\"author\" class=\"author\">星野邦敏，<wbr/>大胡由紀，<wbr/>吉田裕介，<wbr/>羽野めぐみ，<wbr/>リブロワークス　著</p>\n",
      "          <p itemprop=\"offers\" itemscope=\"itemscope\" itemtype=\"http://schema.org/Offer\" class=\"price\"><span itemprop=\"price\">1,980</span>円<meta itemprop=\"priceCurrency\" content=\"JPY\"/></p>\n",
      "          <ul class=\"format\">\n",
      "            <li class=\"pdf\">PDF</li><li class=\"epub\">EPUB</li>\n",
      "          </ul>\n",
      "          <ul class=\"date\">\n",
      "            <li><time datetime=\"2016-7-15\" itemprop=\"datePublished\" class=\"published\">2016年7月15日</time></li>\n",
      "            \n",
      "          </ul>\n",
      "        </a></li>        <li id=\"978-4-7741-8302-2\"><a itemprop=\"url\" href=\"/dp/ebook/2016/978-4-7741-8302-2\">\n",
      "          <img itemprop=\"image\" src=\"/assets/images/dummy.png\" width=\"100\" height=\"142\" data-image=\"/assets/images/gdp/2016/thumb/TH100_978-4-7741-8302-2.jpg,/assets/images/gdp/2016/thumb/TH200_978-4-7741-8302-2.jpg\" alt=\"カバー画像\"/>\n",
      "          <p itemprop=\"name\" class=\"title\"><span class=\"series\">WEB+DB PRESS plus</span> Atom<wbr/>実践入門<br/><span class=\"sub\">──進化し続けるハッカブルなエディタ</span></p>\n",
      "          <p itemprop=\"author\" class=\"author\">大竹智也　著</p>\n",
      "          <p itemprop=\"offers\" itemscope=\"itemscope\" itemtype=\"http://schema.org/Offer\" class=\"price\"><span itemprop=\"price\">2,680</span>円<meta itemprop=\"priceCurrency\" content=\"JPY\"/></p>\n",
      "          <ul class=\"format\">\n",
      "            <li class=\"pdf\">PDF</li><li class=\"epub\">EPUB</li>\n",
      "          </ul>\n",
      "          <ul class=\"date\">\n",
      "            <li><time datetime=\"2016-7-14\" itemprop=\"datePublished\" class=\"published\">2016年7月14日</time></li>\n",
      "            \n",
      "          </ul>\n",
      "        </a></li>        <li id=\"978-4-7741-8301-5\"><a itemprop=\"url\" href=\"/dp/ebook/2016/978-4-7741-8301-5\">\n",
      "          <img itemprop=\"image\" src=\"/assets/images/dummy.png\" width=\"100\" height=\"142\" data-image=\"/assets/images/gdp/2016/thumb/TH100_978-4-7741-8301-5.jpg,/assets/images/gdp/2016/thumb/TH200_978-4-7741-8301-5.jpg\" alt=\"カバー画像\"/>\n",
      "          <p itemprop=\"name\" class=\"title\">アウトライナー実践入門<br/><span class=\"sub\">～<wbr/>「書く・<wbr/>考える・<wbr/>生活する」<wbr/>創造的アウトライン・<wbr/>プロセッシングの技術〜</span></p>\n",
      "          <p itemprop=\"author\" class=\"author\">Tak.　著</p>\n",
      "          <p itemprop=\"offers\" itemscope=\"itemscope\" itemtype=\"http://schema.org/Offer\" class=\"price\"><span itemprop=\"price\">1,980</span>円<meta itemprop=\"priceCurrency\" content=\"JPY\"/></p>\n",
      "          <ul class=\"format\">\n",
      "            <li class=\"pdf\">PDF</li><li class=\"epub\">EPUB</li>\n",
      "          </ul>\n",
      "          <ul class=\"date\">\n",
      "            <li><time datetime=\"2016-7-09\" itemprop=\"datePublished\" class=\"published\">2016年7月9日</time></li>\n",
      "            \n",
      "          </ul>\n",
      "        </a></li>        <li id=\"978-4-7741-8297-1\"><a itemprop=\"url\" href=\"/dp/ebook/2016/978-4-7741-8297-1\">\n",
      "          <img itemprop=\"image\" src=\"/assets/images/dummy.png\" width=\"100\" height=\"152\" data-image=\"/assets/images/gdp/2016/thumb/TH100_978-4-7741-8297-1.jpg,/assets/images/gdp/2016/thumb/TH200_978-4-7741-8297-1.jpg\" alt=\"カバー画像\"/>\n",
      "          <p itemprop=\"name\" class=\"title\"><span class=\"series\">ゼロからはじめる</span> ゼロからはじめる<br/>ドコモ<wbr/>Galaxy S7 edge SC-02H スマートガイド</p>\n",
      "          <p itemprop=\"author\" class=\"author\">技術評論社編集部　著</p>\n",
      "          <p itemprop=\"offers\" itemscope=\"itemscope\" itemtype=\"http://schema.org/Offer\" class=\"price\"><span itemprop=\"price\">1,380</span>円<meta itemprop=\"priceCurrency\" content=\"JPY\"/></p>\n",
      "          <ul class=\"format\">\n",
      "            <li class=\"pdf\">PDF</li>\n",
      "          </ul>\n",
      "          <ul class=\"date\">\n",
      "            <li><time datetime=\"2016-7-08\" itemprop=\"datePublished\" class=\"published\">2016年7月8日</time></li>\n",
      "            \n",
      "          </ul>\n",
      "        </a></li>        <li id=\"978-4-7741-8255-9\"><a itemprop=\"url\" href=\"/dp/ebook/2016/978-4-7741-8255-9\">\n",
      "          <img itemprop=\"image\" src=\"/assets/images/dummy.png\" width=\"100\" height=\"141\" data-image=\"/assets/images/gdp/2016/thumb/TH100_978-4-7741-8255-9.jpg,/assets/images/gdp/2016/thumb/TH200_978-4-7741-8255-9.jpg\" alt=\"カバー画像\"/>\n",
      "          <p itemprop=\"name\" class=\"title\">Excel<wbr/>のムカムカ！が一瞬でなくなる使い方<br/><span class=\"sub\">～表計算・<wbr/>資料作成のストレスを最小限に！</span></p>\n",
      "          <p itemprop=\"author\" class=\"author\">四禮静子　著</p>\n",
      "          <p itemprop=\"offers\" itemscope=\"itemscope\" itemtype=\"http://schema.org/Offer\" class=\"price\"><span itemprop=\"price\">1,480</span>円<meta itemprop=\"priceCurrency\" content=\"JPY\"/></p>\n",
      "          <ul class=\"format\">\n",
      "            <li class=\"pdf\">PDF</li><li class=\"epub\">EPUB</li>\n",
      "          </ul>\n",
      "          <ul class=\"date\">\n",
      "            <li><time datetime=\"2016-7-08\" itemprop=\"datePublished\" class=\"published\">2016年7月8日</time></li>\n",
      "            \n",
      "          </ul>\n",
      "        </a></li>        <li id=\"978-4-7741-8258-2\"><a itemprop=\"url\" href=\"/dp/ebook/2016/978-4-7741-8258-2\">\n",
      "          <img itemprop=\"image\" src=\"/assets/images/dummy.png\" width=\"100\" height=\"141\" data-image=\"/assets/images/gdp/2016/thumb/TH100_978-4-7741-8258-2.jpg,/assets/images/gdp/2016/thumb/TH200_978-4-7741-8258-2.jpg\" alt=\"カバー画像\"/>\n",
      "          <p itemprop=\"name\" class=\"title\">Word<wbr/>のムカムカ！が一瞬でなくなる使い方<br/><span class=\"sub\">～文章・<wbr/>資料作成のストレスを最小限に！</span></p>\n",
      "          <p itemprop=\"author\" class=\"author\">四禮静子　著</p>\n",
      "          <p itemprop=\"offers\" itemscope=\"itemscope\" itemtype=\"http://schema.org/Offer\" class=\"price\"><span itemprop=\"price\">1,480</span>円<meta itemprop=\"priceCurrency\" content=\"JPY\"/></p>\n",
      "          <ul class=\"format\">\n",
      "            <li class=\"pdf\">PDF</li><li class=\"epub\">EPUB</li>\n",
      "          </ul>\n",
      "          <ul class=\"date\">\n",
      "            <li><time datetime=\"2016-7-08\" itemprop=\"datePublished\" class=\"published\">2016年7月8日</time></li>\n",
      "            \n",
      "          </ul>\n",
      "        </a></li>        <li id=\"978-4-7741-8319-0\"><a itemprop=\"url\" href=\"/dp/ebook/2016/978-4-7741-8319-0\">\n",
      "          <img itemprop=\"image\" src=\"/assets/images/dummy.png\" width=\"100\" height=\"142\" data-image=\"/assets/images/gdp/2016/thumb/TH100_978-4-7741-8319-0.jpg,/assets/images/gdp/2016/thumb/TH200_978-4-7741-8319-0.jpg\" alt=\"カバー画像\"/>\n",
      "          <p itemprop=\"name\" class=\"title\"><span class=\"series\">生物ミステリー<wbr/>（生物ミステリー プロ）</span> そもそも島に進化あり</p>\n",
      "          <p itemprop=\"author\" class=\"author\">川上和人　著</p>\n",
      "          <p itemprop=\"offers\" itemscope=\"itemscope\" itemtype=\"http://schema.org/Offer\" class=\"price\"><span itemprop=\"price\">1,880</span>円<meta itemprop=\"priceCurrency\" content=\"JPY\"/></p>\n",
      "          <ul class=\"format\">\n",
      "            <li class=\"pdf\">PDF</li><li class=\"epub\">EPUB</li>\n",
      "          </ul>\n",
      "          <ul class=\"date\">\n",
      "            <li><time datetime=\"2016-7-08\" itemprop=\"datePublished\" class=\"published\">2016年7月8日</time></li>\n",
      "            <li><time datetime=\"2016-7-08\" itemprop=\"dateModified\" class=\"modified\">2016年7月8日</time></li>\n",
      "          </ul>\n",
      "        </a></li>        <li id=\"978-4-7741-8318-3\"><a itemprop=\"url\" href=\"/dp/ebook/2016/978-4-7741-8318-3\">\n",
      "          <img itemprop=\"image\" src=\"/assets/images/dummy.png\" width=\"100\" height=\"143\" data-image=\"/assets/images/gdp/2016/thumb/TH100_978-4-7741-8318-3.jpg,/assets/images/gdp/2016/thumb/TH200_978-4-7741-8318-3.jpg\" alt=\"カバー画像\"/>\n",
      "          <p itemprop=\"name\" class=\"title\"><span class=\"series\">大人の自由時間<wbr/>（大人の自由時間<wbr/>mini）</span> 山歩きスタートブック<br/><span class=\"sub\">～道具と歩き方がわかる，<wbr/>行きたいコースが見つかる</span></p>\n",
      "          <p itemprop=\"author\" class=\"author\">西野淑子　著</p>\n",
      "          <p itemprop=\"offers\" itemscope=\"itemscope\" itemtype=\"http://schema.org/Offer\" class=\"price\"><span itemprop=\"price\">1,280</span>円<meta itemprop=\"priceCurrency\" content=\"JPY\"/></p>\n",
      "          <ul class=\"format\">\n",
      "            <li class=\"pdf\">PDF</li>\n",
      "          </ul>\n",
      "          <ul class=\"date\">\n",
      "            <li><time datetime=\"2016-7-06\" itemprop=\"datePublished\" class=\"published\">2016年7月6日</time></li>\n",
      "            \n",
      "          </ul>\n",
      "        </a></li>        <li id=\"978-4-7741-8317-6\"><a itemprop=\"url\" href=\"/dp/ebook/2016/978-4-7741-8317-6\">\n",
      "          <img itemprop=\"image\" src=\"/assets/images/dummy.png\" width=\"100\" height=\"142\" data-image=\"/assets/images/gdp/2016/thumb/TH100_978-4-7741-8317-6.jpg,/assets/images/gdp/2016/thumb/TH200_978-4-7741-8317-6.jpg\" alt=\"カバー画像\"/>\n",
      "          <p itemprop=\"name\" class=\"title\">平成<wbr/>28-29<wbr/>年度 基本情報技術者 試験によくでる問題集<br/><span class=\"sub\">【午後】</span></p>\n",
      "          <p itemprop=\"author\" class=\"author\">角谷一成，<wbr/>イエローテールコンピュータ　著</p>\n",
      "          <p itemprop=\"offers\" itemscope=\"itemscope\" itemtype=\"http://schema.org/Offer\" class=\"price\"><span itemprop=\"price\">1,880</span>円<meta itemprop=\"priceCurrency\" content=\"JPY\"/></p>\n",
      "          <ul class=\"format\">\n",
      "            <li class=\"pdf\">PDF</li><li class=\"epub\">EPUB</li>\n",
      "          </ul>\n",
      "          <ul class=\"date\">\n",
      "            <li><time datetime=\"2016-7-05\" itemprop=\"datePublished\" class=\"published\">2016年7月5日</time></li>\n",
      "            \n",
      "          </ul>\n",
      "        </a></li>        <li id=\"978-4-7741-8300-8\"><a itemprop=\"url\" href=\"/dp/ebook/2016/978-4-7741-8300-8\">\n",
      "          <img itemprop=\"image\" src=\"/assets/images/dummy.png\" width=\"100\" height=\"142\" data-image=\"/assets/images/gdp/2016/thumb/TH100_978-4-7741-8300-8.jpg,/assets/images/gdp/2016/thumb/TH200_978-4-7741-8300-8.jpg\" alt=\"カバー画像\"/>\n",
      "          <p itemprop=\"name\" class=\"title\"><span class=\"series\">大人の自由時間<wbr/>（大人の自由時間<wbr/>mini）</span> あきらめないランニング<br/><span class=\"sub\">～楽しいランのはじめかた，<wbr/>続けかた</span></p>\n",
      "          <p itemprop=\"author\" class=\"author\">白方健一，<wbr/>ナイスク　著</p>\n",
      "          <p itemprop=\"offers\" itemscope=\"itemscope\" itemtype=\"http://schema.org/Offer\" class=\"price\"><span itemprop=\"price\">1,280</span>円<meta itemprop=\"priceCurrency\" content=\"JPY\"/></p>\n",
      "          <ul class=\"format\">\n",
      "            <li class=\"pdf\">PDF</li>\n",
      "          </ul>\n",
      "          <ul class=\"date\">\n",
      "            <li><time datetime=\"2016-7-01\" itemprop=\"datePublished\" class=\"published\">2016年7月1日</time></li>\n",
      "            \n",
      "          </ul>\n",
      "        </a></li>        <li id=\"978-4-7741-8299-5\"><a itemprop=\"url\" href=\"/dp/ebook/2016/978-4-7741-8299-5\">\n",
      "          <img itemprop=\"image\" src=\"/assets/images/dummy.png\" width=\"100\" height=\"126\" data-image=\"/assets/images/gdp/2016/thumb/TH100_978-4-7741-8299-5.jpg,/assets/images/gdp/2016/thumb/TH200_978-4-7741-8299-5.jpg\" alt=\"カバー画像\"/>\n",
      "          <p itemprop=\"name\" class=\"title\">Excel<wbr/>＆<wbr/>Access<wbr/>連携 実践ガイド<br/><span class=\"sub\">～仕事の現場で即使える</span></p>\n",
      "          <p itemprop=\"author\" class=\"author\">今村ゆうこ　著</p>\n",
      "          <p itemprop=\"offers\" itemscope=\"itemscope\" itemtype=\"http://schema.org/Offer\" class=\"price\"><span itemprop=\"price\">2,680</span>円<meta itemprop=\"priceCurrency\" content=\"JPY\"/></p>\n",
      "          <ul class=\"format\">\n",
      "            <li class=\"pdf\">PDF</li>\n",
      "          </ul>\n",
      "          <ul class=\"date\">\n",
      "            <li><time datetime=\"2016-6-29\" itemprop=\"datePublished\" class=\"published\">2016年6月29日</time></li>\n",
      "            \n",
      "          </ul>\n",
      "        </a></li>        <li id=\"978-4-7741-8296-4\"><a itemprop=\"url\" href=\"/dp/ebook/2016/978-4-7741-8296-4\">\n",
      "          <img itemprop=\"image\" src=\"/assets/images/dummy.png\" width=\"100\" height=\"142\" data-image=\"/assets/images/gdp/2016/thumb/TH100_978-4-7741-8296-4.jpg,/assets/images/gdp/2016/thumb/TH200_978-4-7741-8296-4.jpg\" alt=\"カバー画像\"/>\n",
      "          <p itemprop=\"name\" class=\"title\"><span class=\"series\">大人の自由時間<wbr/>（大人の自由時間<wbr/>mini）</span> もう一度バイクに乗ろう！<br/><span class=\"sub\">～羨望されるオトナのライダーになりたい人に</span></p>\n",
      "          <p itemprop=\"author\" class=\"author\">西尾淳　著，<wbr/>WINDY Co.　編</p>\n",
      "          <p itemprop=\"offers\" itemscope=\"itemscope\" itemtype=\"http://schema.org/Offer\" class=\"price\"><span itemprop=\"price\">1,280</span>円<meta itemprop=\"priceCurrency\" content=\"JPY\"/></p>\n",
      "          <ul class=\"format\">\n",
      "            <li class=\"pdf\">PDF</li>\n",
      "          </ul>\n",
      "          <ul class=\"date\">\n",
      "            <li><time datetime=\"2016-6-28\" itemprop=\"datePublished\" class=\"published\">2016年6月28日</time></li>\n",
      "            \n",
      "          </ul>\n",
      "        </a></li>        <li id=\"978-4-7741-8292-6\"><a itemprop=\"url\" href=\"/dp/ebook/2016/978-4-7741-8292-6\">\n",
      "          <img itemprop=\"image\" src=\"/assets/images/dummy.png\" width=\"100\" height=\"142\" data-image=\"/assets/images/gdp/2016/thumb/TH100_978-4-7741-8292-6.jpg,/assets/images/gdp/2016/thumb/TH200_978-4-7741-8292-6.jpg\" alt=\"カバー画像\"/>\n",
      "          <p itemprop=\"name\" class=\"title\">Slack<wbr/>入門<br/><span class=\"sub\">[ChatOpsによるチーム開発の効率化]</span></p>\n",
      "          <p itemprop=\"author\" class=\"author\">松下雅和，<wbr/>小島泰洋，<wbr/>長瀬敦史，<wbr/>坂本卓巳　著</p>\n",
      "          <p itemprop=\"offers\" itemscope=\"itemscope\" itemtype=\"http://schema.org/Offer\" class=\"price\"><span itemprop=\"price\">1,980</span>円<meta itemprop=\"priceCurrency\" content=\"JPY\"/></p>\n",
      "          <ul class=\"format\">\n",
      "            <li class=\"pdf\">PDF</li><li class=\"epub\">EPUB</li>\n",
      "          </ul>\n",
      "          <ul class=\"date\">\n",
      "            <li><time datetime=\"2016-6-28\" itemprop=\"datePublished\" class=\"published\">2016年6月28日</time></li>\n",
      "            \n",
      "          </ul>\n",
      "        </a></li>        <li id=\"978-4-7741-8273-5\"><a itemprop=\"url\" href=\"/dp/ebook/2016/978-4-7741-8273-5\">\n",
      "          <img itemprop=\"image\" src=\"/assets/images/dummy.png\" width=\"100\" height=\"127\" data-image=\"/assets/images/gdp/2016/thumb/TH100_978-4-7741-8273-5.jpg,/assets/images/gdp/2016/thumb/TH200_978-4-7741-8273-5.jpg\" alt=\"カバー画像\"/>\n",
      "          <p itemprop=\"name\" class=\"title\">パソコン入門<wbr/>5<wbr/>冊分！<br/><span class=\"sub\">＜<wbr/>Windows 10<wbr/>入門＋<wbr/>Windows 10<wbr/>活用＋インターネット＆<wbr/>メール＋<wbr/>Word<wbr/>＋<wbr/>Excel<wbr/>＞</span></p>\n",
      "          <p itemprop=\"author\" class=\"author\">飯島弘文　著</p>\n",
      "          <p itemprop=\"offers\" itemscope=\"itemscope\" itemtype=\"http://schema.org/Offer\" class=\"price\"><span itemprop=\"price\">1,780</span>円<meta itemprop=\"priceCurrency\" content=\"JPY\"/></p>\n",
      "          <ul class=\"format\">\n",
      "            <li class=\"pdf\">PDF</li>\n",
      "          </ul>\n",
      "          <ul class=\"date\">\n",
      "            <li><time datetime=\"2016-6-27\" itemprop=\"datePublished\" class=\"published\">2016年6月27日</time></li>\n",
      "            \n",
      "          </ul>\n",
      "        </a></li>        <li id=\"978-4-7741-8295-7\"><a itemprop=\"url\" href=\"/dp/ebook/2016/978-4-7741-8295-7\">\n",
      "          <img itemprop=\"image\" src=\"/assets/images/dummy.png\" width=\"100\" height=\"110\" data-image=\"/assets/images/gdp/2016/thumb/TH100_978-4-7741-8295-7.jpg,/assets/images/gdp/2016/thumb/TH200_978-4-7741-8295-7.jpg\" alt=\"カバー画像\"/>\n",
      "          <p itemprop=\"name\" class=\"title\">人気ハンドメイド作家になりたい人が読む本</p>\n",
      "          <p itemprop=\"author\" class=\"author\">ARENSKI　著，<wbr/>小泉七美　監修</p>\n",
      "          <p itemprop=\"offers\" itemscope=\"itemscope\" itemtype=\"http://schema.org/Offer\" class=\"price\"><span itemprop=\"price\">1,480</span>円<meta itemprop=\"priceCurrency\" content=\"JPY\"/></p>\n",
      "          <ul class=\"format\">\n",
      "            <li class=\"pdf\">PDF</li><li class=\"epub\">EPUB</li>\n",
      "          </ul>\n",
      "          <ul class=\"date\">\n",
      "            <li><time datetime=\"2016-6-27\" itemprop=\"datePublished\" class=\"published\">2016年6月27日</time></li>\n",
      "            <li><time datetime=\"2016-6-30\" itemprop=\"dateModified\" class=\"modified\">2016年6月30日</time></li>\n",
      "          </ul>\n",
      "        </a></li>        <li id=\"978-4-7741-8288-9\"><a itemprop=\"url\" href=\"/dp/ebook/2016/978-4-7741-8288-9\">\n",
      "          <img itemprop=\"image\" src=\"/assets/images/dummy.png\" width=\"100\" height=\"142\" data-image=\"/assets/images/gdp/2016/thumb/TH100_978-4-7741-8288-9.jpg,/assets/images/gdp/2016/thumb/TH200_978-4-7741-8288-9.jpg\" alt=\"カバー画像\"/>\n",
      "          <p itemprop=\"name\" class=\"title\"><span class=\"series\">今すぐ使えるかんたん<wbr/>Ex</span> 今すぐ使えるかんたんEx<br/>ヤフオク！ 本気で儲ける！ プロ技セレクション</p>\n",
      "          <p itemprop=\"author\" class=\"author\">梅田潤　著</p>\n",
      "          <p itemprop=\"offers\" itemscope=\"itemscope\" itemtype=\"http://schema.org/Offer\" class=\"price\"><span itemprop=\"price\">1,780</span>円<meta itemprop=\"priceCurrency\" content=\"JPY\"/></p>\n",
      "          <ul class=\"format\">\n",
      "            <li class=\"pdf\">PDF</li>\n",
      "          </ul>\n",
      "          <ul class=\"date\">\n",
      "            <li><time datetime=\"2016-6-25\" itemprop=\"datePublished\" class=\"published\">2016年6月25日</time></li>\n",
      "            \n",
      "          </ul>\n",
      "        </a></li>        <li id=\"978-4-7741-8289-6\"><a itemprop=\"url\" href=\"/dp/ebook/2016/978-4-7741-8289-6\">\n",
      "          <img itemprop=\"image\" src=\"/assets/images/dummy.png\" width=\"100\" height=\"157\" data-image=\"/assets/images/gdp/2016/thumb/TH100_978-4-7741-8289-6.jpg,/assets/images/gdp/2016/thumb/TH200_978-4-7741-8289-6.jpg\" alt=\"カバー画像\"/>\n",
      "          <p itemprop=\"name\" class=\"title\"><span class=\"series\">今すぐ使えるかんたん<wbr/>mini</span> 今すぐ使えるかんたんmini<br/>Access 2016 基本技</p>\n",
      "          <p itemprop=\"author\" class=\"author\">技術評論社編集部，<wbr/>AYURA　著</p>\n",
      "          <p itemprop=\"offers\" itemscope=\"itemscope\" itemtype=\"http://schema.org/Offer\" class=\"price\"><span itemprop=\"price\">980</span>円<meta itemprop=\"priceCurrency\" content=\"JPY\"/></p>\n",
      "          <ul class=\"format\">\n",
      "            <li class=\"pdf\">PDF</li>\n",
      "          </ul>\n",
      "          <ul class=\"date\">\n",
      "            <li><time datetime=\"2016-6-25\" itemprop=\"datePublished\" class=\"published\">2016年6月25日</time></li>\n",
      "            \n",
      "          </ul>\n",
      "        </a></li>        <li id=\"978-4-7741-8290-2\"><a itemprop=\"url\" href=\"/dp/ebook/2016/978-4-7741-8290-2\">\n",
      "          <img itemprop=\"image\" src=\"/assets/images/dummy.png\" width=\"100\" height=\"147\" data-image=\"/assets/images/gdp/2016/thumb/TH100_978-4-7741-8290-2.jpg,/assets/images/gdp/2016/thumb/TH200_978-4-7741-8290-2.jpg\" alt=\"カバー画像\"/>\n",
      "          <p itemprop=\"name\" class=\"title\"><span class=\"series\">ゼロからはじめる</span> ゼロからはじめる<br/>OneNote 2016<wbr/>／<wbr/>2013 スマートガイド</p>\n",
      "          <p itemprop=\"author\" class=\"author\">技術評論社編集部，<wbr/>マイカ　著</p>\n",
      "          <p itemprop=\"offers\" itemscope=\"itemscope\" itemtype=\"http://schema.org/Offer\" class=\"price\"><span itemprop=\"price\">980</span>円<meta itemprop=\"priceCurrency\" content=\"JPY\"/></p>\n",
      "          <ul class=\"format\">\n",
      "            <li class=\"pdf\">PDF</li>\n",
      "          </ul>\n",
      "          <ul class=\"date\">\n",
      "            <li><time datetime=\"2016-6-25\" itemprop=\"datePublished\" class=\"published\">2016年6月25日</time></li>\n",
      "            \n",
      "          </ul>\n",
      "        </a></li>        <li id=\"978-4-7741-8291-9\"><a itemprop=\"url\" href=\"/dp/ebook/2016/978-4-7741-8291-9\">\n",
      "          <img itemprop=\"image\" src=\"/assets/images/dummy.png\" width=\"100\" height=\"147\" data-image=\"/assets/images/gdp/2016/thumb/TH100_978-4-7741-8291-9.jpg,/assets/images/gdp/2016/thumb/TH200_978-4-7741-8291-9.jpg\" alt=\"カバー画像\"/>\n",
      "          <p itemprop=\"name\" class=\"title\"><span class=\"series\">ゼロからはじめる</span> ゼロからはじめる<br/>au Galaxy S7 edge SCV33 スマートガイド</p>\n",
      "          <p itemprop=\"author\" class=\"author\">技術評論社編集部　著</p>\n",
      "          <p itemprop=\"offers\" itemscope=\"itemscope\" itemtype=\"http://schema.org/Offer\" class=\"price\"><span itemprop=\"price\">1,380</span>円<meta itemprop=\"priceCurrency\" content=\"JPY\"/></p>\n",
      "          <ul class=\"format\">\n",
      "            <li class=\"pdf\">PDF</li>\n",
      "          </ul>\n",
      "          <ul class=\"date\">\n",
      "            <li><time datetime=\"2016-6-25\" itemprop=\"datePublished\" class=\"published\">2016年6月25日</time></li>\n",
      "            \n",
      "          </ul>\n",
      "        </a></li>\n",
      "      </ul>\n",
      "      <nav id=\"pagingBottom\">        <ul>\n",
      "          <li><span class=\"prev\">―</span></li>\n",
      "          <li class=\"paging-number\">1 - 30 / 1395</li>\n",
      "          <li><a href=\"/dp?start=30\" title=\"サンプルページのため利用できません\" class=\"next\">次</a></li>\n",
      "        </ul>\n",
      "      </nav>\n",
      "    </div>\n",
      "  </div>\n",
      "  <footer id=\"footer\" itemscope=\"itemscope\" itemtype=\"http://www.schema.org/WPFooter\">\n",
      "    <div id=\"wait\" class=\"hidden\"></div>\n",
      "    <nav id=\"navigation\" itemscope=\"itemscope\" itemtype=\"http://www.schema.org/SiteNavigationElement\">\n",
      "      <ul id=\"navigationLink\">\n",
      "        <li id=\"navLinkHome\" class=\"current\"><a itemprop=\"url\" href=\"/dp\" title=\"サンプルページのため利用できません\" class=\"home\">ストア</a></li>\n",
      "        <li id=\"navLinkMyPage\"><a itemprop=\"url\" href=\"/dp/my-page\" title=\"サンプルページのため利用できません\" class=\"mypage\">マイページ</a></li>\n",
      "        <li id=\"navLinkInfor\"><a itemprop=\"url\" href=\"/dp/information\" title=\"サンプルページのため利用できません\" class=\"information\">お知らせ</a></li>\n",
      "        <li id=\"navLinkHelp\"><a itemprop=\"url\" href=\"/dp/help\" title=\"サンプルページのため利用できません\" class=\"help\">ヘルプ</a></li>\n",
      "      </ul>\n",
      "    </nav>\n",
      "    <nav id=\"function\" itemscope=\"itemscope\" itemtype=\"http://www.schema.org/WPSideBar\">\n",
      "      <div id=\"backgroundWrapper\"></div>\n",
      "      <div id=\"navInfor\"><p class=\"page\">1 - 30 / 1395</p></div>\n",
      "    </nav>\n",
      "    <div id=\"storeInformation\">\n",
      "      <ul id=\"footerLink\">\n",
      "        <li><a href=\"/\">このサイトについて</a></li>\n",
      "      </ul>\n",
      "      <p id=\"storeCopyright\"><span style=\"color:red;font-size:1.8em;\">このページは「Pythonクローリング＆スクレイピング -データ収集・解析のための実践開発ガイド-」のためのサンプルサイトです。特別の許可を得て技術評論社の著作物を使用しています。</span><br/><small>Copyright © 2016 <span class=\"reserved\">All Rights Reserved by</span> <a href=\"http://gihyo.jp/book\">Gijutsu-Hyohron Co., Ltd.</a></small></p>\n",
      "    </div>\n",
      "  </footer>\n",
      "</body>\n",
      "</html>\n",
      "\n"
     ]
    }
   ],
   "source": [
    "!python urlopen_encoding.py"
   ]
  },
  {
   "cell_type": "code",
   "execution_count": 42,
   "metadata": {
    "collapsed": false
   },
   "outputs": [
    {
     "name": "stdout",
     "output_type": "stream",
     "text": [
      "encoding: utf-8\r\n"
     ]
    }
   ],
   "source": [
    "!python urlopen_encoding.py > dp.html"
   ]
  },
  {
   "cell_type": "code",
   "execution_count": 19,
   "metadata": {
    "collapsed": false
   },
   "outputs": [
    {
     "name": "stdout",
     "output_type": "stream",
     "text": [
      "Writing urlopen_meta.py\n"
     ]
    }
   ],
   "source": [
    "%%writefile urlopen_meta.py\n",
    "\n",
    "import re\n",
    "import sys\n",
    "from urllib.request import urlopen\n",
    "\n",
    "f = urlopen('http://sample.scraping-book.com/dp')\n",
    "bytes_content = f.read()\n",
    "\n",
    "scanned_text = bytes_content[:1024].decode('ascii', errors='replace')\n",
    "\n",
    "match = re.search(r'charset=[\"\\']?([\\w-]+)', scanned_text)\n",
    "if match:\n",
    "    encoding = match.group(1)\n",
    "else:\n",
    "    encoding = 'utf-8'\n",
    "\n",
    "print('encoding:', encoding, file=sys.stderr)\n",
    "\n",
    "text = bytes_content.decode(encoding)\n",
    "print(text)"
   ]
  },
  {
   "cell_type": "code",
   "execution_count": 40,
   "metadata": {
    "collapsed": false
   },
   "outputs": [
    {
     "name": "stdout",
     "output_type": "stream",
     "text": [
      "encoding: UTF-8\r\n",
      "<!DOCTYPE HTML>\r\n",
      "<html lang=\"ja\" class=\"pc\">\r\n",
      "<head>\r\n",
      "  <meta charset=\"UTF-8\">\r\n",
      "  <title>Pythonクローリング＆スクレイピング -データ収集・解析のための実践開発ガイド- サンプルページ</title>\r\n",
      "  <meta http-equiv=\"Content-Style-Type\" content=\"text/css\"/>\r\n",
      "  <meta http-equiv=\"Content-Script-Type\" content=\"application/javascript\"/>\r\n",
      "  <meta name=\"description\" content=\"Pythonクローリング＆スクレイピング -データ収集・解析のための実践開発ガイド- サンプルページ\"/>\r\n",
      "  <meta http-equiv=\"X-UA-Compatible\" content=\"IE=Edge,chrome=1\"/>\r\n",
      "  <meta name=\"apple-mobile-web-app-capable\" content=\"yes\"/>\r\n",
      "  <meta name=\"format-detection\" content=\"telephone=no\"/>\r\n",
      "  <link rel=\"shortcut icon\" href=\"/assets/templates/gdp/favicon.ico\" type=\"image/vnd.microsoft.icon\"/>\r\n",
      "  <meta name=\"robots\" content=\"noindex,noarchive\"/>\r\n",
      "  <link rel=\"stylesheet\" href=\"/dp/assets/style/store1124.css\" type=\"text/css\" media=\"all\"/>\r\n",
      "</head>\r\n",
      "<body itemscope=\"itemscope\" itemtype=\"http://schema.org/WebPage\" class=\"page-home\">\r\n",
      "  <header id=\"header\" itemscope=\"itemscope\" itemtype=\"http://schema.org/WPHeader\">\r\n",
      "    <h1 class=\"home-title\">Scraping-Book</h1>\r\n",
      "    <h2 class=\"home-subtitle\">これは書籍用のサンプルページです。購入などの操作はできません。</h2>\r\n",
      "    <nav id=\"headerFunction\">\r\n",
      "      <div id=\"login\">\r\n",
      "        <a href=\"#login\" title=\"サンプルページのため利用できません\">ログイン</a>\r\n",
      "      </div>\r\n",
      "      <div id=\"cart\">\r\n",
      "        <a href=\"/dp/cart\" title=\"サンプルページのため利用できません\">カート</a>\r\n",
      "      </div>\r\n",
      "    </nav>\r\n",
      "  </header>\r\n",
      "  <div id=\"main\">\r\n",
      "    <noscript><div id=\"noscript\">\r\n",
      "      <p>本サイトではJavaScriptを使用しております。JavaScriptが無効な状態ではご利用いただけません。</p>\r\n",
      "    </div></noscript>\r\n",
      "\r\n",
      "    <div id=\"bookList\">\r\n",
      "      <h2>商品一覧</h2>\r\n",
      "      <div id=\"topNavigation\">\r\n",
      "        <div id=\"filter\">\r\n",
      "          <form id=\"search\" action=\"/dp\" method=\"get\">\r\n",
      "            <input type=\"search\" name=\"query\" id=\"searchText\" title=\"検索する商品のキーワードを入力\" placeholder=\"商品のキーワード\" required=\"required\" value=\"\"/>\r\n",
      "            <input type=\"submit\" id=\"searchSubmit\" value=\"検索\" title=\"検索する\"/>\r\n",
      "          </form>\r\n",
      "          <div id=\"select\">\r\n",
      "            <a href=\"\" id=\"selectLabel\" title=\"商品ジャンルを選択する\">すべての商品</a>\r\n",
      "            <div id=\"selectMenu\">\r\n",
      "              <ul id=\"selectMenuBody\"><li class=\"title\">商品ジャンルを選択</li><li class=\"selected\"><a href=\"/dp\">すべての商品</a></li><li><a href=\"/dp/genre/%E3%83%91%E3%82%BD%E3%82%B3%E3%83%B3\">パソコン</a></li><li><a href=\"/dp/genre/%E3%82%B9%E3%83%9E%E3%83%BC%E3%83%88%E3%83%95%E3%82%A9%E3%83%B3%E3%83%BB%E3%82%BF%E3%83%96%E3%83%AC%E3%83%83%E3%83%88\">スマートフォン・タブレット</a></li><li><a href=\"/dp/genre/%E3%83%87%E3%82%B6%E3%82%A4%E3%83%B3%E3%83%BB%E7%B4%A0%E6%9D%90%E9%9B%86\">デザイン・素材集</a></li><li><a href=\"/dp/genre/Web%E3%82%B5%E3%82%A4%E3%83%88%E5%88%B6%E4%BD%9C\">Webサイト制作</a></li><li><a href=\"/dp/genre/%E3%83%97%E3%83%AD%E3%82%B0%E3%83%A9%E3%83%9F%E3%83%B3%E3%82%B0%E3%83%BB%E3%82%B7%E3%82%B9%E3%83%86%E3%83%A0%E9%96%8B%E7%99%BA\">プログラミング・システム開発</a></li><li><a href=\"/dp/genre/%E3%83%8D%E3%83%83%E3%83%88%E3%83%AF%E3%83%BC%E3%82%AF%E3%83%BBUNIX%E3%83%BB%E3%83%87%E3%83%BC%E3%82%BF%E3%83%99%E3%83%BC%E3%82%B9\">ネットワーク・UNIX・データベース</a></li><li><a href=\"/dp/genre/%E8%B3%87%E6%A0%BC%E8%A9%A6%E9%A8%93%EF%BC%88IT%EF%BC%89\">資格試験（IT）</a></li><li><a href=\"/dp/genre/%E8%B3%87%E6%A0%BC%E8%A9%A6%E9%A8%93%EF%BC%88%E4%B8%80%E8%88%AC%EF%BC%89%E3%83%BB%E5%A4%A7%E5%AD%A6%E5%8F%97%E9%A8%93\">資格試験（一般）・大学受験</a></li><li><a href=\"/dp/genre/%E8%B6%A3%E5%91%B3%E3%83%BB%E5%AE%9F%E7%94%A8%E3%83%BB%E3%83%87%E3%82%B8%E3%82%AB%E3%83%A1\">趣味・実用・デジカメ</a></li><li><a href=\"/dp/genre/%E3%83%93%E3%82%B8%E3%83%8D%E3%82%B9%E3%83%BB%E3%83%9E%E3%83%8D%E3%83%BC\">ビジネス・マネー</a></li><li><a href=\"/dp/genre/%E7%90%86%E5%B7%A5%E3%83%BB%E3%82%B5%E3%82%A4%E3%82%A8%E3%83%B3%E3%82%B9\">理工・サイエンス</a></li></ul>\r\n",
      "            </div>\r\n",
      "          </div>\r\n",
      "        </div>\r\n",
      "        <nav id=\"pagingTop\">          <ul>\r\n",
      "            <li><span class=\"prev\">―</span></li>\r\n",
      "            <li class=\"paging-number\">1</li>\r\n",
      "            <li><a href=\"/dp?start=30\" title=\"サンプルページのため利用できません\" class=\"next\">次</a></li>\r\n",
      "          </ul>\r\n",
      "        </nav>\r\n",
      "      </div>\r\n",
      "      <ul itemprop=\"isPartOf\" itemscope=\"itemscope\" itemtype=\"http://www.schema.org/CollectionPage\" id=\"listBook\" class=\"list-book\"><li id=\"bannerTopAd\">\r\n",
      "  <div id=\"topAdPrev\"><a href=\"#adPrev\" title=\"サンプルページのため利用できません\">前</a></div>\r\n",
      "  <div id=\"topAdNext\"><a href=\"#adNext\" title=\"サンプルページのため利用できません\">次</a></div>\r\n",
      "  <ul id=\"topAdNum\"></ul>\r\n",
      "</li>\r\n",
      "<li class=\"subscription\"><a href=\"/dp/subscription\" title=\"サンプルページのため利用できません\">\r\n",
      "  <p class=\"title\"><span class=\"series\">Software Design・<wbr>WEB+DB PRESS</span>電子版定期購読のお申し込み</p>\r\n",
      "  <img src=\"/assets/images/dummy.png\" data-image=\"/assets/images/gdp/subscription/subsc-cover.png,/assets/images/gdp/subscription/subsc-cover@2x.png\" width=\"236\" height=\"138\" alt=\"cover\" style=\"max-width:none;max-height:none;position:absolute;right:0;bottom:-10px;border:none\">\r\n",
      "  <ul class=\"format\"><li class=\"pdf\">PDF</li></ul>\r\n",
      "</a></li>        <li class=\"new\" id=\"978-4-7741-8336-7\"><a itemprop=\"url\" href=\"/dp/ebook/2016/978-4-7741-8336-7\">\r\n",
      "          <img itemprop=\"image\" src=\"/assets/images/dummy.png\" width=\"100\" height=\"141\" data-image=\"/assets/images/gdp/2016/thumb/TH100_978-4-7741-8336-7.jpg,/assets/images/gdp/2016/thumb/TH200_978-4-7741-8336-7.jpg\" alt=\"カバー画像\"/>\r\n",
      "          <p itemprop=\"name\" class=\"title\">これからはじめるプログラミング 作って覚える基礎の基礎</p>\r\n",
      "          <p itemprop=\"author\" class=\"author\">谷尻かおり　著，<wbr/>谷尻豊寿　監修</p>\r\n",
      "          <p itemprop=\"offers\" itemscope=\"itemscope\" itemtype=\"http://schema.org/Offer\" class=\"price\"><span itemprop=\"price\">2,280</span>円<meta itemprop=\"priceCurrency\" content=\"JPY\"/></p>\r\n",
      "          <ul class=\"format\">\r\n",
      "            <li class=\"pdf\">PDF</li><li class=\"epub\">EPUB</li>\r\n",
      "          </ul>\r\n",
      "          <ul class=\"date\">\r\n",
      "            <li class=\"notice\"><time datetime=\"2016-7-23\" itemprop=\"datePublished\" class=\"published\">2016年7月23日</time></li>\r\n",
      "            \r\n",
      "          </ul>\r\n",
      "        </a></li>        <li class=\"new\" id=\"978-4-7741-8337-4\"><a itemprop=\"url\" href=\"/dp/ebook/2016/978-4-7741-8337-4\">\r\n",
      "          <img itemprop=\"image\" src=\"/assets/images/dummy.png\" width=\"100\" height=\"141\" data-image=\"/assets/images/gdp/2016/thumb/TH100_978-4-7741-8337-4.jpg,/assets/images/gdp/2016/thumb/TH200_978-4-7741-8337-4.jpg\" alt=\"カバー画像\"/>\r\n",
      "          <p itemprop=\"name\" class=\"title\"><span class=\"series\">情報処理技術者試験</span> 平成<wbr/>28<wbr/>年度<wbr/>【秋期】<wbr/>情報セキュリティマネジメント パーフェクトラーニング過去問題集</p>\r\n",
      "          <p itemprop=\"author\" class=\"author\">庄司勝哉，<wbr/>吉川允樹　著</p>\r\n",
      "          <p itemprop=\"offers\" itemscope=\"itemscope\" itemtype=\"http://schema.org/Offer\" class=\"price\"><span itemprop=\"price\">1,480</span>円<meta itemprop=\"priceCurrency\" content=\"JPY\"/></p>\r\n",
      "          <ul class=\"format\">\r\n",
      "            <li class=\"pdf\">PDF</li>\r\n",
      "          </ul>\r\n",
      "          <ul class=\"date\">\r\n",
      "            <li class=\"notice\"><time datetime=\"2016-7-23\" itemprop=\"datePublished\" class=\"published\">2016年7月23日</time></li>\r\n",
      "            \r\n",
      "          </ul>\r\n",
      "        </a></li>        <li class=\"new\" id=\"978-4-7741-8338-1\"><a itemprop=\"url\" href=\"/dp/ebook/2016/978-4-7741-8338-1\">\r\n",
      "          <img itemprop=\"image\" src=\"/assets/images/dummy.png\" width=\"100\" height=\"144\" data-image=\"/assets/images/gdp/2016/thumb/TH100_978-4-7741-8338-1.jpg,/assets/images/gdp/2016/thumb/TH200_978-4-7741-8338-1.jpg\" alt=\"カバー画像\"/>\r\n",
      "          <p itemprop=\"name\" class=\"title\"><span class=\"series\">大人の自由時間<wbr/>（大人の自由時間<wbr/>mini）</span> 水泳のきれいなカラダをつくる<br/><span class=\"sub\">～スリムな逆三角形になる！ドライランドトレーニング</span></p>\r\n",
      "          <p itemprop=\"author\" class=\"author\">髙橋雄介　著</p>\r\n",
      "          <p itemprop=\"offers\" itemscope=\"itemscope\" itemtype=\"http://schema.org/Offer\" class=\"price\"><span itemprop=\"price\">1,280</span>円<meta itemprop=\"priceCurrency\" content=\"JPY\"/></p>\r\n",
      "          <ul class=\"format\">\r\n",
      "            <li class=\"pdf\">PDF</li>\r\n",
      "          </ul>\r\n",
      "          <ul class=\"date\">\r\n",
      "            <li class=\"notice\"><time datetime=\"2016-7-23\" itemprop=\"datePublished\" class=\"published\">2016年7月23日</time></li>\r\n",
      "            \r\n",
      "          </ul>\r\n",
      "        </a></li>        <li class=\"new\" id=\"978-4-7741-8346-6\"><a itemprop=\"url\" href=\"/dp/ebook/2016/978-4-7741-8346-6\">\r\n",
      "          <img itemprop=\"image\" src=\"/assets/images/dummy.png\" width=\"100\" height=\"133\" data-image=\"/assets/images/gdp/2016/thumb/TH100_978-4-7741-8346-6.jpg,/assets/images/gdp/2016/thumb/TH200_978-4-7741-8346-6.jpg\" alt=\"カバー画像\"/>\r\n",
      "          <p itemprop=\"name\" class=\"title\"><span class=\"series\">30<wbr/>レッスン</span> 30<wbr/>レッスンで絶対合格！ Microsoft Office Specialist PowerPoint 2013 テキスト＋問題集</p>\r\n",
      "          <p itemprop=\"author\" class=\"author\">本郷PC塾　著</p>\r\n",
      "          <p itemprop=\"offers\" itemscope=\"itemscope\" itemtype=\"http://schema.org/Offer\" class=\"price\"><span itemprop=\"price\">1,980</span>円<meta itemprop=\"priceCurrency\" content=\"JPY\"/></p>\r\n",
      "          <ul class=\"format\">\r\n",
      "            <li class=\"pdf\">PDF</li>\r\n",
      "          </ul>\r\n",
      "          <ul class=\"date\">\r\n",
      "            <li class=\"notice\"><time datetime=\"2016-7-22\" itemprop=\"datePublished\" class=\"published\">2016年7月22日</time></li>\r\n",
      "            \r\n",
      "          </ul>\r\n",
      "        </a></li>        <li class=\"new\" id=\"978-4-7741-8334-3\"><a itemprop=\"url\" href=\"/dp/ebook/2016/978-4-7741-8334-3\">\r\n",
      "          <img itemprop=\"image\" src=\"/assets/images/dummy.png\" width=\"100\" height=\"147\" data-image=\"/assets/images/gdp/2016/thumb/TH100_978-4-7741-8334-3.jpg,/assets/images/gdp/2016/thumb/TH200_978-4-7741-8334-3.jpg\" alt=\"カバー画像\"/>\r\n",
      "          <p itemprop=\"name\" class=\"title\"><span class=\"series\">ゼロからはじめる</span> ゼロからはじめる<br/>海外旅行でスマホ活用 スマートガイド</p>\r\n",
      "          <p itemprop=\"author\" class=\"author\">山谷剛史，<wbr/>田口和裕，<wbr/>タトラエディット　著</p>\r\n",
      "          <p itemprop=\"offers\" itemscope=\"itemscope\" itemtype=\"http://schema.org/Offer\" class=\"price\"><span itemprop=\"price\">1,380</span>円<meta itemprop=\"priceCurrency\" content=\"JPY\"/></p>\r\n",
      "          <ul class=\"format\">\r\n",
      "            <li class=\"pdf\">PDF</li>\r\n",
      "          </ul>\r\n",
      "          <ul class=\"date\">\r\n",
      "            <li class=\"notice\"><time datetime=\"2016-7-22\" itemprop=\"datePublished\" class=\"published\">2016年7月22日</time></li>\r\n",
      "            \r\n",
      "          </ul>\r\n",
      "        </a></li>        <li class=\"new\" id=\"978-4-7741-8335-0\"><a itemprop=\"url\" href=\"/dp/ebook/2016/978-4-7741-8335-0\">\r\n",
      "          <img itemprop=\"image\" src=\"/assets/images/dummy.png\" width=\"100\" height=\"157\" data-image=\"/assets/images/gdp/2016/thumb/TH100_978-4-7741-8335-0.jpg,/assets/images/gdp/2016/thumb/TH200_978-4-7741-8335-0.jpg\" alt=\"カバー画像\"/>\r\n",
      "          <p itemprop=\"name\" class=\"title\"><span class=\"series\">今すぐ使えるかんたん<wbr/>mini</span> 今すぐ使えるかんたんmini<br/>CD&amp;DVD 作成超入門<br/><span class=\"sub\">［Windows 10<wbr/>対応版］</span></p>\r\n",
      "          <p itemprop=\"author\" class=\"author\">オンサイト　著</p>\r\n",
      "          <p itemprop=\"offers\" itemscope=\"itemscope\" itemtype=\"http://schema.org/Offer\" class=\"price\"><span itemprop=\"price\">1,080</span>円<meta itemprop=\"priceCurrency\" content=\"JPY\"/></p>\r\n",
      "          <ul class=\"format\">\r\n",
      "            <li class=\"pdf\">PDF</li>\r\n",
      "          </ul>\r\n",
      "          <ul class=\"date\">\r\n",
      "            <li class=\"notice\"><time datetime=\"2016-7-22\" itemprop=\"datePublished\" class=\"published\">2016年7月22日</time></li>\r\n",
      "            \r\n",
      "          </ul>\r\n",
      "        </a></li>        <li class=\"new\" id=\"978-4-7741-8325-1\"><a itemprop=\"url\" href=\"/dp/ebook/2016/978-4-7741-8325-1\">\r\n",
      "          <img itemprop=\"image\" src=\"/assets/images/dummy.png\" width=\"100\" height=\"133\" data-image=\"/assets/images/gdp/2016/thumb/TH100_978-4-7741-8325-1.jpg,/assets/images/gdp/2016/thumb/TH200_978-4-7741-8325-1.jpg\" alt=\"カバー画像\"/>\r\n",
      "          <p itemprop=\"name\" class=\"title\"><span class=\"series\">大きな字でわかりやすい</span> 大きな字でわかりやすい<br/>ワード<wbr/>2016<wbr/>入門</p>\r\n",
      "          <p itemprop=\"author\" class=\"author\">AYURA　著</p>\r\n",
      "          <p itemprop=\"offers\" itemscope=\"itemscope\" itemtype=\"http://schema.org/Offer\" class=\"price\"><span itemprop=\"price\">980</span>円<meta itemprop=\"priceCurrency\" content=\"JPY\"/></p>\r\n",
      "          <ul class=\"format\">\r\n",
      "            <li class=\"pdf\">PDF</li>\r\n",
      "          </ul>\r\n",
      "          <ul class=\"date\">\r\n",
      "            <li><time datetime=\"2016-7-20\" itemprop=\"datePublished\" class=\"published\">2016年7月20日</time></li>\r\n",
      "            \r\n",
      "          </ul>\r\n",
      "        </a></li>        <li class=\"new\" id=\"978-4-7741-8322-0\"><a itemprop=\"url\" href=\"/dp/ebook/2016/978-4-7741-8322-0\">\r\n",
      "          <img itemprop=\"image\" src=\"/assets/images/dummy.png\" width=\"100\" height=\"133\" data-image=\"/assets/images/gdp/2016/thumb/TH100_978-4-7741-8322-0.jpg,/assets/images/gdp/2016/thumb/TH200_978-4-7741-8322-0.jpg\" alt=\"カバー画像\"/>\r\n",
      "          <p itemprop=\"name\" class=\"title\"><span class=\"series\">大きな字でわかりやすい</span> 大きな字でわかりやすい<br/>エクセル<wbr/>2016 入門</p>\r\n",
      "          <p itemprop=\"author\" class=\"author\">AYURA　著</p>\r\n",
      "          <p itemprop=\"offers\" itemscope=\"itemscope\" itemtype=\"http://schema.org/Offer\" class=\"price\"><span itemprop=\"price\">980</span>円<meta itemprop=\"priceCurrency\" content=\"JPY\"/></p>\r\n",
      "          <ul class=\"format\">\r\n",
      "            <li class=\"pdf\">PDF</li>\r\n",
      "          </ul>\r\n",
      "          <ul class=\"date\">\r\n",
      "            <li><time datetime=\"2016-7-20\" itemprop=\"datePublished\" class=\"published\">2016年7月20日</time></li>\r\n",
      "            \r\n",
      "          </ul>\r\n",
      "        </a></li>        <li class=\"new\" id=\"978-4-7741-8323-7\"><a itemprop=\"url\" href=\"/dp/ebook/2016/978-4-7741-8323-7\">\r\n",
      "          <img itemprop=\"image\" src=\"/assets/images/dummy.png\" width=\"100\" height=\"128\" data-image=\"/assets/images/gdp/2016/thumb/TH100_978-4-7741-8323-7.jpg,/assets/images/gdp/2016/thumb/TH200_978-4-7741-8323-7.jpg\" alt=\"カバー画像\"/>\r\n",
      "          <p itemprop=\"name\" class=\"title\"><span class=\"series\">今すぐ使えるかんたん</span> 今すぐ使えるかんたん<br/>ぜったいデキます！ デジカメ写真活用術<br/><span class=\"sub\">［Windows 10<wbr/>対応版］</span></p>\r\n",
      "          <p itemprop=\"author\" class=\"author\">井上香緒里　著</p>\r\n",
      "          <p itemprop=\"offers\" itemscope=\"itemscope\" itemtype=\"http://schema.org/Offer\" class=\"price\"><span itemprop=\"price\">1,480</span>円<meta itemprop=\"priceCurrency\" content=\"JPY\"/></p>\r\n",
      "          <ul class=\"format\">\r\n",
      "            <li class=\"pdf\">PDF</li>\r\n",
      "          </ul>\r\n",
      "          <ul class=\"date\">\r\n",
      "            <li><time datetime=\"2016-7-16\" itemprop=\"datePublished\" class=\"published\">2016年7月16日</time></li>\r\n",
      "            \r\n",
      "          </ul>\r\n",
      "        </a></li>        <li class=\"new\" id=\"978-4-7741-8119-6\"><a itemprop=\"url\" href=\"/dp/ebook/2016/978-4-7741-8119-6\">\r\n",
      "          <img itemprop=\"image\" src=\"/assets/images/dummy.png\" width=\"100\" height=\"141\" data-image=\"/assets/images/gdp/2016/thumb/TH100_978-4-7741-8119-6.jpg,/assets/images/gdp/2016/thumb/TH200_978-4-7741-8119-6.jpg\" alt=\"カバー画像\"/>\r\n",
      "          <p itemprop=\"name\" class=\"title\">Software Design 2016<wbr/>年<wbr/>8<wbr/>月号</p>\r\n",
      "          <p itemprop=\"author\" class=\"author\"></p>\r\n",
      "          <p itemprop=\"offers\" itemscope=\"itemscope\" itemtype=\"http://schema.org/Offer\" class=\"price\"><span itemprop=\"price\">1,318</span>円<meta itemprop=\"priceCurrency\" content=\"JPY\"/></p>\r\n",
      "          <ul class=\"format\">\r\n",
      "            <li class=\"pdf\">PDF</li>\r\n",
      "          </ul>\r\n",
      "          <ul class=\"date\">\r\n",
      "            <li><time datetime=\"2016-7-16\" itemprop=\"datePublished\" class=\"published\">2016年7月16日</time></li>\r\n",
      "            \r\n",
      "          </ul>\r\n",
      "        </a></li>        <li class=\"new\" id=\"978-4-7741-8333-6\"><a itemprop=\"url\" href=\"/dp/ebook/2016/978-4-7741-8333-6\">\r\n",
      "          <img itemprop=\"image\" src=\"/assets/images/dummy.png\" width=\"100\" height=\"126\" data-image=\"/assets/images/gdp/2016/thumb/TH100_978-4-7741-8333-6.jpg,/assets/images/gdp/2016/thumb/TH200_978-4-7741-8333-6.jpg\" alt=\"カバー画像\"/>\r\n",
      "          <p itemprop=\"name\" class=\"title\">無料ではじめる<wbr/>Blender CG<wbr/>イラストテクニック<br/><span class=\"sub\">～<wbr/>3DCG<wbr/>の考え方としくみがしっかりわかる</span></p>\r\n",
      "          <p itemprop=\"author\" class=\"author\">大澤龍一　著</p>\r\n",
      "          <p itemprop=\"offers\" itemscope=\"itemscope\" itemtype=\"http://schema.org/Offer\" class=\"price\"><span itemprop=\"price\">2,680</span>円<meta itemprop=\"priceCurrency\" content=\"JPY\"/></p>\r\n",
      "          <ul class=\"format\">\r\n",
      "            <li class=\"pdf\">PDF</li>\r\n",
      "          </ul>\r\n",
      "          <ul class=\"date\">\r\n",
      "            <li><time datetime=\"2016-7-16\" itemprop=\"datePublished\" class=\"published\">2016年7月16日</time></li>\r\n",
      "            \r\n",
      "          </ul>\r\n",
      "        </a></li>        <li class=\"new\" id=\"978-4-7741-8324-4\"><a itemprop=\"url\" href=\"/dp/ebook/2016/978-4-7741-8324-4\">\r\n",
      "          <img itemprop=\"image\" src=\"/assets/images/dummy.png\" width=\"100\" height=\"127\" data-image=\"/assets/images/gdp/2016/thumb/TH100_978-4-7741-8324-4.jpg,/assets/images/gdp/2016/thumb/TH200_978-4-7741-8324-4.jpg\" alt=\"カバー画像\"/>\r\n",
      "          <p itemprop=\"name\" class=\"title\">小さなお店＆<wbr/>会社の WordPress<wbr/>超入門<br/><span class=\"sub\">―初めてでも安心！思いどおりのホームページを作ろう！</span></p>\r\n",
      "          <p itemprop=\"author\" class=\"author\">星野邦敏，<wbr/>大胡由紀，<wbr/>吉田裕介，<wbr/>羽野めぐみ，<wbr/>リブロワークス　著</p>\r\n",
      "          <p itemprop=\"offers\" itemscope=\"itemscope\" itemtype=\"http://schema.org/Offer\" class=\"price\"><span itemprop=\"price\">1,980</span>円<meta itemprop=\"priceCurrency\" content=\"JPY\"/></p>\r\n",
      "          <ul class=\"format\">\r\n",
      "            <li class=\"pdf\">PDF</li><li class=\"epub\">EPUB</li>\r\n",
      "          </ul>\r\n",
      "          <ul class=\"date\">\r\n",
      "            <li><time datetime=\"2016-7-15\" itemprop=\"datePublished\" class=\"published\">2016年7月15日</time></li>\r\n",
      "            \r\n",
      "          </ul>\r\n",
      "        </a></li>        <li id=\"978-4-7741-8302-2\"><a itemprop=\"url\" href=\"/dp/ebook/2016/978-4-7741-8302-2\">\r\n",
      "          <img itemprop=\"image\" src=\"/assets/images/dummy.png\" width=\"100\" height=\"142\" data-image=\"/assets/images/gdp/2016/thumb/TH100_978-4-7741-8302-2.jpg,/assets/images/gdp/2016/thumb/TH200_978-4-7741-8302-2.jpg\" alt=\"カバー画像\"/>\r\n",
      "          <p itemprop=\"name\" class=\"title\"><span class=\"series\">WEB+DB PRESS plus</span> Atom<wbr/>実践入門<br/><span class=\"sub\">──進化し続けるハッカブルなエディタ</span></p>\r\n",
      "          <p itemprop=\"author\" class=\"author\">大竹智也　著</p>\r\n",
      "          <p itemprop=\"offers\" itemscope=\"itemscope\" itemtype=\"http://schema.org/Offer\" class=\"price\"><span itemprop=\"price\">2,680</span>円<meta itemprop=\"priceCurrency\" content=\"JPY\"/></p>\r\n",
      "          <ul class=\"format\">\r\n",
      "            <li class=\"pdf\">PDF</li><li class=\"epub\">EPUB</li>\r\n",
      "          </ul>\r\n",
      "          <ul class=\"date\">\r\n",
      "            <li><time datetime=\"2016-7-14\" itemprop=\"datePublished\" class=\"published\">2016年7月14日</time></li>\r\n",
      "            \r\n",
      "          </ul>\r\n",
      "        </a></li>        <li id=\"978-4-7741-8301-5\"><a itemprop=\"url\" href=\"/dp/ebook/2016/978-4-7741-8301-5\">\r\n",
      "          <img itemprop=\"image\" src=\"/assets/images/dummy.png\" width=\"100\" height=\"142\" data-image=\"/assets/images/gdp/2016/thumb/TH100_978-4-7741-8301-5.jpg,/assets/images/gdp/2016/thumb/TH200_978-4-7741-8301-5.jpg\" alt=\"カバー画像\"/>\r\n",
      "          <p itemprop=\"name\" class=\"title\">アウトライナー実践入門<br/><span class=\"sub\">～<wbr/>「書く・<wbr/>考える・<wbr/>生活する」<wbr/>創造的アウトライン・<wbr/>プロセッシングの技術〜</span></p>\r\n",
      "          <p itemprop=\"author\" class=\"author\">Tak.　著</p>\r\n",
      "          <p itemprop=\"offers\" itemscope=\"itemscope\" itemtype=\"http://schema.org/Offer\" class=\"price\"><span itemprop=\"price\">1,980</span>円<meta itemprop=\"priceCurrency\" content=\"JPY\"/></p>\r\n",
      "          <ul class=\"format\">\r\n",
      "            <li class=\"pdf\">PDF</li><li class=\"epub\">EPUB</li>\r\n",
      "          </ul>\r\n",
      "          <ul class=\"date\">\r\n",
      "            <li><time datetime=\"2016-7-09\" itemprop=\"datePublished\" class=\"published\">2016年7月9日</time></li>\r\n",
      "            \r\n",
      "          </ul>\r\n",
      "        </a></li>        <li id=\"978-4-7741-8297-1\"><a itemprop=\"url\" href=\"/dp/ebook/2016/978-4-7741-8297-1\">\r\n",
      "          <img itemprop=\"image\" src=\"/assets/images/dummy.png\" width=\"100\" height=\"152\" data-image=\"/assets/images/gdp/2016/thumb/TH100_978-4-7741-8297-1.jpg,/assets/images/gdp/2016/thumb/TH200_978-4-7741-8297-1.jpg\" alt=\"カバー画像\"/>\r\n",
      "          <p itemprop=\"name\" class=\"title\"><span class=\"series\">ゼロからはじめる</span> ゼロからはじめる<br/>ドコモ<wbr/>Galaxy S7 edge SC-02H スマートガイド</p>\r\n",
      "          <p itemprop=\"author\" class=\"author\">技術評論社編集部　著</p>\r\n",
      "          <p itemprop=\"offers\" itemscope=\"itemscope\" itemtype=\"http://schema.org/Offer\" class=\"price\"><span itemprop=\"price\">1,380</span>円<meta itemprop=\"priceCurrency\" content=\"JPY\"/></p>\r\n",
      "          <ul class=\"format\">\r\n",
      "            <li class=\"pdf\">PDF</li>\r\n",
      "          </ul>\r\n",
      "          <ul class=\"date\">\r\n",
      "            <li><time datetime=\"2016-7-08\" itemprop=\"datePublished\" class=\"published\">2016年7月8日</time></li>\r\n",
      "            \r\n",
      "          </ul>\r\n",
      "        </a></li>        <li id=\"978-4-7741-8255-9\"><a itemprop=\"url\" href=\"/dp/ebook/2016/978-4-7741-8255-9\">\r\n",
      "          <img itemprop=\"image\" src=\"/assets/images/dummy.png\" width=\"100\" height=\"141\" data-image=\"/assets/images/gdp/2016/thumb/TH100_978-4-7741-8255-9.jpg,/assets/images/gdp/2016/thumb/TH200_978-4-7741-8255-9.jpg\" alt=\"カバー画像\"/>\r\n",
      "          <p itemprop=\"name\" class=\"title\">Excel<wbr/>のムカムカ！が一瞬でなくなる使い方<br/><span class=\"sub\">～表計算・<wbr/>資料作成のストレスを最小限に！</span></p>\r\n",
      "          <p itemprop=\"author\" class=\"author\">四禮静子　著</p>\r\n",
      "          <p itemprop=\"offers\" itemscope=\"itemscope\" itemtype=\"http://schema.org/Offer\" class=\"price\"><span itemprop=\"price\">1,480</span>円<meta itemprop=\"priceCurrency\" content=\"JPY\"/></p>\r\n",
      "          <ul class=\"format\">\r\n",
      "            <li class=\"pdf\">PDF</li><li class=\"epub\">EPUB</li>\r\n",
      "          </ul>\r\n",
      "          <ul class=\"date\">\r\n",
      "            <li><time datetime=\"2016-7-08\" itemprop=\"datePublished\" class=\"published\">2016年7月8日</time></li>\r\n",
      "            \r\n",
      "          </ul>\r\n",
      "        </a></li>        <li id=\"978-4-7741-8258-2\"><a itemprop=\"url\" href=\"/dp/ebook/2016/978-4-7741-8258-2\">\r\n",
      "          <img itemprop=\"image\" src=\"/assets/images/dummy.png\" width=\"100\" height=\"141\" data-image=\"/assets/images/gdp/2016/thumb/TH100_978-4-7741-8258-2.jpg,/assets/images/gdp/2016/thumb/TH200_978-4-7741-8258-2.jpg\" alt=\"カバー画像\"/>\r\n",
      "          <p itemprop=\"name\" class=\"title\">Word<wbr/>のムカムカ！が一瞬でなくなる使い方<br/><span class=\"sub\">～文章・<wbr/>資料作成のストレスを最小限に！</span></p>\r\n",
      "          <p itemprop=\"author\" class=\"author\">四禮静子　著</p>\r\n",
      "          <p itemprop=\"offers\" itemscope=\"itemscope\" itemtype=\"http://schema.org/Offer\" class=\"price\"><span itemprop=\"price\">1,480</span>円<meta itemprop=\"priceCurrency\" content=\"JPY\"/></p>\r\n",
      "          <ul class=\"format\">\r\n",
      "            <li class=\"pdf\">PDF</li><li class=\"epub\">EPUB</li>\r\n",
      "          </ul>\r\n",
      "          <ul class=\"date\">\r\n",
      "            <li><time datetime=\"2016-7-08\" itemprop=\"datePublished\" class=\"published\">2016年7月8日</time></li>\r\n",
      "            \r\n",
      "          </ul>\r\n",
      "        </a></li>        <li id=\"978-4-7741-8319-0\"><a itemprop=\"url\" href=\"/dp/ebook/2016/978-4-7741-8319-0\">\r\n",
      "          <img itemprop=\"image\" src=\"/assets/images/dummy.png\" width=\"100\" height=\"142\" data-image=\"/assets/images/gdp/2016/thumb/TH100_978-4-7741-8319-0.jpg,/assets/images/gdp/2016/thumb/TH200_978-4-7741-8319-0.jpg\" alt=\"カバー画像\"/>\r\n",
      "          <p itemprop=\"name\" class=\"title\"><span class=\"series\">生物ミステリー<wbr/>（生物ミステリー プロ）</span> そもそも島に進化あり</p>\r\n",
      "          <p itemprop=\"author\" class=\"author\">川上和人　著</p>\r\n",
      "          <p itemprop=\"offers\" itemscope=\"itemscope\" itemtype=\"http://schema.org/Offer\" class=\"price\"><span itemprop=\"price\">1,880</span>円<meta itemprop=\"priceCurrency\" content=\"JPY\"/></p>\r\n",
      "          <ul class=\"format\">\r\n",
      "            <li class=\"pdf\">PDF</li><li class=\"epub\">EPUB</li>\r\n",
      "          </ul>\r\n",
      "          <ul class=\"date\">\r\n",
      "            <li><time datetime=\"2016-7-08\" itemprop=\"datePublished\" class=\"published\">2016年7月8日</time></li>\r\n",
      "            <li><time datetime=\"2016-7-08\" itemprop=\"dateModified\" class=\"modified\">2016年7月8日</time></li>\r\n",
      "          </ul>\r\n",
      "        </a></li>        <li id=\"978-4-7741-8318-3\"><a itemprop=\"url\" href=\"/dp/ebook/2016/978-4-7741-8318-3\">\r\n",
      "          <img itemprop=\"image\" src=\"/assets/images/dummy.png\" width=\"100\" height=\"143\" data-image=\"/assets/images/gdp/2016/thumb/TH100_978-4-7741-8318-3.jpg,/assets/images/gdp/2016/thumb/TH200_978-4-7741-8318-3.jpg\" alt=\"カバー画像\"/>\r\n",
      "          <p itemprop=\"name\" class=\"title\"><span class=\"series\">大人の自由時間<wbr/>（大人の自由時間<wbr/>mini）</span> 山歩きスタートブック<br/><span class=\"sub\">～道具と歩き方がわかる，<wbr/>行きたいコースが見つかる</span></p>\r\n",
      "          <p itemprop=\"author\" class=\"author\">西野淑子　著</p>\r\n",
      "          <p itemprop=\"offers\" itemscope=\"itemscope\" itemtype=\"http://schema.org/Offer\" class=\"price\"><span itemprop=\"price\">1,280</span>円<meta itemprop=\"priceCurrency\" content=\"JPY\"/></p>\r\n",
      "          <ul class=\"format\">\r\n",
      "            <li class=\"pdf\">PDF</li>\r\n",
      "          </ul>\r\n",
      "          <ul class=\"date\">\r\n",
      "            <li><time datetime=\"2016-7-06\" itemprop=\"datePublished\" class=\"published\">2016年7月6日</time></li>\r\n",
      "            \r\n",
      "          </ul>\r\n",
      "        </a></li>        <li id=\"978-4-7741-8317-6\"><a itemprop=\"url\" href=\"/dp/ebook/2016/978-4-7741-8317-6\">\r\n",
      "          <img itemprop=\"image\" src=\"/assets/images/dummy.png\" width=\"100\" height=\"142\" data-image=\"/assets/images/gdp/2016/thumb/TH100_978-4-7741-8317-6.jpg,/assets/images/gdp/2016/thumb/TH200_978-4-7741-8317-6.jpg\" alt=\"カバー画像\"/>\r\n",
      "          <p itemprop=\"name\" class=\"title\">平成<wbr/>28-29<wbr/>年度 基本情報技術者 試験によくでる問題集<br/><span class=\"sub\">【午後】</span></p>\r\n",
      "          <p itemprop=\"author\" class=\"author\">角谷一成，<wbr/>イエローテールコンピュータ　著</p>\r\n",
      "          <p itemprop=\"offers\" itemscope=\"itemscope\" itemtype=\"http://schema.org/Offer\" class=\"price\"><span itemprop=\"price\">1,880</span>円<meta itemprop=\"priceCurrency\" content=\"JPY\"/></p>\r\n",
      "          <ul class=\"format\">\r\n",
      "            <li class=\"pdf\">PDF</li><li class=\"epub\">EPUB</li>\r\n",
      "          </ul>\r\n",
      "          <ul class=\"date\">\r\n",
      "            <li><time datetime=\"2016-7-05\" itemprop=\"datePublished\" class=\"published\">2016年7月5日</time></li>\r\n",
      "            \r\n",
      "          </ul>\r\n",
      "        </a></li>        <li id=\"978-4-7741-8300-8\"><a itemprop=\"url\" href=\"/dp/ebook/2016/978-4-7741-8300-8\">\r\n",
      "          <img itemprop=\"image\" src=\"/assets/images/dummy.png\" width=\"100\" height=\"142\" data-image=\"/assets/images/gdp/2016/thumb/TH100_978-4-7741-8300-8.jpg,/assets/images/gdp/2016/thumb/TH200_978-4-7741-8300-8.jpg\" alt=\"カバー画像\"/>\r\n",
      "          <p itemprop=\"name\" class=\"title\"><span class=\"series\">大人の自由時間<wbr/>（大人の自由時間<wbr/>mini）</span> あきらめないランニング<br/><span class=\"sub\">～楽しいランのはじめかた，<wbr/>続けかた</span></p>\r\n",
      "          <p itemprop=\"author\" class=\"author\">白方健一，<wbr/>ナイスク　著</p>\r\n",
      "          <p itemprop=\"offers\" itemscope=\"itemscope\" itemtype=\"http://schema.org/Offer\" class=\"price\"><span itemprop=\"price\">1,280</span>円<meta itemprop=\"priceCurrency\" content=\"JPY\"/></p>\r\n",
      "          <ul class=\"format\">\r\n",
      "            <li class=\"pdf\">PDF</li>\r\n",
      "          </ul>\r\n",
      "          <ul class=\"date\">\r\n",
      "            <li><time datetime=\"2016-7-01\" itemprop=\"datePublished\" class=\"published\">2016年7月1日</time></li>\r\n",
      "            \r\n",
      "          </ul>\r\n",
      "        </a></li>        <li id=\"978-4-7741-8299-5\"><a itemprop=\"url\" href=\"/dp/ebook/2016/978-4-7741-8299-5\">\r\n",
      "          <img itemprop=\"image\" src=\"/assets/images/dummy.png\" width=\"100\" height=\"126\" data-image=\"/assets/images/gdp/2016/thumb/TH100_978-4-7741-8299-5.jpg,/assets/images/gdp/2016/thumb/TH200_978-4-7741-8299-5.jpg\" alt=\"カバー画像\"/>\r\n",
      "          <p itemprop=\"name\" class=\"title\">Excel<wbr/>＆<wbr/>Access<wbr/>連携 実践ガイド<br/><span class=\"sub\">～仕事の現場で即使える</span></p>\r\n",
      "          <p itemprop=\"author\" class=\"author\">今村ゆうこ　著</p>\r\n",
      "          <p itemprop=\"offers\" itemscope=\"itemscope\" itemtype=\"http://schema.org/Offer\" class=\"price\"><span itemprop=\"price\">2,680</span>円<meta itemprop=\"priceCurrency\" content=\"JPY\"/></p>\r\n",
      "          <ul class=\"format\">\r\n",
      "            <li class=\"pdf\">PDF</li>\r\n",
      "          </ul>\r\n",
      "          <ul class=\"date\">\r\n",
      "            <li><time datetime=\"2016-6-29\" itemprop=\"datePublished\" class=\"published\">2016年6月29日</time></li>\r\n",
      "            \r\n",
      "          </ul>\r\n",
      "        </a></li>        <li id=\"978-4-7741-8296-4\"><a itemprop=\"url\" href=\"/dp/ebook/2016/978-4-7741-8296-4\">\r\n",
      "          <img itemprop=\"image\" src=\"/assets/images/dummy.png\" width=\"100\" height=\"142\" data-image=\"/assets/images/gdp/2016/thumb/TH100_978-4-7741-8296-4.jpg,/assets/images/gdp/2016/thumb/TH200_978-4-7741-8296-4.jpg\" alt=\"カバー画像\"/>\r\n",
      "          <p itemprop=\"name\" class=\"title\"><span class=\"series\">大人の自由時間<wbr/>（大人の自由時間<wbr/>mini）</span> もう一度バイクに乗ろう！<br/><span class=\"sub\">～羨望されるオトナのライダーになりたい人に</span></p>\r\n",
      "          <p itemprop=\"author\" class=\"author\">西尾淳　著，<wbr/>WINDY Co.　編</p>\r\n",
      "          <p itemprop=\"offers\" itemscope=\"itemscope\" itemtype=\"http://schema.org/Offer\" class=\"price\"><span itemprop=\"price\">1,280</span>円<meta itemprop=\"priceCurrency\" content=\"JPY\"/></p>\r\n",
      "          <ul class=\"format\">\r\n",
      "            <li class=\"pdf\">PDF</li>\r\n",
      "          </ul>\r\n",
      "          <ul class=\"date\">\r\n",
      "            <li><time datetime=\"2016-6-28\" itemprop=\"datePublished\" class=\"published\">2016年6月28日</time></li>\r\n",
      "            \r\n",
      "          </ul>\r\n",
      "        </a></li>        <li id=\"978-4-7741-8292-6\"><a itemprop=\"url\" href=\"/dp/ebook/2016/978-4-7741-8292-6\">\r\n",
      "          <img itemprop=\"image\" src=\"/assets/images/dummy.png\" width=\"100\" height=\"142\" data-image=\"/assets/images/gdp/2016/thumb/TH100_978-4-7741-8292-6.jpg,/assets/images/gdp/2016/thumb/TH200_978-4-7741-8292-6.jpg\" alt=\"カバー画像\"/>\r\n",
      "          <p itemprop=\"name\" class=\"title\">Slack<wbr/>入門<br/><span class=\"sub\">[ChatOpsによるチーム開発の効率化]</span></p>\r\n",
      "          <p itemprop=\"author\" class=\"author\">松下雅和，<wbr/>小島泰洋，<wbr/>長瀬敦史，<wbr/>坂本卓巳　著</p>\r\n",
      "          <p itemprop=\"offers\" itemscope=\"itemscope\" itemtype=\"http://schema.org/Offer\" class=\"price\"><span itemprop=\"price\">1,980</span>円<meta itemprop=\"priceCurrency\" content=\"JPY\"/></p>\r\n",
      "          <ul class=\"format\">\r\n",
      "            <li class=\"pdf\">PDF</li><li class=\"epub\">EPUB</li>\r\n",
      "          </ul>\r\n",
      "          <ul class=\"date\">\r\n",
      "            <li><time datetime=\"2016-6-28\" itemprop=\"datePublished\" class=\"published\">2016年6月28日</time></li>\r\n",
      "            \r\n",
      "          </ul>\r\n",
      "        </a></li>        <li id=\"978-4-7741-8273-5\"><a itemprop=\"url\" href=\"/dp/ebook/2016/978-4-7741-8273-5\">\r\n",
      "          <img itemprop=\"image\" src=\"/assets/images/dummy.png\" width=\"100\" height=\"127\" data-image=\"/assets/images/gdp/2016/thumb/TH100_978-4-7741-8273-5.jpg,/assets/images/gdp/2016/thumb/TH200_978-4-7741-8273-5.jpg\" alt=\"カバー画像\"/>\r\n",
      "          <p itemprop=\"name\" class=\"title\">パソコン入門<wbr/>5<wbr/>冊分！<br/><span class=\"sub\">＜<wbr/>Windows 10<wbr/>入門＋<wbr/>Windows 10<wbr/>活用＋インターネット＆<wbr/>メール＋<wbr/>Word<wbr/>＋<wbr/>Excel<wbr/>＞</span></p>\r\n",
      "          <p itemprop=\"author\" class=\"author\">飯島弘文　著</p>\r\n",
      "          <p itemprop=\"offers\" itemscope=\"itemscope\" itemtype=\"http://schema.org/Offer\" class=\"price\"><span itemprop=\"price\">1,780</span>円<meta itemprop=\"priceCurrency\" content=\"JPY\"/></p>\r\n",
      "          <ul class=\"format\">\r\n",
      "            <li class=\"pdf\">PDF</li>\r\n",
      "          </ul>\r\n",
      "          <ul class=\"date\">\r\n",
      "            <li><time datetime=\"2016-6-27\" itemprop=\"datePublished\" class=\"published\">2016年6月27日</time></li>\r\n",
      "            \r\n",
      "          </ul>\r\n",
      "        </a></li>        <li id=\"978-4-7741-8295-7\"><a itemprop=\"url\" href=\"/dp/ebook/2016/978-4-7741-8295-7\">\r\n",
      "          <img itemprop=\"image\" src=\"/assets/images/dummy.png\" width=\"100\" height=\"110\" data-image=\"/assets/images/gdp/2016/thumb/TH100_978-4-7741-8295-7.jpg,/assets/images/gdp/2016/thumb/TH200_978-4-7741-8295-7.jpg\" alt=\"カバー画像\"/>\r\n",
      "          <p itemprop=\"name\" class=\"title\">人気ハンドメイド作家になりたい人が読む本</p>\r\n",
      "          <p itemprop=\"author\" class=\"author\">ARENSKI　著，<wbr/>小泉七美　監修</p>\r\n",
      "          <p itemprop=\"offers\" itemscope=\"itemscope\" itemtype=\"http://schema.org/Offer\" class=\"price\"><span itemprop=\"price\">1,480</span>円<meta itemprop=\"priceCurrency\" content=\"JPY\"/></p>\r\n",
      "          <ul class=\"format\">\r\n",
      "            <li class=\"pdf\">PDF</li><li class=\"epub\">EPUB</li>\r\n",
      "          </ul>\r\n",
      "          <ul class=\"date\">\r\n",
      "            <li><time datetime=\"2016-6-27\" itemprop=\"datePublished\" class=\"published\">2016年6月27日</time></li>\r\n",
      "            <li><time datetime=\"2016-6-30\" itemprop=\"dateModified\" class=\"modified\">2016年6月30日</time></li>\r\n",
      "          </ul>\r\n",
      "        </a></li>        <li id=\"978-4-7741-8288-9\"><a itemprop=\"url\" href=\"/dp/ebook/2016/978-4-7741-8288-9\">\r\n",
      "          <img itemprop=\"image\" src=\"/assets/images/dummy.png\" width=\"100\" height=\"142\" data-image=\"/assets/images/gdp/2016/thumb/TH100_978-4-7741-8288-9.jpg,/assets/images/gdp/2016/thumb/TH200_978-4-7741-8288-9.jpg\" alt=\"カバー画像\"/>\r\n",
      "          <p itemprop=\"name\" class=\"title\"><span class=\"series\">今すぐ使えるかんたん<wbr/>Ex</span> 今すぐ使えるかんたんEx<br/>ヤフオク！ 本気で儲ける！ プロ技セレクション</p>\r\n",
      "          <p itemprop=\"author\" class=\"author\">梅田潤　著</p>\r\n",
      "          <p itemprop=\"offers\" itemscope=\"itemscope\" itemtype=\"http://schema.org/Offer\" class=\"price\"><span itemprop=\"price\">1,780</span>円<meta itemprop=\"priceCurrency\" content=\"JPY\"/></p>\r\n",
      "          <ul class=\"format\">\r\n",
      "            <li class=\"pdf\">PDF</li>\r\n",
      "          </ul>\r\n",
      "          <ul class=\"date\">\r\n",
      "            <li><time datetime=\"2016-6-25\" itemprop=\"datePublished\" class=\"published\">2016年6月25日</time></li>\r\n",
      "            \r\n",
      "          </ul>\r\n",
      "        </a></li>        <li id=\"978-4-7741-8289-6\"><a itemprop=\"url\" href=\"/dp/ebook/2016/978-4-7741-8289-6\">\r\n",
      "          <img itemprop=\"image\" src=\"/assets/images/dummy.png\" width=\"100\" height=\"157\" data-image=\"/assets/images/gdp/2016/thumb/TH100_978-4-7741-8289-6.jpg,/assets/images/gdp/2016/thumb/TH200_978-4-7741-8289-6.jpg\" alt=\"カバー画像\"/>\r\n",
      "          <p itemprop=\"name\" class=\"title\"><span class=\"series\">今すぐ使えるかんたん<wbr/>mini</span> 今すぐ使えるかんたんmini<br/>Access 2016 基本技</p>\r\n",
      "          <p itemprop=\"author\" class=\"author\">技術評論社編集部，<wbr/>AYURA　著</p>\r\n",
      "          <p itemprop=\"offers\" itemscope=\"itemscope\" itemtype=\"http://schema.org/Offer\" class=\"price\"><span itemprop=\"price\">980</span>円<meta itemprop=\"priceCurrency\" content=\"JPY\"/></p>\r\n",
      "          <ul class=\"format\">\r\n",
      "            <li class=\"pdf\">PDF</li>\r\n",
      "          </ul>\r\n",
      "          <ul class=\"date\">\r\n",
      "            <li><time datetime=\"2016-6-25\" itemprop=\"datePublished\" class=\"published\">2016年6月25日</time></li>\r\n",
      "            \r\n",
      "          </ul>\r\n",
      "        </a></li>        <li id=\"978-4-7741-8290-2\"><a itemprop=\"url\" href=\"/dp/ebook/2016/978-4-7741-8290-2\">\r\n",
      "          <img itemprop=\"image\" src=\"/assets/images/dummy.png\" width=\"100\" height=\"147\" data-image=\"/assets/images/gdp/2016/thumb/TH100_978-4-7741-8290-2.jpg,/assets/images/gdp/2016/thumb/TH200_978-4-7741-8290-2.jpg\" alt=\"カバー画像\"/>\r\n",
      "          <p itemprop=\"name\" class=\"title\"><span class=\"series\">ゼロからはじめる</span> ゼロからはじめる<br/>OneNote 2016<wbr/>／<wbr/>2013 スマートガイド</p>\r\n",
      "          <p itemprop=\"author\" class=\"author\">技術評論社編集部，<wbr/>マイカ　著</p>\r\n",
      "          <p itemprop=\"offers\" itemscope=\"itemscope\" itemtype=\"http://schema.org/Offer\" class=\"price\"><span itemprop=\"price\">980</span>円<meta itemprop=\"priceCurrency\" content=\"JPY\"/></p>\r\n",
      "          <ul class=\"format\">\r\n",
      "            <li class=\"pdf\">PDF</li>\r\n",
      "          </ul>\r\n",
      "          <ul class=\"date\">\r\n",
      "            <li><time datetime=\"2016-6-25\" itemprop=\"datePublished\" class=\"published\">2016年6月25日</time></li>\r\n",
      "            \r\n",
      "          </ul>\r\n",
      "        </a></li>        <li id=\"978-4-7741-8291-9\"><a itemprop=\"url\" href=\"/dp/ebook/2016/978-4-7741-8291-9\">\r\n",
      "          <img itemprop=\"image\" src=\"/assets/images/dummy.png\" width=\"100\" height=\"147\" data-image=\"/assets/images/gdp/2016/thumb/TH100_978-4-7741-8291-9.jpg,/assets/images/gdp/2016/thumb/TH200_978-4-7741-8291-9.jpg\" alt=\"カバー画像\"/>\r\n",
      "          <p itemprop=\"name\" class=\"title\"><span class=\"series\">ゼロからはじめる</span> ゼロからはじめる<br/>au Galaxy S7 edge SCV33 スマートガイド</p>\r\n",
      "          <p itemprop=\"author\" class=\"author\">技術評論社編集部　著</p>\r\n",
      "          <p itemprop=\"offers\" itemscope=\"itemscope\" itemtype=\"http://schema.org/Offer\" class=\"price\"><span itemprop=\"price\">1,380</span>円<meta itemprop=\"priceCurrency\" content=\"JPY\"/></p>\r\n",
      "          <ul class=\"format\">\r\n",
      "            <li class=\"pdf\">PDF</li>\r\n",
      "          </ul>\r\n",
      "          <ul class=\"date\">\r\n",
      "            <li><time datetime=\"2016-6-25\" itemprop=\"datePublished\" class=\"published\">2016年6月25日</time></li>\r\n",
      "            \r\n",
      "          </ul>\r\n",
      "        </a></li>\r\n",
      "      </ul>\r\n",
      "      <nav id=\"pagingBottom\">        <ul>\r\n",
      "          <li><span class=\"prev\">―</span></li>\r\n",
      "          <li class=\"paging-number\">1 - 30 / 1395</li>\r\n",
      "          <li><a href=\"/dp?start=30\" title=\"サンプルページのため利用できません\" class=\"next\">次</a></li>\r\n",
      "        </ul>\r\n",
      "      </nav>\r\n",
      "    </div>\r\n",
      "  </div>\r\n",
      "  <footer id=\"footer\" itemscope=\"itemscope\" itemtype=\"http://www.schema.org/WPFooter\">\r\n",
      "    <div id=\"wait\" class=\"hidden\"></div>\r\n",
      "    <nav id=\"navigation\" itemscope=\"itemscope\" itemtype=\"http://www.schema.org/SiteNavigationElement\">\r\n",
      "      <ul id=\"navigationLink\">\r\n",
      "        <li id=\"navLinkHome\" class=\"current\"><a itemprop=\"url\" href=\"/dp\" title=\"サンプルページのため利用できません\" class=\"home\">ストア</a></li>\r\n",
      "        <li id=\"navLinkMyPage\"><a itemprop=\"url\" href=\"/dp/my-page\" title=\"サンプルページのため利用できません\" class=\"mypage\">マイページ</a></li>\r\n",
      "        <li id=\"navLinkInfor\"><a itemprop=\"url\" href=\"/dp/information\" title=\"サンプルページのため利用できません\" class=\"information\">お知らせ</a></li>\r\n",
      "        <li id=\"navLinkHelp\"><a itemprop=\"url\" href=\"/dp/help\" title=\"サンプルページのため利用できません\" class=\"help\">ヘルプ</a></li>\r\n",
      "      </ul>\r\n",
      "    </nav>\r\n",
      "    <nav id=\"function\" itemscope=\"itemscope\" itemtype=\"http://www.schema.org/WPSideBar\">\r\n",
      "      <div id=\"backgroundWrapper\"></div>\r\n",
      "      <div id=\"navInfor\"><p class=\"page\">1 - 30 / 1395</p></div>\r\n",
      "    </nav>\r\n",
      "    <div id=\"storeInformation\">\r\n",
      "      <ul id=\"footerLink\">\r\n",
      "        <li><a href=\"/\">このサイトについて</a></li>\r\n",
      "      </ul>\r\n",
      "      <p id=\"storeCopyright\"><span style=\"color:red;font-size:1.8em;\">このページは「Pythonクローリング＆スクレイピング -データ収集・解析のための実践開発ガイド-」のためのサンプルサイトです。特別の許可を得て技術評論社の著作物を使用しています。</span><br/><small>Copyright © 2016 <span class=\"reserved\">All Rights Reserved by</span> <a href=\"http://gihyo.jp/book\">Gijutsu-Hyohron Co., Ltd.</a></small></p>\r\n",
      "    </div>\r\n",
      "  </footer>\r\n",
      "</body>\r\n",
      "</html>\r\n",
      "\r\n"
     ]
    }
   ],
   "source": [
    "!python urlopen_meta.py"
   ]
  },
  {
   "cell_type": "code",
   "execution_count": null,
   "metadata": {
    "collapsed": true
   },
   "outputs": [],
   "source": []
  },
  {
   "cell_type": "code",
   "execution_count": 21,
   "metadata": {
    "collapsed": true
   },
   "outputs": [],
   "source": [
    "# chapter 2-5 webページからデータを抜き出す"
   ]
  },
  {
   "cell_type": "code",
   "execution_count": 47,
   "metadata": {
    "collapsed": true
   },
   "outputs": [],
   "source": [
    "# 正規表現によるスクレイピング"
   ]
  },
  {
   "cell_type": "code",
   "execution_count": null,
   "metadata": {
    "collapsed": true
   },
   "outputs": [],
   "source": []
  },
  {
   "cell_type": "code",
   "execution_count": 22,
   "metadata": {
    "collapsed": true
   },
   "outputs": [],
   "source": [
    "import re"
   ]
  },
  {
   "cell_type": "code",
   "execution_count": 23,
   "metadata": {
    "collapsed": false
   },
   "outputs": [
    {
     "data": {
      "text/plain": [
       "<_sre.SRE_Match object; span=(0, 3), match='abc'>"
      ]
     },
     "execution_count": 23,
     "metadata": {},
     "output_type": "execute_result"
    }
   ],
   "source": [
    "re.search(r'a.*c', 'abc123DEF')"
   ]
  },
  {
   "cell_type": "code",
   "execution_count": 24,
   "metadata": {
    "collapsed": true
   },
   "outputs": [],
   "source": [
    "re.search(r'a.*d', 'abc123DEF')"
   ]
  },
  {
   "cell_type": "code",
   "execution_count": 25,
   "metadata": {
    "collapsed": false
   },
   "outputs": [
    {
     "data": {
      "text/plain": [
       "<_sre.SRE_Match object; span=(0, 7), match='abc123D'>"
      ]
     },
     "execution_count": 25,
     "metadata": {},
     "output_type": "execute_result"
    }
   ],
   "source": [
    "re.search(r'a.*d', 'abc123DEF', re.IGNORECASE)"
   ]
  },
  {
   "cell_type": "code",
   "execution_count": 28,
   "metadata": {
    "collapsed": true
   },
   "outputs": [],
   "source": [
    "m = re.search(r'a(.*)c', 'abc123DEF')"
   ]
  },
  {
   "cell_type": "code",
   "execution_count": 29,
   "metadata": {
    "collapsed": false
   },
   "outputs": [
    {
     "data": {
      "text/plain": [
       "'abc'"
      ]
     },
     "execution_count": 29,
     "metadata": {},
     "output_type": "execute_result"
    }
   ],
   "source": [
    "m.group(0)"
   ]
  },
  {
   "cell_type": "code",
   "execution_count": 30,
   "metadata": {
    "collapsed": false
   },
   "outputs": [
    {
     "data": {
      "text/plain": [
       "'b'"
      ]
     },
     "execution_count": 30,
     "metadata": {},
     "output_type": "execute_result"
    }
   ],
   "source": [
    "m.group(1)"
   ]
  },
  {
   "cell_type": "code",
   "execution_count": 31,
   "metadata": {
    "collapsed": false
   },
   "outputs": [
    {
     "data": {
      "text/plain": [
       "['This', 'is', 'pen']"
      ]
     },
     "execution_count": 31,
     "metadata": {},
     "output_type": "execute_result"
    }
   ],
   "source": [
    "re.findall(r'\\w{2,}', 'This is a pen')"
   ]
  },
  {
   "cell_type": "code",
   "execution_count": 33,
   "metadata": {
    "collapsed": false
   },
   "outputs": [
    {
     "data": {
      "text/plain": [
       "'That That a That'"
      ]
     },
     "execution_count": 33,
     "metadata": {},
     "output_type": "execute_result"
    }
   ],
   "source": [
    "re.sub(r'\\w{2,}', 'That', 'This is a pen')"
   ]
  },
  {
   "cell_type": "code",
   "execution_count": 36,
   "metadata": {
    "collapsed": false
   },
   "outputs": [
    {
     "name": "stdout",
     "output_type": "stream",
     "text": [
      "Overwriting scrape_re.py\n"
     ]
    }
   ],
   "source": [
    "%%writefile scrape_re.py\n",
    "\n",
    "import re\n",
    "from html import unescape\n",
    "\n",
    "with open('dp.html') as f:\n",
    "    html = f.read()\n",
    "    \n",
    "for partial_html in re.findall(r'<a itemprop=\"url\".*?</ul>\\s*</a></li>', html, re.DOTALL):\n",
    "    url = re.search(r'<a itemprop=\"url\" href=\"(.*?)\">', partial_html).group(1)\n",
    "    url = 'http://sample.scraping-book.com' + url\n",
    "    \n",
    "    title = re.search(r'<p itemprop=\"name\".*?</p>', partial_html).group(0)\n",
    "    title = title.replace('<br/>', ' ')\n",
    "    title = re.sub(r'<.*?>', '', title)\n",
    "    title = unescape(title)\n",
    "    \n",
    "    print(url, title)"
   ]
  },
  {
   "cell_type": "code",
   "execution_count": 45,
   "metadata": {
    "collapsed": false
   },
   "outputs": [
    {
     "name": "stdout",
     "output_type": "stream",
     "text": [
      "http://sample.scraping-book.com/dp/ebook/2016/978-4-7741-8336-7 これからはじめるプログラミング 作って覚える基礎の基礎\r\n",
      "http://sample.scraping-book.com/dp/ebook/2016/978-4-7741-8337-4 情報処理技術者試験 平成28年度【秋期】情報セキュリティマネジメント パーフェクトラーニング過去問題集\r\n",
      "http://sample.scraping-book.com/dp/ebook/2016/978-4-7741-8338-1 大人の自由時間（大人の自由時間mini） 水泳のきれいなカラダをつくる ～スリムな逆三角形になる！ドライランドトレーニング\r\n",
      "http://sample.scraping-book.com/dp/ebook/2016/978-4-7741-8346-6 30レッスン 30レッスンで絶対合格！ Microsoft Office Specialist PowerPoint 2013 テキスト＋問題集\r\n",
      "http://sample.scraping-book.com/dp/ebook/2016/978-4-7741-8334-3 ゼロからはじめる ゼロからはじめる 海外旅行でスマホ活用 スマートガイド\r\n",
      "http://sample.scraping-book.com/dp/ebook/2016/978-4-7741-8335-0 今すぐ使えるかんたんmini 今すぐ使えるかんたんmini CD&DVD 作成超入門 ［Windows 10対応版］\r\n",
      "http://sample.scraping-book.com/dp/ebook/2016/978-4-7741-8325-1 大きな字でわかりやすい 大きな字でわかりやすい ワード2016入門\r\n",
      "http://sample.scraping-book.com/dp/ebook/2016/978-4-7741-8322-0 大きな字でわかりやすい 大きな字でわかりやすい エクセル2016 入門\r\n",
      "http://sample.scraping-book.com/dp/ebook/2016/978-4-7741-8323-7 今すぐ使えるかんたん 今すぐ使えるかんたん ぜったいデキます！ デジカメ写真活用術 ［Windows 10対応版］\r\n",
      "http://sample.scraping-book.com/dp/ebook/2016/978-4-7741-8119-6 Software Design 2016年8月号\r\n",
      "http://sample.scraping-book.com/dp/ebook/2016/978-4-7741-8333-6 無料ではじめるBlender CGイラストテクニック ～3DCGの考え方としくみがしっかりわかる\r\n",
      "http://sample.scraping-book.com/dp/ebook/2016/978-4-7741-8324-4 小さなお店＆会社の WordPress超入門 ―初めてでも安心！思いどおりのホームページを作ろう！\r\n",
      "http://sample.scraping-book.com/dp/ebook/2016/978-4-7741-8302-2 WEB+DB PRESS plus Atom実践入門 ──進化し続けるハッカブルなエディタ\r\n",
      "http://sample.scraping-book.com/dp/ebook/2016/978-4-7741-8301-5 アウトライナー実践入門 ～「書く・考える・生活する」創造的アウトライン・プロセッシングの技術〜\r\n",
      "http://sample.scraping-book.com/dp/ebook/2016/978-4-7741-8297-1 ゼロからはじめる ゼロからはじめる ドコモGalaxy S7 edge SC-02H スマートガイド\r\n",
      "http://sample.scraping-book.com/dp/ebook/2016/978-4-7741-8255-9 Excelのムカムカ！が一瞬でなくなる使い方 ～表計算・資料作成のストレスを最小限に！\r\n",
      "http://sample.scraping-book.com/dp/ebook/2016/978-4-7741-8258-2 Wordのムカムカ！が一瞬でなくなる使い方 ～文章・資料作成のストレスを最小限に！\r\n",
      "http://sample.scraping-book.com/dp/ebook/2016/978-4-7741-8319-0 生物ミステリー（生物ミステリー プロ） そもそも島に進化あり\r\n",
      "http://sample.scraping-book.com/dp/ebook/2016/978-4-7741-8318-3 大人の自由時間（大人の自由時間mini） 山歩きスタートブック ～道具と歩き方がわかる，行きたいコースが見つかる\r\n",
      "http://sample.scraping-book.com/dp/ebook/2016/978-4-7741-8317-6 平成28-29年度 基本情報技術者 試験によくでる問題集 【午後】\r\n",
      "http://sample.scraping-book.com/dp/ebook/2016/978-4-7741-8300-8 大人の自由時間（大人の自由時間mini） あきらめないランニング ～楽しいランのはじめかた，続けかた\r\n",
      "http://sample.scraping-book.com/dp/ebook/2016/978-4-7741-8299-5 Excel＆Access連携 実践ガイド ～仕事の現場で即使える\r\n",
      "http://sample.scraping-book.com/dp/ebook/2016/978-4-7741-8296-4 大人の自由時間（大人の自由時間mini） もう一度バイクに乗ろう！ ～羨望されるオトナのライダーになりたい人に\r\n",
      "http://sample.scraping-book.com/dp/ebook/2016/978-4-7741-8292-6 Slack入門 [ChatOpsによるチーム開発の効率化]\r\n",
      "http://sample.scraping-book.com/dp/ebook/2016/978-4-7741-8273-5 パソコン入門5冊分！ ＜Windows 10入門＋Windows 10活用＋インターネット＆メール＋Word＋Excel＞\r\n",
      "http://sample.scraping-book.com/dp/ebook/2016/978-4-7741-8295-7 人気ハンドメイド作家になりたい人が読む本\r\n",
      "http://sample.scraping-book.com/dp/ebook/2016/978-4-7741-8288-9 今すぐ使えるかんたんEx 今すぐ使えるかんたんEx ヤフオク！ 本気で儲ける！ プロ技セレクション\r\n",
      "http://sample.scraping-book.com/dp/ebook/2016/978-4-7741-8289-6 今すぐ使えるかんたんmini 今すぐ使えるかんたんmini Access 2016 基本技\r\n",
      "http://sample.scraping-book.com/dp/ebook/2016/978-4-7741-8290-2 ゼロからはじめる ゼロからはじめる OneNote 2016／2013 スマートガイド\r\n",
      "http://sample.scraping-book.com/dp/ebook/2016/978-4-7741-8291-9 ゼロからはじめる ゼロからはじめる au Galaxy S7 edge SCV33 スマートガイド\r\n"
     ]
    }
   ],
   "source": [
    "!python scrape_re.py"
   ]
  },
  {
   "cell_type": "code",
   "execution_count": null,
   "metadata": {
    "collapsed": false
   },
   "outputs": [],
   "source": []
  },
  {
   "cell_type": "code",
   "execution_count": 48,
   "metadata": {
    "collapsed": true
   },
   "outputs": [],
   "source": [
    "# XML(RSS)のスクレイピング"
   ]
  },
  {
   "cell_type": "code",
   "execution_count": null,
   "metadata": {
    "collapsed": true
   },
   "outputs": [],
   "source": []
  },
  {
   "cell_type": "code",
   "execution_count": null,
   "metadata": {
    "collapsed": false
   },
   "outputs": [],
   "source": []
  },
  {
   "cell_type": "code",
   "execution_count": null,
   "metadata": {
    "collapsed": true
   },
   "outputs": [],
   "source": []
  }
 ],
 "metadata": {
  "kernelspec": {
   "display_name": "Python 3",
   "language": "python",
   "name": "python3"
  },
  "language_info": {
   "codemirror_mode": {
    "name": "ipython",
    "version": 3
   },
   "file_extension": ".py",
   "mimetype": "text/x-python",
   "name": "python",
   "nbconvert_exporter": "python",
   "pygments_lexer": "ipython3",
   "version": "3.6.0"
  }
 },
 "nbformat": 4,
 "nbformat_minor": 2
}
