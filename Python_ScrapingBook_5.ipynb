{
 "cells": [
  {
   "cell_type": "markdown",
   "metadata": {
    "collapsed": true
   },
   "source": [
    "# chapter 5-1 データセットの取得と活用"
   ]
  },
  {
   "cell_type": "raw",
   "metadata": {
    "collapsed": true
   },
   "source": [
    "# Wikipediaのデータセットのダウンロード"
   ]
  },
  {
   "cell_type": "raw",
   "metadata": {
    "collapsed": true
   },
   "source": [
    "# !wget https://dumps.wikimedia.org/jawiki/latest/jawiki-latest-pages-articles1.xml-p1p168815.bz2\n",
    "# Wikipediaのデータセット(ダンプファイル)の取得"
   ]
  },
  {
   "cell_type": "raw",
   "metadata": {
    "collapsed": true
   },
   "source": [
    "# ! bzcat jawiki-latest-pages-articles1.xml-p1p168815.bz2 | less\n",
    "# 解凍せず中身を閲覧可能\n",
    "# j: 下スクロール, k: 上スクロール, q: 終了"
   ]
  },
  {
   "cell_type": "raw",
   "metadata": {
    "collapsed": true
   },
   "source": [
    "# !wget https://github.com/attardi/wikiextractor/raw/master/WikiExtractor.py\n",
    "# WikiExtractor.py スクリプトをインストール"
   ]
  },
  {
   "cell_type": "raw",
   "metadata": {
    "collapsed": true
   },
   "source": [
    "# !python WikiExtractor.py --no-templates -o articles -b 100M jawiki-latest-pages-articles1.xml-p1p168815.bz2\n",
    "# スクリプトを用いてダンプファイルのマークアップを取り除きテキストに変換"
   ]
  },
  {
   "cell_type": "raw",
   "metadata": {
    "collapsed": true
   },
   "source": [
    "# !tree articles/\n",
    "# ディレクトリの確認"
   ]
  },
  {
   "cell_type": "markdown",
   "metadata": {
    "collapsed": true
   },
   "source": [
    "# 自然言語処理技術を用いた頻出単語の抽出"
   ]
  },
  {
   "cell_type": "raw",
   "metadata": {
    "collapsed": true
   },
   "source": [
    "# !brew install mecab-ipadic\n",
    "# MeCabのインストール"
   ]
  },
  {
   "cell_type": "raw",
   "metadata": {
    "collapsed": true
   },
   "source": [
    "# !mecav -v\n",
    "# バージョンの確認"
   ]
  },
  {
   "cell_type": "raw",
   "metadata": {
    "collapsed": true
   },
   "source": [
    "# !pip install mecab-python3\n",
    "# Python3対応バインディングのインストール(MeCab公式ではない。公式は未対応?)"
   ]
  },
  {
   "cell_type": "raw",
   "metadata": {
    "collapsed": true
   },
   "source": [
    "# MeCabをPythonから使う"
   ]
  },
  {
   "cell_type": "code",
   "execution_count": 15,
   "metadata": {
    "collapsed": false
   },
   "outputs": [
    {
     "name": "stdout",
     "output_type": "stream",
     "text": [
      "Overwriting mecab_sample.py\n"
     ]
    }
   ],
   "source": [
    "%%writefile mecab_sample.py\n",
    "\n",
    "# MeCabをPythonから使う\n",
    "\n",
    "import MeCab\n",
    "\n",
    "tagger = MeCab.Tagger()\n",
    "tagger.parse('') # これは.parseToNode()の不具合を回避するのに必要\n",
    "\n",
    "# .parseToNode()で最初の形態素を表すNodeオブジェクトを取得する\n",
    "node = tagger.parseToNode('すもももももももものうち')\n",
    "\n",
    "while node:\n",
    "    # .surfaceは形態素の文字列、.featureは品詞などを含む文字列をそれぞれ表す\n",
    "    print(node.surface, node.feature)\n",
    "    node = node.next # .nextで次のNodeを取得する"
   ]
  },
  {
   "cell_type": "code",
   "execution_count": 16,
   "metadata": {
    "collapsed": false
   },
   "outputs": [
    {
     "name": "stdout",
     "output_type": "stream",
     "text": [
      " BOS/EOS,*,*,*,*,*,*,*,*\r\n",
      "すもも 名詞,一般,*,*,*,*,すもも,スモモ,スモモ\r\n",
      "も 助詞,係助詞,*,*,*,*,も,モ,モ\r\n",
      "もも 名詞,一般,*,*,*,*,もも,モモ,モモ\r\n",
      "も 助詞,係助詞,*,*,*,*,も,モ,モ\r\n",
      "もも 名詞,一般,*,*,*,*,もも,モモ,モモ\r\n",
      "の 助詞,連体化,*,*,*,*,の,ノ,ノ\r\n",
      "うち 名詞,非自立,副詞可能,*,*,*,うち,ウチ,ウチ\r\n",
      " BOS/EOS,*,*,*,*,*,*,*,*\r\n"
     ]
    }
   ],
   "source": [
    "!python mecab_sample.py"
   ]
  },
  {
   "cell_type": "raw",
   "metadata": {
    "collapsed": true
   },
   "source": [
    "# 以下でもほぼ同様の結果が得られる\n",
    "# !echo すもももももももものうち | mecab"
   ]
  },
  {
   "cell_type": "code",
   "execution_count": null,
   "metadata": {
    "collapsed": true
   },
   "outputs": [],
   "source": []
  },
  {
   "cell_type": "markdown",
   "metadata": {
    "collapsed": true
   },
   "source": [
    "# 文章から頻出単語を抽出する"
   ]
  },
  {
   "cell_type": "raw",
   "metadata": {
    "collapsed": true
   },
   "source": [
    "# Wikipediaの文章から頻出単語を抜き出す"
   ]
  },
  {
   "cell_type": "code",
   "execution_count": 21,
   "metadata": {
    "collapsed": false
   },
   "outputs": [
    {
     "name": "stdout",
     "output_type": "stream",
     "text": [
      "Writing word_frequency.py\n"
     ]
    }
   ],
   "source": [
    "%%writefile word_frequency.py\n",
    "\n",
    "# Wikipediaの文章から頻出単語を抜き出す\n",
    "\n",
    "import sys\n",
    "import os\n",
    "from glob import glob\n",
    "from collections import Counter\n",
    "import MeCab\n",
    "\n",
    "def main():\n",
    "    \"\"\"\n",
    "    コマンドライン引数で指定したディレクトリ内のファイルを読み込んで頻出単語を抽出する\n",
    "    \"\"\"\n",
    "    \n",
    "    input_dir = sys.argv[1] # コマンドラインの第1引数でWikiExtractorの出力先のディレクトリを指定する\n",
    "    \n",
    "    tagger = MeCab.Tagger('')\n",
    "    tagger.parse('') # .parseToNode()の不具合を回避するのに必要\n",
    "    # 単語の頻度を格納するCounterオブジェクトを作成する\n",
    "    # Counterクラスはdictを継承しており、値としてキーの出現回数を保持する\n",
    "    frequency = Counter()\n",
    "    count_proccessed = 0\n",
    "    \n",
    "    # glob()でワイルドカードにマッチするファイルのリストを取得し、マッチしたすべてのファイルを処理する\n",
    "    for path in glob(os.path.join(input_dir, '*', 'wiki_*')):\n",
    "        print('Proccessing {0}...'.format(path), file=sys.stderr)\n",
    "        \n",
    "        with open(path) as file: # ファイルを開く\n",
    "            for content in iter_docs(file): # ファイル内の全記事について反復処理する\n",
    "                tokens = get_tokens(tagger, content) # ページから名詞のリストを取得する\n",
    "                # Counterのupdate()メソッドにリストなどの反復可能オブジェクトを指定すると、\n",
    "                # リストに含まれる値の出現回数を一度に増やせる\n",
    "                frequency.update(tokens)\n",
    "                \n",
    "                # 10,000件ごとに進捗を表示\n",
    "                count_proccessed += 1\n",
    "                if count_proccessed % 10000 == 0:\n",
    "                    print('{0} documents were proccessed.'.format(count_proccessed),\n",
    "                         file=sys.stderr)\n",
    "                    \n",
    "    # 全記事の処理が完了したら上位30件の名詞と出現回数を表示する\n",
    "    for token, count in frequency.most_common(30):\n",
    "        print(token, count)\n",
    "        \n",
    "        \n",
    "def iter_docs(file):\n",
    "    \"\"\"\n",
    "    ファイルオブジェクトを読み込んで、記事の中身(開始タグ<doc ...>と終了タグ</doc>の間のテキスト)を\n",
    "    順に返すジェネレーター関数\n",
    "    \"\"\"\n",
    "    \n",
    "    for line in file:\n",
    "        if line.startswith('<doc '):\n",
    "            buffer = [] # 開始タグが見つかったらバッファを初期化する\n",
    "        elif line.startswith('</doc>'):\n",
    "            # 終了タグが見つかったらバッファの中身を結合してyieldする\n",
    "            content = ''.join(buffer)\n",
    "            yield content\n",
    "        else:\n",
    "            buffer.append(line) # 開始タグ・終了タグ以外の業はバッファに追加する\n",
    "            \n",
    "            \n",
    "def get_tokens(tagger, content):\n",
    "    \"\"\"\n",
    "    文書内に出現した名詞のリストを取得する関数\n",
    "    \"\"\"\n",
    "    \n",
    "    tokens = [] # この記事で出現した名詞を格納するリスト\n",
    "    \n",
    "    node = tagger.parseToNode(content)\n",
    "    while node:\n",
    "        # node.featureはカンマで区切られた文字列なので、split() で分割して\n",
    "        # 最初の2項目をcategoryとsub_categoryに代入する\n",
    "        category, sub_category = node.feature.split(',')[:2]\n",
    "        # 固有名詞または一般名詞の場合のみtokensに追加する\n",
    "        if category == '名詞' and sub_category in ('固有名詞', '一般'):\n",
    "            tokens.append(node.surface)\n",
    "        node = node.next\n",
    "        \n",
    "    return tokens\n",
    "\n",
    "\n",
    "if __name__ == '__main__':\n",
    "    main()"
   ]
  },
  {
   "cell_type": "code",
   "execution_count": 22,
   "metadata": {
    "collapsed": false
   },
   "outputs": [
    {
     "name": "stdout",
     "output_type": "stream",
     "text": [
      "Proccessing articles/AA/wiki_00...\n",
      "10000 documents were proccessed.\n",
      "Proccessing articles/AA/wiki_01...\n",
      "20000 documents were proccessed.\n",
      "30000 documents were proccessed.\n",
      "Proccessing articles/AA/wiki_02...\n",
      "40000 documents were proccessed.\n",
      "50000 documents were proccessed.\n",
      "Proccessing articles/AA/wiki_03...\n",
      "60000 documents were proccessed.\n",
      "70000 documents were proccessed.\n",
      "Proccessing articles/AA/wiki_04...\n",
      "80000 documents were proccessed.\n",
      "月 298912\n",
      "日本 130996\n",
      "時代 65654\n",
      "駅 51080\n",
      "世界 46833\n",
      "作品 44752\n",
      "番組 43670\n",
      "列車 43488\n",
      "昭和 42446\n",
      "東京 41921\n",
      "一般 38469\n",
      "地域 37079\n",
      "鉄道 37058\n",
      "平成 36889\n",
      "中心 36282\n",
      "アメリカ 36205\n",
      "ホーム 31774\n",
      "世紀 30718\n",
      "バス 30405\n",
      "大学 30271\n",
      "車両 29862\n",
      "間 29861\n",
      "路線 29207\n",
      "映画 28781\n",
      "他 28559\n",
      "学校 27057\n",
      "形 26538\n",
      "ドイツ 26472\n",
      "事業 26380\n",
      "テレビ 26332\n"
     ]
    }
   ],
   "source": [
    "!python word_frequency.py articles"
   ]
  },
  {
   "cell_type": "code",
   "execution_count": null,
   "metadata": {
    "collapsed": true
   },
   "outputs": [],
   "source": []
  },
  {
   "cell_type": "markdown",
   "metadata": {
    "collapsed": true
   },
   "source": [
    "# chapter 5-2 APIによるデータの収集と活用"
   ]
  },
  {
   "cell_type": "markdown",
   "metadata": {
    "collapsed": true
   },
   "source": [
    "# Twitterからのデータの収集"
   ]
  },
  {
   "cell_type": "markdown",
   "metadata": {
    "collapsed": true
   },
   "source": [
    "# Requests-OAuthlibを使ったTwitter REST APIの利用"
   ]
  },
  {
   "cell_type": "raw",
   "metadata": {
    "collapsed": true
   },
   "source": [
    "# 認証情報は環境変数に記述して、そこから取得するようにする"
   ]
  },
  {
   "cell_type": "code",
   "execution_count": 8,
   "metadata": {
    "collapsed": false
   },
   "outputs": [
    {
     "name": "stdout",
     "output_type": "stream",
     "text": [
      "Overwriting rest_api_with_requests_oauthlib.py\n"
     ]
    }
   ],
   "source": [
    "%%writefile rest_api_with_requests_oauthlib.py\n",
    "\n",
    "# Requests-OAuthlibを使ってタイムラインを取得する\n",
    "\n",
    "import os\n",
    "from requests_oauthlib import OAuth1Session\n",
    "\n",
    "# 環境変数から認証情報を取得する\n",
    "CONSUMER_KEY = os.environ['CONSUMER_KEY']\n",
    "CONSUMER_SECRET = os.environ['CONSUMER_SECRET']\n",
    "ACCESS_TOKEN = os.environ['ACCESS_TOKEN']\n",
    "ACCESS_TOKEN_SECRET = os.environ['ACCESS_TOKEN_SECRET']\n",
    "\n",
    "# 認証情報を使ってOAuth1Sessionオブジェクトを得る\n",
    "twitter = OAuth1Session(CONSUMER_KEY,\n",
    "                       client_secret=CONSUMER_SECRET,\n",
    "                       resource_owner_key=ACCESS_TOKEN,\n",
    "                       resource_owner_secret=ACCESS_TOKEN_SECRET)\n",
    "\n",
    "# ユーザーのタイムラインを取得する\n",
    "response = twitter.get('https://api.twitter.com/1.1/statuses/home_timeline.json')\n",
    "\n",
    "# APIのレスポンスはJSON形式なので、response.json()でパースしてlistを取得できる\n",
    "# statusはツイート(Twitter APIではStatusと呼ばれる)を表すdict\n",
    "for status in response.json():\n",
    "    print('@' + status['user']['screen_name'], status['text']) # ユーザー名とツイートを表示する"
   ]
  },
  {
   "cell_type": "code",
   "execution_count": null,
   "metadata": {
    "collapsed": false
   },
   "outputs": [],
   "source": [
    "!forego run python rest_api_with_requests_oauthlib.py"
   ]
  },
  {
   "cell_type": "code",
   "execution_count": null,
   "metadata": {
    "collapsed": true
   },
   "outputs": [],
   "source": []
  },
  {
   "cell_type": "markdown",
   "metadata": {
    "collapsed": true
   },
   "source": [
    "# TweepyによるTwitter REST APIの利用"
   ]
  },
  {
   "cell_type": "code",
   "execution_count": 13,
   "metadata": {
    "collapsed": false
   },
   "outputs": [
    {
     "name": "stdout",
     "output_type": "stream",
     "text": [
      "Overwriting rest_api_withtweepy.py\n"
     ]
    }
   ],
   "source": [
    "%%writefile rest_api_withtweepy.py\n",
    "\n",
    "# Tweepyを使ってタイムラインを取得する\n",
    "\n",
    "import os\n",
    "import tweepy\n",
    "\n",
    "# 環境変数から認証情報を取得する\n",
    "CONSUMER_KEY = os.environ['CONSUMER_KEY']\n",
    "CONSUMER_SECRET = os.environ['CONSUMER_SECRET']\n",
    "ACCESS_TOKEN = os.environ['ACCESS_TOKEN']\n",
    "ACCESS_TOKEN_SECRET = os.environ['ACCESS_TOKEN_SECRET']\n",
    "\n",
    "# 認証情報を設定する\n",
    "auth = tweepy.OAuthHandler(CONSUMER_KEY, CONSUMER_SECRET)\n",
    "auth.set_access_token(ACCESS_TOKEN, ACCESS_TOKEN_SECRET)\n",
    "\n",
    "api = tweepy.API(auth) # APIクライアントを取得する\n",
    "public_tweets = api.home_timeline() # ユーザーのタイムラインを取得する\n",
    "\n",
    "# 得られるツイートのオブジェクトはTweepyのStatusオブジェクト\n",
    "for status in public_tweets:\n",
    "    print('@' + status.user.screen_name, status.text) # ユーザー名とツイートを取得する"
   ]
  },
  {
   "cell_type": "code",
   "execution_count": null,
   "metadata": {
    "collapsed": false
   },
   "outputs": [],
   "source": [
    "!forego run python rest_api_withtweepy.py"
   ]
  },
  {
   "cell_type": "code",
   "execution_count": null,
   "metadata": {
    "collapsed": true
   },
   "outputs": [],
   "source": []
  },
  {
   "cell_type": "markdown",
   "metadata": {
    "collapsed": true
   },
   "source": [
    "# TweepyによるTwitter Streaming APIの利用"
   ]
  },
  {
   "cell_type": "code",
   "execution_count": 21,
   "metadata": {
    "collapsed": false
   },
   "outputs": [
    {
     "name": "stdout",
     "output_type": "stream",
     "text": [
      "Overwriting streaming_api_with_tweepy.py\n"
     ]
    }
   ],
   "source": [
    "%%writefile streaming_api_with_tweepy.py\n",
    "\n",
    "# TweepyによるStreaming APIの利用\n",
    "\n",
    "import os\n",
    "import tweepy\n",
    "\n",
    "# 環境変数から認証情報を取得する\n",
    "CONSUMER_KEY = os.environ['CONSUMER_KEY']\n",
    "CONSUMER_SECRET = os.environ['CONSUMER_SECRET']\n",
    "ACCESS_TOKEN = os.environ['ACCESS_TOKEN']\n",
    "ACCESS_TOKEN_SECRET = os.environ['ACCESS_TOKEN_SECRET']\n",
    "\n",
    "# 認証情報を設定する\n",
    "auth = tweepy.OAuthHandler(CONSUMER_KEY, CONSUMER_SECRET)\n",
    "auth.set_access_token(ACCESS_TOKEN, ACCESS_TOKEN_SECRET)\n",
    "\n",
    "\n",
    "class MyStreamListener(tweepy.StreamListener):\n",
    "    \"\"\"\n",
    "    Streaming APIで取得したツイートを処理するためのクラス\n",
    "    \"\"\"\n",
    "    \n",
    "    def on_status(self, status):\n",
    "        \"\"\"\n",
    "        ツイートを受信した時に呼び出されるメソッド\n",
    "        引数はツイートを表すStatusオブジェクト\n",
    "        \"\"\"\n",
    "        print('@' + status.author.screen_name, status.text)\n",
    "        \n",
    "        \n",
    "# 認証情報とStreamListenerを指定してStreamオブジェクトを取得する\n",
    "stream = tweepy.Stream(auth, MyStreamListener())\n",
    "# 公開されているツイートをサンプリングしたストリームを受信する\n",
    "# キーワード引数languagesで日本語のツイートのみに絞り込む\n",
    "stream.sample(languages=['ja'])"
   ]
  },
  {
   "cell_type": "raw",
   "metadata": {
    "collapsed": true
   },
   "source": [
    "# !forego run python streaming_api_with_tweepy.py\n",
    "# 次々にツイートが表示されるので、実行はターミナルで\n",
    "# キャンセルは ctrl + C"
   ]
  },
  {
   "cell_type": "code",
   "execution_count": null,
   "metadata": {
    "collapsed": true
   },
   "outputs": [],
   "source": []
  },
  {
   "cell_type": "markdown",
   "metadata": {
    "collapsed": true
   },
   "source": [
    "# Amazonの商品情報の収集"
   ]
  },
  {
   "cell_type": "raw",
   "metadata": {
    "collapsed": true
   },
   "source": [
    "# Amazonアソシエイト・プログラムに登録するのが面倒なので後回し"
   ]
  },
  {
   "cell_type": "code",
   "execution_count": null,
   "metadata": {
    "collapsed": true
   },
   "outputs": [],
   "source": []
  },
  {
   "cell_type": "markdown",
   "metadata": {
    "collapsed": true
   },
   "source": [
    "# YouTubeからの動画情報の収集"
   ]
  },
  {
   "cell_type": "raw",
   "metadata": {
    "collapsed": true
   },
   "source": [
    "# ターミナル上のcurlコマンドでYouTube Data APIを使う\n",
    "# 面倒なので後回し"
   ]
  },
  {
   "cell_type": "code",
   "execution_count": null,
   "metadata": {
    "collapsed": true
   },
   "outputs": [],
   "source": []
  },
  {
   "cell_type": "markdown",
   "metadata": {
    "collapsed": true
   },
   "source": [
    "# Google API Client for Pythonを使う"
   ]
  },
  {
   "cell_type": "code",
   "execution_count": 32,
   "metadata": {
    "collapsed": false
   },
   "outputs": [
    {
     "name": "stdout",
     "output_type": "stream",
     "text": [
      "Overwriting search_youtube_videos.py\n"
     ]
    }
   ],
   "source": [
    "%%writefile search_youtube_videos.py\n",
    "\n",
    "# YouTubuの動画を検索する\n",
    "\n",
    "import os\n",
    "from apiclient.discovery import build\n",
    "\n",
    "YOUTUBE_API_KEY = os.environ['YOUTUBE_API_KEY'] # 環境変数からAPIキーを取得する\n",
    "\n",
    "# YouTubeのAPIクライアントを組み立てる\n",
    "# build()関数の第1引数にはAPI名を、第2引数にはAPIのバージョンを指定し、\n",
    "# キーワード引数developerKeyでAPIキーを指定する\n",
    "# この関数には内部的にYouTube API用のURLにアクセスし、APIのリソースやメソッドの情報を取得する\n",
    "youtube = build('youtube', 'v3', developerKey=YOUTUBE_API_KEY)\n",
    "\n",
    "# キーワード引数で引数を指定し、search.listメソッドを呼び出す\n",
    "# list()メソッドでgoogleapiclient.http.HttpRequestオブジェクトが得られ、\n",
    "# execute()メソッドを実行すると実際にHTTPリクエストが送られて、APIのレスポンスが得られる\n",
    "search_response = youtube.search().list(\n",
    "    part='snippet',\n",
    "    q='手芸',\n",
    "    type='video',\n",
    ").execute()\n",
    "\n",
    "# search_responseはAPIのレスポンスのJSONをパースしたdict\n",
    "for item in search_response['items']:\n",
    "    print(item['snippet']['title']) # 動画のタイトルを表示する"
   ]
  },
  {
   "cell_type": "code",
   "execution_count": 33,
   "metadata": {
    "collapsed": false
   },
   "outputs": [
    {
     "name": "stdout",
     "output_type": "stream",
     "text": [
      "【購入品紹介】お気に入りの手芸屋さんで買い物♡大阪の可愛いお店\r\n",
      "#プチプラDIY ダイソーのスエード調手芸ひもが可愛すぎる！\r\n",
      "簡単！カチュームの作り方／広島 あとりえChikuTaku(ちくたくの手芸塾)\r\n",
      "【手芸】トイレットペーパーの芯でミニチュアのニット帽を作る。\r\n",
      "針も糸も使わない手芸！果たしてそんなことが可能なのか？作品のクオリティと簡単さにドランクドラゴンも驚愕！！【公式】\r\n"
     ]
    }
   ],
   "source": [
    "!forego run python search_youtube_videos.py"
   ]
  },
  {
   "cell_type": "code",
   "execution_count": null,
   "metadata": {
    "collapsed": true
   },
   "outputs": [],
   "source": []
  },
  {
   "cell_type": "markdown",
   "metadata": {
    "collapsed": true
   },
   "source": [
    "# 動画情報(メタデータ含む)をMongoDBに格納して検索する"
   ]
  },
  {
   "cell_type": "code",
   "execution_count": 5,
   "metadata": {
    "collapsed": false
   },
   "outputs": [
    {
     "name": "stdout",
     "output_type": "stream",
     "text": [
      "Overwriting save_youtube_video_metadata.py\n"
     ]
    }
   ],
   "source": [
    "%%writefile save_youtube_video_metadata.py\n",
    "\n",
    "# 動画の情報をMongoDBに格納し検索可能にする\n",
    "\n",
    "import os\n",
    "import sys\n",
    "from apiclient.discovery import build\n",
    "from pymongo import MongoClient, DESCENDING\n",
    "\n",
    "YOUTUBE_API_KEY = os.environ['YOUTUBE_API_KEY'] # 環境変数からAPIキーを取得する\n",
    "\n",
    "\n",
    "def main():\n",
    "    \"\"\"\n",
    "    メインの処理\n",
    "    \"\"\"\n",
    "    mongo_client = MongoClient('localhost', 27017) # MongoDBのクライアントオブジェクトを作成する\n",
    "    collection = mongo_client.youtube.videos # youtubeデータベースのvideosコレクションを取得する\n",
    "    collection.delete_many({}) # 既存のすべてのドキュメントを削除しておく\n",
    "    \n",
    "    # 動画を検索しページ単位でアイテム一覧を保存する\n",
    "    for item_per_page in search_videos('手芸'):\n",
    "        save_to_mongodb(collection, item_per_page)\n",
    "        \n",
    "    show_top_videos(collection) # ビュー数の多い動画を表示する\n",
    "    \n",
    "    \n",
    "def search_videos(query, max_pages=5):\n",
    "    \"\"\"\n",
    "    動画を検索してページ単位でlistをyieldする\n",
    "    \"\"\"\n",
    "    \n",
    "    youtube = build('youtube', 'v3', developerKey=YOUTUBE_API_KEY) # YouTubeのAPIクライアントを組み立てる\n",
    "    \n",
    "    # search.listで最初のページを取得するためのリクエストを得る\n",
    "    search_request = youtube.search().list(\n",
    "        part='id', # search.listでは動画IDだけを取得できればよい\n",
    "        q=query,\n",
    "        type='video',\n",
    "        maxResults = 50, # 1ページあたり最大50件の動画を取得する\n",
    "    )\n",
    "    \n",
    "    # リクエストが有効かつページ数がmax_pages以内の間、繰り返す\n",
    "    # ページ数を制限しているのは実行時間が長くなり過ぎないようにするためなので、\n",
    "    # 実際にはもっと多くのページを取得してもよい\n",
    "    i = 0\n",
    "    while search_request and i < max_pages:\n",
    "        search_response = search_request.execute() # リクエストを送信する\n",
    "        video_ids = [item['id']['videoId'] for item in search_response['items']] # 動画IDのリストを得る\n",
    "        \n",
    "        # videos.listメソッドで動画の詳細な情報を得る\n",
    "        videos_response = youtube.videos().list(\n",
    "            part='snippet,statistics',\n",
    "            id=','.join(video_ids)\n",
    "        ).execute()\n",
    "        \n",
    "        yield videos_response['items'] # ページに対応するitemsをyieldする\n",
    "        \n",
    "        # list_next()メソッドで次のページを取得するためのリクエスト(次のページがない場合はNone)を得る\n",
    "        search_request = youtube.search().list_next(search_request, search_response)\n",
    "        i += 1\n",
    "        \n",
    "        \n",
    "def save_to_mongodb(collection, items):\n",
    "    \"\"\"\n",
    "    MongoDBにアイテムのリストを保存する\n",
    "    \"\"\"\n",
    "    # MongoDBに保存する前に、後で使いやすいようにアイテムを書き換える\n",
    "    for item in items:\n",
    "        item['_id'] = item['id'] # 各アイテムのid属性を_id属性として使う\n",
    "        \n",
    "        # statisticsに含まれるviewCountプロパティなどの値が文字列になっているので、数値に変換する\n",
    "        for key, value in item['statistics'].items():\n",
    "            item['statistics'][key] = int(value)\n",
    "            \n",
    "    result = collection.insert_many(items) # コレクションに挿入する\n",
    "    print('Inserted {0} documents'.format(len(result.inserted_ids)), file=sys.stderr)\n",
    "    \n",
    "    \n",
    "def show_top_videos(collection):\n",
    "    \"\"\"\n",
    "    MongoDBのコレクション内でビュー数の上位5件を表示する\n",
    "    \"\"\"\n",
    "    for item in collection.find().sort('statistics.viewCount', DESCENDING).limit(5):\n",
    "        print(item['statistics']['viewCount'], item['snippet']['title'])\n",
    "        \n",
    "        \n",
    "if __name__ == '__main__':\n",
    "    main()"
   ]
  },
  {
   "cell_type": "code",
   "execution_count": 6,
   "metadata": {
    "collapsed": false
   },
   "outputs": [
    {
     "name": "stdout",
     "output_type": "stream",
     "text": [
      "Inserted 50 documents\n",
      "Inserted 50 documents\n",
      "Inserted 50 documents\n",
      "Inserted 50 documents\n",
      "Inserted 50 documents\n",
      "375824 #プチプラDIY ダイソーのスエード調手芸ひもが可愛すぎる！\n",
      "247247 縫わずに作る三角ポーチの作り方／ボンド 裁ほう上手を使用♪／内布ナシ\n",
      "145458 ゴムの結び方 処理方法 ブレスレット簡単作り方　リクエスト　広島手芸雑貨店「Leche れちぇ」\n",
      "128794 【哲也】で学ぶ　左手芸\n",
      "96247 きゃりーぱみゅぱみゅ風ヘアゴム 簡単 作り方 広島手芸雑貨店「Leche れちぇ」\n"
     ]
    }
   ],
   "source": [
    "!forego run python save_youtube_video_metadata.py"
   ]
  },
  {
   "cell_type": "code",
   "execution_count": null,
   "metadata": {
    "collapsed": true
   },
   "outputs": [],
   "source": []
  },
  {
   "cell_type": "markdown",
   "metadata": {
    "collapsed": true
   },
   "source": [
    "# chapter 5-3 時系列データの活用と収集"
   ]
  },
  {
   "cell_type": "markdown",
   "metadata": {
    "collapsed": true
   },
   "source": [
    "# pandasの基礎知識"
   ]
  },
  {
   "cell_type": "code",
   "execution_count": 1,
   "metadata": {
    "collapsed": true
   },
   "outputs": [],
   "source": [
    "import pandas as pd"
   ]
  },
  {
   "cell_type": "raw",
   "metadata": {
    "collapsed": true
   },
   "source": [
    "# pandasのデータ構造にはSeriesとDataFrameがある"
   ]
  },
  {
   "cell_type": "raw",
   "metadata": {
    "collapsed": true
   },
   "source": [
    "# Seriesは1次元のラベル付きの配列"
   ]
  },
  {
   "cell_type": "code",
   "execution_count": 3,
   "metadata": {
    "collapsed": true
   },
   "outputs": [],
   "source": [
    "s1 = pd.Series([4, -2, 5]) # Seriesのコストラクターにlistを渡してインスタンスを生成する"
   ]
  },
  {
   "cell_type": "code",
   "execution_count": 4,
   "metadata": {
    "collapsed": false
   },
   "outputs": [
    {
     "data": {
      "text/plain": [
       "0    4\n",
       "1   -2\n",
       "2    5\n",
       "dtype: int64"
      ]
     },
     "execution_count": 4,
     "metadata": {},
     "output_type": "execute_result"
    }
   ],
   "source": [
    "# インデックスはデフォルトで数値の連番、最終行のdtypeは含まれるデータの型を表す\n",
    "s1"
   ]
  },
  {
   "cell_type": "code",
   "execution_count": 5,
   "metadata": {
    "collapsed": false
   },
   "outputs": [
    {
     "data": {
      "text/plain": [
       "RangeIndex(start=0, stop=3, step=1)"
      ]
     },
     "execution_count": 5,
     "metadata": {},
     "output_type": "execute_result"
    }
   ],
   "source": [
    "s1.index # index属性でインデックスの配列を取得する"
   ]
  },
  {
   "cell_type": "code",
   "execution_count": 6,
   "metadata": {
    "collapsed": false
   },
   "outputs": [
    {
     "data": {
      "text/plain": [
       "[0, 1, 2]"
      ]
     },
     "execution_count": 6,
     "metadata": {},
     "output_type": "execute_result"
    }
   ],
   "source": [
    "list(s1.index) # インデックスの配列は反復可能オブジェクト"
   ]
  },
  {
   "cell_type": "code",
   "execution_count": 7,
   "metadata": {
    "collapsed": false
   },
   "outputs": [
    {
     "data": {
      "text/plain": [
       "array([ 4, -2,  5])"
      ]
     },
     "execution_count": 7,
     "metadata": {},
     "output_type": "execute_result"
    }
   ],
   "source": [
    "s1.values # values属性で値の配列を取得する"
   ]
  },
  {
   "cell_type": "code",
   "execution_count": 8,
   "metadata": {
    "collapsed": false
   },
   "outputs": [
    {
     "data": {
      "text/plain": [
       "[4, -2, 5]"
      ]
     },
     "execution_count": 8,
     "metadata": {},
     "output_type": "execute_result"
    }
   ],
   "source": [
    "list(s1.values) # 値の配列は反復可能オブジェクト"
   ]
  },
  {
   "cell_type": "code",
   "execution_count": 9,
   "metadata": {
    "collapsed": true
   },
   "outputs": [],
   "source": [
    "s2 = pd.Series([4, -2, 5], index=['a', 'b', 'c']) # インデックスを指定してシリーズを作成できる"
   ]
  },
  {
   "cell_type": "code",
   "execution_count": 10,
   "metadata": {
    "collapsed": false
   },
   "outputs": [
    {
     "data": {
      "text/plain": [
       "a    4\n",
       "b   -2\n",
       "c    5\n",
       "dtype: int64"
      ]
     },
     "execution_count": 10,
     "metadata": {},
     "output_type": "execute_result"
    }
   ],
   "source": [
    "s2"
   ]
  },
  {
   "cell_type": "code",
   "execution_count": 11,
   "metadata": {
    "collapsed": false
   },
   "outputs": [
    {
     "data": {
      "text/plain": [
       "Index(['a', 'b', 'c'], dtype='object')"
      ]
     },
     "execution_count": 11,
     "metadata": {},
     "output_type": "execute_result"
    }
   ],
   "source": [
    "s2.index"
   ]
  },
  {
   "cell_type": "code",
   "execution_count": 12,
   "metadata": {
    "collapsed": false
   },
   "outputs": [
    {
     "data": {
      "text/plain": [
       "4"
      ]
     },
     "execution_count": 12,
     "metadata": {},
     "output_type": "execute_result"
    }
   ],
   "source": [
    "s2['a'] # インデックスの値をキーとして、dictのように値を取得できる"
   ]
  },
  {
   "cell_type": "raw",
   "metadata": {
    "collapsed": true
   },
   "source": [
    "# DataFrameは2次元の表形式のデータ\n",
    "# キーが列ラベル、値が列を表すシリーズの辞書型のオブジェクト"
   ]
  },
  {
   "cell_type": "code",
   "execution_count": 18,
   "metadata": {
    "collapsed": true
   },
   "outputs": [],
   "source": [
    "df = pd.DataFrame({'math': [78, 64, 53], 'english': [45, 87, 67]}, index=['001', '002', '003'], columns=['math', 'english'])"
   ]
  },
  {
   "cell_type": "code",
   "execution_count": 19,
   "metadata": {
    "collapsed": false
   },
   "outputs": [
    {
     "data": {
      "text/html": [
       "<div>\n",
       "<table border=\"1\" class=\"dataframe\">\n",
       "  <thead>\n",
       "    <tr style=\"text-align: right;\">\n",
       "      <th></th>\n",
       "      <th>math</th>\n",
       "      <th>english</th>\n",
       "    </tr>\n",
       "  </thead>\n",
       "  <tbody>\n",
       "    <tr>\n",
       "      <th>001</th>\n",
       "      <td>78</td>\n",
       "      <td>45</td>\n",
       "    </tr>\n",
       "    <tr>\n",
       "      <th>002</th>\n",
       "      <td>64</td>\n",
       "      <td>87</td>\n",
       "    </tr>\n",
       "    <tr>\n",
       "      <th>003</th>\n",
       "      <td>53</td>\n",
       "      <td>67</td>\n",
       "    </tr>\n",
       "  </tbody>\n",
       "</table>\n",
       "</div>"
      ],
      "text/plain": [
       "     math  english\n",
       "001    78       45\n",
       "002    64       87\n",
       "003    53       67"
      ]
     },
     "execution_count": 19,
     "metadata": {},
     "output_type": "execute_result"
    }
   ],
   "source": [
    "df"
   ]
  },
  {
   "cell_type": "code",
   "execution_count": 20,
   "metadata": {
    "collapsed": false
   },
   "outputs": [
    {
     "data": {
      "text/plain": [
       "001    78\n",
       "002    64\n",
       "003    53\n",
       "Name: math, dtype: int64"
      ]
     },
     "execution_count": 20,
     "metadata": {},
     "output_type": "execute_result"
    }
   ],
   "source": [
    "df['math'] # dictのように[]内にラベル名を指定することで列を笑わすシリーズを取得できる"
   ]
  },
  {
   "cell_type": "code",
   "execution_count": 21,
   "metadata": {
    "collapsed": false
   },
   "outputs": [
    {
     "data": {
      "text/plain": [
       "001    45\n",
       "002    87\n",
       "003    67\n",
       "Name: english, dtype: int64"
      ]
     },
     "execution_count": 21,
     "metadata": {},
     "output_type": "execute_result"
    }
   ],
   "source": [
    "df.english # ラベル名の属性でもシリーズを取得できる"
   ]
  },
  {
   "cell_type": "code",
   "execution_count": 23,
   "metadata": {
    "collapsed": false
   },
   "outputs": [
    {
     "data": {
      "text/plain": [
       "math       78\n",
       "english    45\n",
       "Name: 001, dtype: int64"
      ]
     },
     "execution_count": 23,
     "metadata": {},
     "output_type": "execute_result"
    }
   ],
   "source": [
    "df.ix['001'] # ix属性にインデックスのラベルを指定することで行を取得できる"
   ]
  },
  {
   "cell_type": "code",
   "execution_count": 24,
   "metadata": {
    "collapsed": false
   },
   "outputs": [
    {
     "data": {
      "text/plain": [
       "math       78\n",
       "english    45\n",
       "Name: 001, dtype: int64"
      ]
     },
     "execution_count": 24,
     "metadata": {},
     "output_type": "execute_result"
    }
   ],
   "source": [
    "df.ix[0] # ix属性に行番号を指定して行を取得することも可能"
   ]
  },
  {
   "cell_type": "code",
   "execution_count": 25,
   "metadata": {
    "collapsed": false
   },
   "outputs": [
    {
     "data": {
      "text/plain": [
       "45"
      ]
     },
     "execution_count": 25,
     "metadata": {},
     "output_type": "execute_result"
    }
   ],
   "source": [
    "df.english['001'] # 列はシリーズなので添字でセルの値を取得できる"
   ]
  },
  {
   "cell_type": "code",
   "execution_count": 26,
   "metadata": {
    "collapsed": false
   },
   "outputs": [
    {
     "data": {
      "text/html": [
       "<div>\n",
       "<table border=\"1\" class=\"dataframe\">\n",
       "  <thead>\n",
       "    <tr style=\"text-align: right;\">\n",
       "      <th></th>\n",
       "      <th>math</th>\n",
       "      <th>english</th>\n",
       "    </tr>\n",
       "  </thead>\n",
       "  <tbody>\n",
       "    <tr>\n",
       "      <th>count</th>\n",
       "      <td>3.000000</td>\n",
       "      <td>3.000000</td>\n",
       "    </tr>\n",
       "    <tr>\n",
       "      <th>mean</th>\n",
       "      <td>65.000000</td>\n",
       "      <td>66.333333</td>\n",
       "    </tr>\n",
       "    <tr>\n",
       "      <th>std</th>\n",
       "      <td>12.529964</td>\n",
       "      <td>21.007935</td>\n",
       "    </tr>\n",
       "    <tr>\n",
       "      <th>min</th>\n",
       "      <td>53.000000</td>\n",
       "      <td>45.000000</td>\n",
       "    </tr>\n",
       "    <tr>\n",
       "      <th>25%</th>\n",
       "      <td>58.500000</td>\n",
       "      <td>56.000000</td>\n",
       "    </tr>\n",
       "    <tr>\n",
       "      <th>50%</th>\n",
       "      <td>64.000000</td>\n",
       "      <td>67.000000</td>\n",
       "    </tr>\n",
       "    <tr>\n",
       "      <th>75%</th>\n",
       "      <td>71.000000</td>\n",
       "      <td>77.000000</td>\n",
       "    </tr>\n",
       "    <tr>\n",
       "      <th>max</th>\n",
       "      <td>78.000000</td>\n",
       "      <td>87.000000</td>\n",
       "    </tr>\n",
       "  </tbody>\n",
       "</table>\n",
       "</div>"
      ],
      "text/plain": [
       "            math    english\n",
       "count   3.000000   3.000000\n",
       "mean   65.000000  66.333333\n",
       "std    12.529964  21.007935\n",
       "min    53.000000  45.000000\n",
       "25%    58.500000  56.000000\n",
       "50%    64.000000  67.000000\n",
       "75%    71.000000  77.000000\n",
       "max    78.000000  87.000000"
      ]
     },
     "execution_count": 26,
     "metadata": {},
     "output_type": "execute_result"
    }
   ],
   "source": [
    "# describe()メソッドで個数、平均値、標準偏差、最小値、パーセンタイル、最大値などの統計量を一度に得られる\n",
    "df.describe()"
   ]
  },
  {
   "cell_type": "code",
   "execution_count": null,
   "metadata": {
    "collapsed": true
   },
   "outputs": [],
   "source": []
  },
  {
   "cell_type": "markdown",
   "metadata": {
    "collapsed": true
   },
   "source": [
    "# CSVファイルの読み込み(為替データ)"
   ]
  },
  {
   "cell_type": "code",
   "execution_count": null,
   "metadata": {
    "collapsed": false
   },
   "outputs": [],
   "source": [
    "# read_csv()関数の第1引数にはファイルパス、URL、ファイルオブジェクトのいずれかを指定できる\n",
    "# キーワード引数encodingでファイルのエンコーディングを指定できる\n",
    "pd.read_csv('exchange.csv', encoding='cp932')"
   ]
  },
  {
   "cell_type": "raw",
   "metadata": {
    "collapsed": true
   },
   "source": [
    "# そのままではデータとして扱いづらいので修正する"
   ]
  },
  {
   "cell_type": "code",
   "execution_count": 3,
   "metadata": {
    "collapsed": false
   },
   "outputs": [],
   "source": [
    "df_exchange = pd.read_csv('exchange.csv', encoding='cp932', header=1, names=['date', 'USD', 'rate'],\n",
    "                         skipinitialspace=True, index_col=0, parse_dates=True)"
   ]
  },
  {
   "cell_type": "code",
   "execution_count": null,
   "metadata": {
    "collapsed": false
   },
   "outputs": [],
   "source": [
    "df_exchange"
   ]
  },
  {
   "cell_type": "code",
   "execution_count": 34,
   "metadata": {
    "collapsed": false
   },
   "outputs": [
    {
     "data": {
      "text/plain": [
       "58.289999999999999"
      ]
     },
     "execution_count": 34,
     "metadata": {},
     "output_type": "execute_result"
    }
   ],
   "source": [
    "df_exchange.rate[0]"
   ]
  },
  {
   "cell_type": "code",
   "execution_count": 36,
   "metadata": {
    "collapsed": false
   },
   "outputs": [
    {
     "data": {
      "text/plain": [
       "numpy.float64"
      ]
     },
     "execution_count": 36,
     "metadata": {},
     "output_type": "execute_result"
    }
   ],
   "source": [
    "# read_csv()関数では型推論によって、例えば列USDや列rateの値はnumpy.float64に変換される\n",
    "type(df_exchange.rate[0])"
   ]
  },
  {
   "cell_type": "code",
   "execution_count": null,
   "metadata": {
    "collapsed": true
   },
   "outputs": [],
   "source": []
  },
  {
   "cell_type": "markdown",
   "metadata": {
    "collapsed": true
   },
   "source": [
    "# csvファイルの読み込み(国債金利データ)"
   ]
  },
  {
   "cell_type": "raw",
   "metadata": {
    "collapsed": true
   },
   "source": [
    "# 和暦の文字列をdatetimeオブジェクトに変換する関数parse_japanese_date()を定義する"
   ]
  },
  {
   "cell_type": "code",
   "execution_count": 6,
   "metadata": {
    "collapsed": true
   },
   "outputs": [],
   "source": [
    "from datetime import datetime"
   ]
  },
  {
   "cell_type": "code",
   "execution_count": 41,
   "metadata": {
    "collapsed": false
   },
   "outputs": [],
   "source": [
    "def parse_japanese_date(s):\n",
    "    base_years = {'S': 1925, 'H': 1988} #昭和・平成の0年に相当する年を定義しておく\n",
    "    era = s[0] # 元号を表すアルファベット1文字を取得\n",
    "    year, month, day = s[1:].split('.') # 2文字目以降を.()で分割して年月日に分ける\n",
    "    year = base_years[era] + int(year) # 元号の0年に相当する年と数値に変換した年を足して西暦の年を得る\n",
    "    return datetime(year, int(month), int(day)) # datetimeオブジェクトを作成する"
   ]
  },
  {
   "cell_type": "code",
   "execution_count": 42,
   "metadata": {
    "collapsed": false
   },
   "outputs": [
    {
     "data": {
      "text/plain": [
       "datetime.datetime(1974, 9, 24, 0, 0)"
      ]
     },
     "execution_count": 42,
     "metadata": {},
     "output_type": "execute_result"
    }
   ],
   "source": [
    "parse_japanese_date('S49.9.24')"
   ]
  },
  {
   "cell_type": "code",
   "execution_count": 43,
   "metadata": {
    "collapsed": false
   },
   "outputs": [
    {
     "data": {
      "text/plain": [
       "datetime.datetime(2015, 8, 31, 0, 0)"
      ]
     },
     "execution_count": 43,
     "metadata": {},
     "output_type": "execute_result"
    }
   ],
   "source": [
    "parse_japanese_date('H27.8.31')"
   ]
  },
  {
   "cell_type": "code",
   "execution_count": 45,
   "metadata": {
    "collapsed": false
   },
   "outputs": [],
   "source": [
    "# キーワード引数date_parserに関数parse_japanese_dateを指定、na_valuesで「-」と書かれたセルがNaNとみなされるように指定\n",
    "df_jgbcm = pd.read_csv('jgbcm_all.csv', encoding='cp932', index_col=0, parse_dates=True,\n",
    "                      date_parser=parse_japanese_date, na_values=['-'], header=1)"
   ]
  },
  {
   "cell_type": "code",
   "execution_count": null,
   "metadata": {
    "collapsed": false
   },
   "outputs": [],
   "source": [
    "df_jgbcm"
   ]
  },
  {
   "cell_type": "code",
   "execution_count": null,
   "metadata": {
    "collapsed": true
   },
   "outputs": [],
   "source": []
  },
  {
   "cell_type": "markdown",
   "metadata": {
    "collapsed": true
   },
   "source": [
    "# Excelファイルの読み込み(有効求人倍率データ)"
   ]
  },
  {
   "cell_type": "code",
   "execution_count": 54,
   "metadata": {
    "collapsed": false
   },
   "outputs": [],
   "source": [
    "# read_excel関数の引数で不要な行と列をスキップ、西暦の列をインデックスとして使うためにindex_col=0を指定\n",
    "df_jobs = pd.read_excel('jobs.xls', skiprows=3, skip_footer=2, parse_cols='W,Y:AJ', index_col=0)"
   ]
  },
  {
   "cell_type": "code",
   "execution_count": null,
   "metadata": {
    "collapsed": false
   },
   "outputs": [],
   "source": [
    "df_jobs"
   ]
  },
  {
   "cell_type": "code",
   "execution_count": 56,
   "metadata": {
    "collapsed": true
   },
   "outputs": [],
   "source": [
    "# 縦軸が年、横軸が月になっており月ごとの変動を見るには扱いづらいので、\n",
    "# データフレームのstack()メソッドで2次元のデータフレームを1次元のシリーズに変換する\n",
    "s_jobs = df_jobs.stack()"
   ]
  },
  {
   "cell_type": "code",
   "execution_count": null,
   "metadata": {
    "collapsed": false
   },
   "outputs": [],
   "source": [
    "s_jobs"
   ]
  },
  {
   "cell_type": "code",
   "execution_count": null,
   "metadata": {
    "collapsed": false
   },
   "outputs": [],
   "source": [
    "# このシリーズのインデックスは年と月という階層を持つ階層型インデックス\n",
    "# このインデックスを反復すると、年と月の2要素からなるタプルが得られる\n",
    "list(s_jobs.index)"
   ]
  },
  {
   "cell_type": "raw",
   "metadata": {
    "collapsed": true
   },
   "source": [
    "# このままでは扱いづらいので、インデックスを日付に変換するparse_year_and_month()関数を定義する"
   ]
  },
  {
   "cell_type": "code",
   "execution_count": 60,
   "metadata": {
    "collapsed": true
   },
   "outputs": [],
   "source": [
    "from datetime import datetime"
   ]
  },
  {
   "cell_type": "code",
   "execution_count": 61,
   "metadata": {
    "collapsed": true
   },
   "outputs": [],
   "source": [
    "def parse_year_and_month(year, month):\n",
    "    year = int(year[:-1]) # \"年\"を除去して数値に変換\n",
    "    month = int(month[:-1]) # \"月\"を除去して数値に変換\n",
    "    year += (1900 if year >= 63 else 2000) # 63年以降は19xx年、63年より前は20xx年\n",
    "    return datetime(year, month, 1) # datetimeオブジェクトを作成する"
   ]
  },
  {
   "cell_type": "raw",
   "metadata": {
    "collapsed": true
   },
   "source": [
    "# Excelファイルでは1〜9月は全角文字になっているがPythonでは問題なくintに変換できる"
   ]
  },
  {
   "cell_type": "code",
   "execution_count": 63,
   "metadata": {
    "collapsed": false
   },
   "outputs": [
    {
     "data": {
      "text/plain": [
       "datetime.datetime(1963, 1, 1, 0, 0)"
      ]
     },
     "execution_count": 63,
     "metadata": {},
     "output_type": "execute_result"
    }
   ],
   "source": [
    "parse_year_and_month('63年', '1月')"
   ]
  },
  {
   "cell_type": "code",
   "execution_count": 64,
   "metadata": {
    "collapsed": false
   },
   "outputs": [
    {
     "data": {
      "text/plain": [
       "datetime.datetime(2014, 12, 1, 0, 0)"
      ]
     },
     "execution_count": 64,
     "metadata": {},
     "output_type": "execute_result"
    }
   ],
   "source": [
    "parse_year_and_month('14年', '12月')"
   ]
  },
  {
   "cell_type": "code",
   "execution_count": 65,
   "metadata": {
    "collapsed": true
   },
   "outputs": [],
   "source": [
    "# シリーズのindex属性にリストを代入してインデックスを置き換える\n",
    "s_jobs.index = [parse_year_and_month(y, m) for y, m in s_jobs.index]"
   ]
  },
  {
   "cell_type": "code",
   "execution_count": null,
   "metadata": {
    "collapsed": false
   },
   "outputs": [],
   "source": [
    "s_jobs"
   ]
  },
  {
   "cell_type": "code",
   "execution_count": null,
   "metadata": {
    "collapsed": true
   },
   "outputs": [],
   "source": []
  },
  {
   "cell_type": "markdown",
   "metadata": {
    "collapsed": true
   },
   "source": [
    "# グラフによる可視化"
   ]
  },
  {
   "cell_type": "markdown",
   "metadata": {
    "collapsed": true
   },
   "source": [
    "# matplotlibnの使い方"
   ]
  },
  {
   "cell_type": "code",
   "execution_count": 69,
   "metadata": {
    "collapsed": true
   },
   "outputs": [],
   "source": [
    "import matplotlib.pyplot as plt"
   ]
  },
  {
   "cell_type": "code",
   "execution_count": 70,
   "metadata": {
    "collapsed": false
   },
   "outputs": [
    {
     "data": {
      "text/plain": [
       "[<matplotlib.lines.Line2D at 0x1104c24e0>]"
      ]
     },
     "execution_count": 70,
     "metadata": {},
     "output_type": "execute_result"
    }
   ],
   "source": [
    "# plot()関数にX軸のリストとY軸のリストを指定するとグラフを描画できる\n",
    "plt.plot([1, 2, 3, 4, 5], [1, 4, 9, 16, 25])"
   ]
  },
  {
   "cell_type": "code",
   "execution_count": 71,
   "metadata": {
    "collapsed": false
   },
   "outputs": [
    {
     "data": {
      "image/png": "[encoded data removed]",
      "text/plain": [
       "<matplotlib.figure.Figure at 0x10df101d0>"
      ]
     },
     "metadata": {},
     "output_type": "display_data"
    }
   ],
   "source": [
    "plt.show() # show()関数でグラフをウインドウに表示する"
   ]
  },
  {
   "cell_type": "code",
   "execution_count": 72,
   "metadata": {
    "collapsed": false
   },
   "outputs": [
    {
     "data": {
      "text/plain": [
       "[<matplotlib.lines.Line2D at 0x110523940>]"
      ]
     },
     "execution_count": 72,
     "metadata": {},
     "output_type": "execute_result"
    }
   ],
   "source": [
    "# 引数にリストを1つだけ指定した場合、そのリストはY軸の値として使用され、X軸の値はリストのインデックスの値となる\n",
    "plt.plot([1, 2, 3, 4, 5])"
   ]
  },
  {
   "cell_type": "code",
   "execution_count": 73,
   "metadata": {
    "collapsed": false
   },
   "outputs": [
    {
     "data": {
      "image/png": "[encoded data removed]",
      "text/plain": [
       "<matplotlib.figure.Figure at 0x1104efb70>"
      ]
     },
     "metadata": {},
     "output_type": "display_data"
    }
   ],
   "source": [
    "plt.show()"
   ]
  },
  {
   "cell_type": "code",
   "execution_count": null,
   "metadata": {
    "collapsed": true
   },
   "outputs": [],
   "source": []
  },
  {
   "cell_type": "markdown",
   "metadata": {
    "collapsed": false
   },
   "source": [
    "# 様々なパラメーターを指定してグラフを描画、ファイルに出力する"
   ]
  },
  {
   "cell_type": "raw",
   "metadata": {
    "collapsed": true
   },
   "source": [
    "# P.168 P.169, macOS Sierraのフォント指定\n",
    "# macOS Sierraでは，matplotlibから使用できる.ttf形式の日本語フォントファイルがなくなってしまったため，\n",
    "# 以下の手順でMigMix 1Pフォントをインストールしてください。\n",
    "\n",
    "# http://mix-mplus-ipa.osdn.jp/migmix/ から migmix-1p-20150712.zip をダウンロード・展開する。\n",
    "# ZIPファイルに含まれているmigmix-1p-regular.ttfを~/Library/Fontsにコピーする。\n",
    "# 以下のコマンドでmatplotlibのフォントのキャッシュファイルを削除する。\n",
    "# ※ P.166 脚注39のパスはLinuxのもので，macOSでは異なるので注意してください。\n",
    "\n",
    "# rm ~/.matplotlib/fontList.py3k.cache"
   ]
  },
  {
   "cell_type": "code",
   "execution_count": 80,
   "metadata": {
    "collapsed": false
   },
   "outputs": [
    {
     "name": "stdout",
     "output_type": "stream",
     "text": [
      "Writing plot_advanced_graph_to_file.py\n"
     ]
    }
   ],
   "source": [
    "%%writefile plot_advanced_graph_to_file.py\n",
    "\n",
    "# 様々なパラメーターを指定してグラフを描画、ファイルに出力する\n",
    "\n",
    "import matplotlib\n",
    "matplotlib.use('Agg') # 描画のバックエンドとしてデスクトップ環境が不要なAggを使う\n",
    "# 日本語を描画できるようフォントを指定する\n",
    "# デフォルトでは英語用のフォントが指定され、日本語が表示できない\n",
    "# OS XとUbuntu用に2種類のフォントを列挙している\n",
    "matplotlib.rcParams['font.sans-serif'] = 'Hiragino Kaku Gothic Pro, MigMix 1P'\n",
    "import matplotlib.pyplot as plt\n",
    "\n",
    "# plot()の第3引数には系列のスタイルを表す文字列を指定できる\n",
    "# 'b'は青色、’x’はバツ印のマーカー、'-'はマーカーを実線で繋ぐことを意味する\n",
    "# キーワード引数labelで指定した系列の名前は、凡例で使用される\n",
    "plt.plot([1, 2, 3, 4, 5], [1, 2, 3, 4, 5], 'bx-', label='1次関数')\n",
    "# スタイルの'r'は赤色、'o'は丸印のマーカー、'--'は点線を意味する\n",
    "plt.plot([1, 2, 3, 4, 5], [1, 4, 9, 16, 25], 'ro--', label='2次関数')\n",
    "plt.xlabel('Xの値') # xlabel関数でX軸のラベルを指定する\n",
    "plt.ylabel('Yの値') # ylabel関数でY軸のラベルを指定する\n",
    "plt.title('matplotlibのサンプル') # title()関数でグラフのタイトルを指定する\n",
    "plt.legend(loc='best') # legend関数で判例を表示する。loc='best'は最適な位置に表示することを意味する\n",
    "plt.xlim(0, 6) # X軸の値の範囲を0〜6とする。ylim()関数で同様にY軸の範囲を指定できる\n",
    "plt.savefig('advanced_graph.png', dpi=300) # グラフを画像ファイルに保存する"
   ]
  },
  {
   "cell_type": "code",
   "execution_count": 82,
   "metadata": {
    "collapsed": false
   },
   "outputs": [],
   "source": [
    "!python plot_advanced_graph_to_file.py"
   ]
  },
  {
   "cell_type": "code",
   "execution_count": null,
   "metadata": {
    "collapsed": true
   },
   "outputs": [],
   "source": []
  },
  {
   "cell_type": "markdown",
   "metadata": {
    "collapsed": true
   },
   "source": [
    "# 読み込んだデータをグラフとして描画"
   ]
  },
  {
   "cell_type": "markdown",
   "metadata": {
    "collapsed": true
   },
   "source": [
    "# 時系列データを可視化する"
   ]
  },
  {
   "cell_type": "code",
   "execution_count": 92,
   "metadata": {
    "collapsed": false
   },
   "outputs": [
    {
     "name": "stdout",
     "output_type": "stream",
     "text": [
      "Overwriting plot_historical_data.py\n"
     ]
    }
   ],
   "source": [
    "%%writefile plot_historical_data.py\n",
    "\n",
    "# 時系列データを可視化する\n",
    "\n",
    "from datetime import datetime\n",
    "import pandas as pd\n",
    "import matplotlib\n",
    "matplotlib.use('Agg') # 描画のバックエンドとしてデスクトップ環境が不要なAggを使う\n",
    "# 日本語を描画できるようフォントを指定する\n",
    "# デフォルトでは英語用のフォントが指定され、日本語が表示できない\n",
    "# OS XとUbuntu用に2種類のフォントを列挙している\n",
    "matplotlib.rcParams['font.sans-serif'] = 'Hiragino Kaku Gothic Pro, MigMix 1P'\n",
    "import matplotlib.pyplot as plt\n",
    "\n",
    "\n",
    "def main():\n",
    "    # 為替データの読み込み\n",
    "    df_exchange = pd.read_csv(\n",
    "        'exchange.csv', encoding='cp932', header=1, names=['date', 'USD', 'rate'],\n",
    "        skipinitialspace=True, index_col=0, parse_dates=True)\n",
    "    # 国債金利データの読み込み\n",
    "    # キーワード引数date_parserに関数parse_japanese_dateを指定、na_valuesで「-」と書かれたセルがNaNとみなされるように指定\n",
    "    df_jgbcm = pd.read_csv(\n",
    "        'jgbcm_all.csv', encoding='cp932', index_col=0, parse_dates=True,\n",
    "        date_parser=parse_japanese_date, na_values=['-'], header=1)\n",
    "    # 有効求人倍率の読み込み\n",
    "    # read_excel関数の引数で不要な行と列をスキップ、西暦の列をインデックスとして使うためにindex_col=0を指定\n",
    "    df_jobs = pd.read_excel('jobs.xls', skiprows=3, skip_footer=2, parse_cols='W,Y:AJ', index_col=0)\n",
    "    # 縦軸が年、横軸が月になっており月ごとの変動を見るには扱いづらいので、\n",
    "    # データフレームのstack()メソッドで2次元のデータフレームを1次元のシリーズに変換する\n",
    "    s_jobs = df_jobs.stack()\n",
    "    # シリーズのindex属性にリストを代入してインデックスを置き換える\n",
    "    s_jobs.index = [parse_year_and_month(y, m) for y, m in s_jobs.index]\n",
    "    \n",
    "    min_date = datetime(1973, 1, 1) # X軸の最小値\n",
    "    max_date = datetime.now() # X軸の最大値\n",
    "    \n",
    "    # 1つ目のサブプロット(為替データ)\n",
    "    plt.subplot(3, 1, 1) # 3行1列の1番目のサブプロットを作成\n",
    "    plt.plot(df_exchange.index, df_exchange.USD, label='ドル・円')\n",
    "    plt.xlim(min_date, max_date) # X軸の範囲を指定\n",
    "    plt.ylim(50, 350) # Y軸の範囲を指定\n",
    "    plt.legend(loc='best') # 凡例を最適な位置に表示\n",
    "    # 2つ目のサブプロット(国債金利データ)\n",
    "    plt.subplot(3, 1, 2) # 3行1列の2番目のサブプロットを作成\n",
    "    plt.plot(df_jgbcm.index, df_jgbcm['1年'], label='1年国債金利')  \n",
    "    plt.plot(df_jgbcm.index, df_jgbcm['5年'], label='5年国債金利')  \n",
    "    plt.plot(df_jgbcm.index, df_jgbcm['10年'], label='10年国債金利')\n",
    "    plt.xlim(min_date, max_date) # X軸の範囲を指定\n",
    "    plt.legend(loc='best') # 凡例を最適な位置に表示\n",
    "    # 3つ目のサブプロット(有効求人倍率)\n",
    "    plt.subplot(3, 1, 3) # 3行1列の3番目のサブプロットを作成\n",
    "    plt.plot(s_jobs.index, s_jobs, label='有効求人倍率 (季節調整値)')\n",
    "    plt.xlim(min_date, max_date) # X軸の範囲を指定\n",
    "    plt.ylim(0.0, 2.0) # Y軸の範囲を指定\n",
    "    plt.axhline(y=1, color='gray') # y=1の水平線を引く\n",
    "    plt.legend(loc='best') # 凡例を最適な位置に表示\n",
    "    \n",
    "    plt.savefig('historical_data.png', dpi=300) # 画像を保存\n",
    "    \n",
    "    \n",
    "def parse_japanese_date(s):\n",
    "    \"\"\"\n",
    "    和暦の日付をdatetimeオブジェクトに変換する\n",
    "    \"\"\"\n",
    "    base_years = {'S': 1925, 'H': 1988} #昭和・平成の0年に相当する年を定義しておく\n",
    "    era = s[0] # 元号を表すアルファベット1文字を取得\n",
    "    year, month, day = s[1:].split('.') # 2文字目以降を.()で分割して年月日に分ける\n",
    "    year = base_years[era] + int(year) # 元号の0年に相当する年と数値に変換した年を足して西暦の年を得る\n",
    "    return datetime(year, int(month), int(day)) # datetimeオブジェクトを作成する\n",
    "\n",
    "\n",
    "def parse_year_and_month(year, month):\n",
    "    \"\"\"\n",
    "    ('X年', 'Y月')の組をdatetimeオブジェクトに変換する\n",
    "    \"\"\"\n",
    "    year = int(year[:-1]) # \"年\"を除去して数値に変換\n",
    "    month = int(month[:-1]) # \"月\"を除去して数値に変換\n",
    "    year += (1900 if year >= 63 else 2000) # 63年以降は19xx年、63年より前は20xx年\n",
    "    return datetime(year, month, 1) # datetimeオブジェクトを作成する\n",
    "\n",
    "\n",
    "if __name__ == '__main__':\n",
    "    main()"
   ]
  },
  {
   "cell_type": "code",
   "execution_count": 107,
   "metadata": {
    "collapsed": false
   },
   "outputs": [],
   "source": [
    "!python plot_historical_data.py"
   ]
  },
  {
   "cell_type": "code",
   "execution_count": null,
   "metadata": {
    "collapsed": true
   },
   "outputs": [],
   "source": []
  },
  {
   "cell_type": "raw",
   "metadata": {
    "collapsed": true
   },
   "source": [
    "# スクリプトファイルで複雑なグラフをプロットする時には、\n",
    "# グローバルに1つだけ状態を保持する関数ベースのAPIの性質が扱いづらいこともある\n",
    "# そのような場合に、matplotlibのオブジェクト指向のAPIを使う例\n",
    "# 図全体はFigureクラス、サブプロットはAxesクラスとしてモデル化されている"
   ]
  },
  {
   "cell_type": "code",
   "execution_count": 7,
   "metadata": {
    "collapsed": false
   },
   "outputs": [],
   "source": [
    "# 日本語フォントを指定するにはどうしたらいいのかわからない・・・\n",
    "\n",
    "import matplotlib\n",
    "matplotlib.rcParams['font.sans-serif'] = 'Hiragino Kaku Gothic Pro, Osaka, MigMix 1P' # 書籍ではOsakaが抜けておりwebで訂正\n",
    "import matplotlib.pyplot as plt\n",
    "\n",
    "min_date = datetime(1973, 1, 1) # X軸の最小値\n",
    "max_date = datetime.now() # X軸の最大値\n",
    "\n",
    "fig = plt.figure() # figはFigureクラスのオブジェクト\n",
    "ax1 = fig.add_subplot(3, 1, 1) # ax1はAxesクラスのオブジェクト\n",
    "ax1.plot(df_exchange.index, df_exchange.USD, label='ドル・円')\n",
    "ax1.set_xlim(min_date, max_date) # X軸の範囲を指定\n",
    "ax1.set_ylim(50, 350) # Y軸の範囲を指定\n",
    "ax1.legend(loc='best')\n",
    "fig.savefig('historical_data_OOP.png', dpi=300)"
   ]
  },
  {
   "cell_type": "code",
   "execution_count": null,
   "metadata": {
    "collapsed": true
   },
   "outputs": [],
   "source": []
  },
  {
   "cell_type": "markdown",
   "metadata": {
    "collapsed": true
   },
   "source": [
    "# chapter 5-4 オープンデータの収集と活用"
   ]
  },
  {
   "cell_type": "markdown",
   "metadata": {
    "collapsed": true
   },
   "source": [
    "# PDFからのデータの抽出"
   ]
  },
  {
   "cell_type": "raw",
   "metadata": {
    "collapsed": true
   },
   "source": [
    "# PDFMiner.sixのPythonインターフェイス\n",
    "# PDFをパースしてテキストボックスを表示する"
   ]
  },
  {
   "cell_type": "code",
   "execution_count": 9,
   "metadata": {
    "collapsed": false
   },
   "outputs": [
    {
     "name": "stdout",
     "output_type": "stream",
     "text": [
      "Overwriting print_pdf_textboxes.py\n"
     ]
    }
   ],
   "source": [
    "%%writefile print_pdf_textboxes.py\n",
    "\n",
    "# PDFをパースしてテキストボックスを表示する\n",
    "\n",
    "import sys\n",
    "from pdfminer.converter import PDFPageAggregator\n",
    "from pdfminer.layout import LAParams, LTContainer, LTTextBox\n",
    "from pdfminer.pdfinterp import PDFPageInterpreter, PDFResourceManager\n",
    "from pdfminer.pdfpage import PDFPage\n",
    "\n",
    "\n",
    "def find_textboxes_recursively(layout_obj):\n",
    "    \"\"\"\n",
    "    再帰的にテキストボックス(LTTextBox)を探して、テキストボックスのリストを取得する\n",
    "    \"\"\"\n",
    "    # LTTextBoxを継承するオブジェクトの場合は1要素のリストを返す\n",
    "    if isinstance(layout_obj, LTTextBox):\n",
    "        return[layout_obj]\n",
    "    \n",
    "    # LTContainerを継承するオブジェクトは子要素を含むので、再帰的に探す\n",
    "    if isinstance(layout_obj, LTContainer):\n",
    "        boxes = []\n",
    "        for child in layout_obj:\n",
    "            boxes.extend(find_textboxes_recursively(child))\n",
    "            \n",
    "        return(boxes)\n",
    "    \n",
    "    return [] # その他の場合は空のリストを返す\n",
    "\n",
    "\n",
    "laparams = LAParams(detect_vertical=True) # Layout Analysisのパラメーターを設定。縦書きの検出を有効にする\n",
    "resource_manager = PDFResourceManager() # 共有のリソースを管理するリソースマネージャーを作成\n",
    "# ページを集めるPageAggregatorオブジェクトを作成\n",
    "device = PDFPageAggregator(resource_manager, laparams=laparams)\n",
    "interpreter = PDFPageInterpreter(resource_manager, device) # Interpreterオブジェクトを作成\n",
    "\n",
    "with open(sys.argv[1], 'rb') as f: # ファイルをバイナリ形式で開く\n",
    "    # PDFPage.get_pages()にファイルオブジェクトを指定して、PDFPageオブジェクトを順に取得する\n",
    "    # 時間がかかるファイルは、キーワード引数pagenosで処理するページ番号(0始まり)のリストを指定するとよい\n",
    "    for page in PDFPage.get_pages(f):\n",
    "        interpreter.process_page(page) # ページを処理する\n",
    "        layout = device.get_result() # LTPageオブジェクトを取得\n",
    "        \n",
    "        boxes = find_textboxes_recursively(layout) # ページないのテキストボックスのリストを取得する\n",
    "        # テキストボックスの左上の座標の順でテキストボックスをソートする\n",
    "        # y1(y座標の値)は上に行くほど大きくなるので、正負を反転させている\n",
    "        boxes.sort(key=lambda b: (-b.y1, b.x0))\n",
    "        \n",
    "        for box in boxes:\n",
    "            print('-' * 10) # 読みやすいように区切り線を表示する\n",
    "            print(box.get_text().strip()) # テキストボックス内のテキストを表示する"
   ]
  },
  {
   "cell_type": "code",
   "execution_count": null,
   "metadata": {
    "collapsed": false
   },
   "outputs": [],
   "source": [
    "!python print_pdf_textboxes.py /Users/Really/Python_ScrapingBook/000232384.pdf"
   ]
  },
  {
   "cell_type": "code",
   "execution_count": null,
   "metadata": {
    "collapsed": true
   },
   "outputs": [],
   "source": []
  },
  {
   "cell_type": "markdown",
   "metadata": {
    "collapsed": true
   },
   "source": [
    "# Linked Open Dataからのデータ収集"
   ]
  },
  {
   "cell_type": "markdown",
   "metadata": {
    "collapsed": true
   },
   "source": [
    "# SPARQLでデータを収集する"
   ]
  },
  {
   "cell_type": "raw",
   "metadata": {
    "collapsed": true
   },
   "source": [
    "# PythonスクリプトからSPARQLクエリを実行する\n",
    "# SPARQLを使って日本の美術館を取得するスクリプト"
   ]
  },
  {
   "cell_type": "code",
   "execution_count": 18,
   "metadata": {
    "collapsed": false
   },
   "outputs": [
    {
     "name": "stdout",
     "output_type": "stream",
     "text": [
      "Overwriting get_museum.py\n"
     ]
    }
   ],
   "source": [
    "%%writefile get_museum.py\n",
    "\n",
    "# SPARQLを使って日本の美術館を取得するスクリプト\n",
    "\n",
    "from SPARQLWrapper import SPARQLWrapper\n",
    "\n",
    "# SPARQLエンドポイントのURLを指定してインスタンスを作成する\n",
    "sparql = SPARQLWrapper('http://ja.dbpedia.org/sparql')\n",
    "# 日本の美術館を取得するクエリを設定する。\n",
    "# バックスラッシュを含むので、rで始まるraw文字列を使用している\n",
    "sparql.setQuery(r'''\n",
    "SELECT * WHERE {\n",
    "    ?s rdf:type dbpedia-owl:Museum ;\n",
    "        prop-ja:所在地 ?address .\n",
    "    FILTER REGEX(?address, \"^\\\\p{Han}{2,3}[都道府県]\")\n",
    "} ORDER BY ?s\n",
    "''')\n",
    "sparql.setReturnFormat('json') # 取得するフォーマットとしてJSONを指定する\n",
    "# query()でクエリを実行し、convert()でレスポンスをパースしてdictを得る\n",
    "response = sparql.query().convert()\n",
    "\n",
    "for result in response['results']['bindings']:\n",
    "    print(result['s']['value'], result['address']['value']) # 抽出した変数の値を表示する"
   ]
  },
  {
   "cell_type": "code",
   "execution_count": null,
   "metadata": {
    "collapsed": false
   },
   "outputs": [],
   "source": []
  },
  {
   "cell_type": "markdown",
   "metadata": {
    "collapsed": true
   },
   "source": [
    "# chapter 5-5 Webページの自動操作"
   ]
  },
  {
   "cell_type": "markdown",
   "metadata": {
    "collapsed": true
   },
   "source": [
    "# RoboBrowserでGoogle検索する"
   ]
  },
  {
   "cell_type": "code",
   "execution_count": 31,
   "metadata": {
    "collapsed": false
   },
   "outputs": [
    {
     "name": "stdout",
     "output_type": "stream",
     "text": [
      "Overwriting robobrowser_google.py\n"
     ]
    }
   ],
   "source": [
    "%%writefile robobrowser_google.py\n",
    "\n",
    "# RoboBrowserでGoogle検索する\n",
    "\n",
    "from robobrowser import RoboBrowser\n",
    "\n",
    "# RoboBrowserオブジェクトを作成する\n",
    "# キーワード引数parserはBeautifulSoup()の第2引数として扱われる\n",
    "browser = RoboBrowser(parser='html.parser')\n",
    "\n",
    "browser.open('https://google.co.jp/') # open()メソッドでGoogleのトップページを開く\n",
    "\n",
    "# 検索語を入力して送信する\n",
    "form = browser.get_form(action='/search') # フォーム取得\n",
    "form['q'] = 'Python' # フォームのqという名前のフィールドに検索語を入力\n",
    "browser.submit_form(form, list(form.submit_fields.values())[0]) # 一つ目のボタン(Google検索)を押す\n",
    "\n",
    "# 検索結果のタイトルとURLを抽出して表示する\n",
    "# select()メソッドはBeautiful Soupのselect()メソッドと同じものであり、\n",
    "# 引数のCSSセレクターにマッチする要素に対応するTagオブジェクトのリストを取得できる\n",
    "for a in browser.select('h3 > a'):\n",
    "    print(a.text)\n",
    "    print(a.get('href'))"
   ]
  },
  {
   "cell_type": "code",
   "execution_count": null,
   "metadata": {
    "collapsed": false
   },
   "outputs": [],
   "source": [
    "!python robobrowser_google.py"
   ]
  },
  {
   "cell_type": "code",
   "execution_count": null,
   "metadata": {
    "collapsed": true
   },
   "outputs": [],
   "source": []
  },
  {
   "cell_type": "markdown",
   "metadata": {
    "collapsed": true
   },
   "source": [
    "# Amazon.co.jpの注文履歴を取得する"
   ]
  },
  {
   "cell_type": "code",
   "execution_count": 16,
   "metadata": {
    "collapsed": false
   },
   "outputs": [
    {
     "name": "stdout",
     "output_type": "stream",
     "text": [
      "Overwriting amazon_order_history.py\n"
     ]
    }
   ],
   "source": [
    "%%writefile amazon_order_history.py\n",
    "\n",
    "# Amazon.co.jpの注文履歴を取得する\n",
    "\n",
    "import sys\n",
    "import os\n",
    "from robobrowser import RoboBrowser\n",
    "\n",
    "# 認証の情報は環境変数から取得する\n",
    "AMAZON_EMAIL = os.environ['AMAZON_EMAIL']\n",
    "AMAZON_PASSWORD = os.environ['AMAZON_PASSWORD']\n",
    "\n",
    "# RoboBrowserオブジェクトを作成する\n",
    "browser = RoboBrowser(\n",
    "    parser='html.parser', # Beatiful Soupで使用するパーサーを指定\n",
    "    # Cookieが使用できないと表示されてログインできない問題を回避するため\n",
    "    # 通常のブラウザーのUser-Agent(ここではFirefoxのもの)を使う\n",
    "    user_agent='Mozilla/5.0 (Macintosh; Intel Mac OS X 10.10; rv:45.0) Gecko/20100101 Firefox/45.0')\n",
    "\n",
    "\n",
    "def main():\n",
    "    # 注文履歴のページを開く\n",
    "    print('Navigating...', file=sys.stderr)\n",
    "    browser.open('https://www.amazon.co.jp/gp/css/order-history')\n",
    "    \n",
    "    # サインインページにリダイレクトされていることを確認する\n",
    "    assert 'Amazonサインイン' in browser.parsed.title.string\n",
    "    \n",
    "    # name=\"signIn\" というサインインフォームを埋める。\n",
    "    # フォームのname属性の値はブラウザーの開発者ツールで確認できる。\n",
    "    form = browser.get_form(attrs={'name': 'signIn'})\n",
    "    form['email'] = AMAZON_EMAIL\n",
    "    form['password'] = AMAZON_PASSWORD\n",
    "    \n",
    "    # フォームを送信する。正常にログインするにはRefererヘッダーとAccept-Languageヘッダーが必要。\n",
    "    print('Signing in...', file=sys.stderr)\n",
    "    browser.submit_form(form, headers={\n",
    "        'Referer': browser.url,\n",
    "        'Accept-Language': 'ja,en-US;q=0.7,en;q=0.3',\n",
    "    })\n",
    "    \n",
    "    # ログインに失敗する場合は、次の行のコメントを外してHTMLのソースを確認すると良い。\n",
    "    # print(browser.parsed.prettify())\n",
    "\n",
    "    # ページャーをたどる。\n",
    "    while True:\n",
    "        assert '注文履歴' in browser.parsed.title.string # 注文履歴画面が表示されていることを確認する。\n",
    "        \n",
    "        print_order_history() # 注文履歴を表示する。\n",
    "        \n",
    "        link_to_next = browser.get_link('次へ') #「次へ」というテキストを持つリンクを取得する。\n",
    "        if not link_to_next:\n",
    "            break #「次へ」のリンクがない場合はループを抜けて終了する。\n",
    "            \n",
    "        print('Following link to next page...', file=sys.stderr)\n",
    "        browser.follow_link(link_to_next) # 次へ」というリンクをたどる。\n",
    "        \n",
    "        \n",
    "def print_order_history():\n",
    "    \"\"\"\n",
    "    現在のページのすべての注文履歴を表示する\n",
    "    \"\"\"\n",
    "    for line_item in browser.select('.order-info'):\n",
    "        order = {} # 注文の情報を格納するためのdict\n",
    "        # ページ内のすべての注文履歴について反復する。ブラウザーの開発者ツールでclass属性の値を確認できる\n",
    "        # 注文の情報のすべての列について反復する\n",
    "        for column in line_item.select('.a-column'):\n",
    "            label_element = column.select_one('.label')\n",
    "            value_element = column.select_one('.value')\n",
    "            # ラベルと値がない列は無視する。\n",
    "            if label_element and value_element:\n",
    "                label = label_element.get_text().strip()\n",
    "                value = value_element.get_text().strip()\n",
    "                order[label] = value\n",
    "        print(order['注文日'], order['合計']) # 注文の情報を表示する。\n",
    "        \n",
    "\n",
    "if __name__ == '__main__':\n",
    "    main()"
   ]
  },
  {
   "cell_type": "code",
   "execution_count": null,
   "metadata": {
    "collapsed": false
   },
   "outputs": [],
   "source": [
    "!forego run python amazon_order_history.py"
   ]
  },
  {
   "cell_type": "code",
   "execution_count": null,
   "metadata": {
    "collapsed": true
   },
   "outputs": [],
   "source": []
  },
  {
   "cell_type": "markdown",
   "metadata": {},
   "source": [
    "# chapter 5-6 JavaScriptを使ったページのスクレイピング"
   ]
  },
  {
   "cell_type": "raw",
   "metadata": {},
   "source": [
    "# !pip install selenium"
   ]
  },
  {
   "cell_type": "raw",
   "metadata": {},
   "source": [
    "# !brew install phantomjs"
   ]
  },
  {
   "cell_type": "markdown",
   "metadata": {},
   "source": [
    "# SeleniumでGoogle検索を行う"
   ]
  },
  {
   "cell_type": "code",
   "execution_count": 8,
   "metadata": {
    "collapsed": false
   },
   "outputs": [
    {
     "name": "stdout",
     "output_type": "stream",
     "text": [
      "Overwriting selenium_google.py\n"
     ]
    }
   ],
   "source": [
    "%%writefile selenium_google.py\n",
    "\n",
    "# SeleniumでGoogle検索を行う\n",
    "\n",
    "from selenium import webdriver\n",
    "from selenium.webdriver.common.keys import Keys\n",
    "\n",
    "# PhantomJSのWebDriverオブジェクトを作成する\n",
    "driver = webdriver.PhantomJS()\n",
    "\n",
    "# Googleのトップ画面を開く\n",
    "driver.get('https://www.google.co.jp/')\n",
    "\n",
    "# タイトルに'Google'が含まれていることを確認する\n",
    "assert 'Google' in driver.title\n",
    "\n",
    "# 検索語を入力して送信する\n",
    "input_element = driver.find_element_by_name('q')\n",
    "input_element.send_keys('Python')\n",
    "input_element.send_keys(Keys.RETURN)\n",
    "\n",
    "# タイトルに'Python'が含まれていることを確認する\n",
    "assert 'Python' in driver.title\n",
    "\n",
    "# スクリーンショットを撮る\n",
    "driver.save_screenshot('search_results.png')\n",
    "\n",
    "# 検索結果を表示する\n",
    "for a in driver.find_elements_by_css_selector('h3 > a'):\n",
    "    print(a.text)\n",
    "    print(a.get_attribute('href'))"
   ]
  },
  {
   "cell_type": "code",
   "execution_count": null,
   "metadata": {
    "collapsed": false
   },
   "outputs": [],
   "source": [
    "!python selenium_google.py"
   ]
  },
  {
   "cell_type": "code",
   "execution_count": null,
   "metadata": {
    "collapsed": true
   },
   "outputs": [],
   "source": []
  },
  {
   "cell_type": "markdown",
   "metadata": {},
   "source": [
    "# noteのおすすめコンテンツを取得する"
   ]
  },
  {
   "cell_type": "markdown",
   "metadata": {},
   "source": [
    "# Seleniumで試行錯誤しながら読み込んでみる"
   ]
  },
  {
   "cell_type": "code",
   "execution_count": 10,
   "metadata": {
    "collapsed": true
   },
   "outputs": [],
   "source": [
    "from selenium import webdriver"
   ]
  },
  {
   "cell_type": "code",
   "execution_count": 11,
   "metadata": {
    "collapsed": true
   },
   "outputs": [],
   "source": [
    "driver = webdriver.PhantomJS()"
   ]
  },
  {
   "cell_type": "code",
   "execution_count": 12,
   "metadata": {
    "collapsed": true
   },
   "outputs": [],
   "source": [
    "driver.get('https://note.mu/')"
   ]
  },
  {
   "cell_type": "code",
   "execution_count": 13,
   "metadata": {
    "collapsed": false
   },
   "outputs": [
    {
     "data": {
      "text/plain": [
       "'note ――つくる、つながる、とどける。'"
      ]
     },
     "execution_count": 13,
     "metadata": {},
     "output_type": "execute_result"
    }
   ],
   "source": [
    "driver.title"
   ]
  },
  {
   "cell_type": "code",
   "execution_count": 14,
   "metadata": {
    "collapsed": false
   },
   "outputs": [
    {
     "data": {
      "text/plain": [
       "True"
      ]
     },
     "execution_count": 14,
     "metadata": {},
     "output_type": "execute_result"
    }
   ],
   "source": [
    "driver.save_screenshot('note-1.png')"
   ]
  },
  {
   "cell_type": "raw",
   "metadata": {},
   "source": [
    "# ウインドウサイズがスマートフォンに最適化されているようなので、\n",
    "# set_window_size()メソッドで変更する"
   ]
  },
  {
   "cell_type": "code",
   "execution_count": 16,
   "metadata": {
    "collapsed": true
   },
   "outputs": [],
   "source": [
    "driver.set_window_size(800, 600)"
   ]
  },
  {
   "cell_type": "code",
   "execution_count": 17,
   "metadata": {
    "collapsed": false
   },
   "outputs": [
    {
     "data": {
      "text/plain": [
       "True"
      ]
     },
     "execution_count": 17,
     "metadata": {},
     "output_type": "execute_result"
    }
   ],
   "source": [
    "driver.save_screenshot('note-2.png')"
   ]
  },
  {
   "cell_type": "raw",
   "metadata": {},
   "source": [
    "# 最初の画面からデータを抜き出す\n",
    "# (ブラウザーの開発者ツールでコンテンツ情報の要素を調査する)"
   ]
  },
  {
   "cell_type": "code",
   "execution_count": 21,
   "metadata": {
    "collapsed": false
   },
   "outputs": [
    {
     "data": {
      "text/plain": [
       "[<selenium.webdriver.remote.webelement.WebElement (session=\"09507e30-96fa-11e7-8452-89ce99818523\", element=\":wdc:1505139552578\")>,\n",
       " <selenium.webdriver.remote.webelement.WebElement (session=\"09507e30-96fa-11e7-8452-89ce99818523\", element=\":wdc:1505139552579\")>,\n",
       " <selenium.webdriver.remote.webelement.WebElement (session=\"09507e30-96fa-11e7-8452-89ce99818523\", element=\":wdc:1505139552580\")>,\n",
       " <selenium.webdriver.remote.webelement.WebElement (session=\"09507e30-96fa-11e7-8452-89ce99818523\", element=\":wdc:1505139552581\")>,\n",
       " <selenium.webdriver.remote.webelement.WebElement (session=\"09507e30-96fa-11e7-8452-89ce99818523\", element=\":wdc:1505139552582\")>,\n",
       " <selenium.webdriver.remote.webelement.WebElement (session=\"09507e30-96fa-11e7-8452-89ce99818523\", element=\":wdc:1505139552583\")>]"
      ]
     },
     "execution_count": 21,
     "metadata": {},
     "output_type": "execute_result"
    }
   ],
   "source": [
    "driver.find_elements_by_css_selector('a.p-post--basic')"
   ]
  },
  {
   "cell_type": "raw",
   "metadata": {},
   "source": [
    "# 最初のコンテンツのボックスに対応するa要素を取得"
   ]
  },
  {
   "cell_type": "code",
   "execution_count": 22,
   "metadata": {
    "collapsed": false
   },
   "outputs": [],
   "source": [
    "a = driver.find_elements_by_css_selector('a.p-post--basic')[0]"
   ]
  },
  {
   "cell_type": "raw",
   "metadata": {},
   "source": [
    "# SeleniumでDOM要素に対応するオブジェクトは、WebElementオブジェクト"
   ]
  },
  {
   "cell_type": "code",
   "execution_count": 23,
   "metadata": {
    "collapsed": false
   },
   "outputs": [
    {
     "data": {
      "text/plain": [
       "<selenium.webdriver.remote.webelement.WebElement (session=\"09507e30-96fa-11e7-8452-89ce99818523\", element=\":wdc:1505139552578\")>"
      ]
     },
     "execution_count": 23,
     "metadata": {},
     "output_type": "execute_result"
    }
   ],
   "source": [
    "a"
   ]
  },
  {
   "cell_type": "raw",
   "metadata": {},
   "source": [
    "# WebElementオブジェクトのget_attribute()メソッドで属性を取得できる"
   ]
  },
  {
   "cell_type": "code",
   "execution_count": 24,
   "metadata": {
    "collapsed": false
   },
   "outputs": [
    {
     "data": {
      "text/plain": [
       "'https://note.mu/chitoseshizuoka/n/ndcb95b1afd79'"
      ]
     },
     "execution_count": 24,
     "metadata": {},
     "output_type": "execute_result"
    }
   ],
   "source": [
    "a.get_attribute('href')"
   ]
  },
  {
   "cell_type": "raw",
   "metadata": {},
   "source": [
    "# WebDriverクラスと同じようにfind_element_by_css_selector()などのメソッドでこの要素内部の要素を取得できる"
   ]
  },
  {
   "cell_type": "code",
   "execution_count": 26,
   "metadata": {
    "collapsed": false
   },
   "outputs": [
    {
     "data": {
      "text/plain": [
       "'ライター交流会レポート（地域振興編）'"
      ]
     },
     "execution_count": 26,
     "metadata": {},
     "output_type": "execute_result"
    }
   ],
   "source": [
    "a.find_element_by_css_selector('h4').text # タイトルを取得"
   ]
  },
  {
   "cell_type": "code",
   "execution_count": 27,
   "metadata": {
    "collapsed": false
   },
   "outputs": [
    {
     "data": {
      "text/plain": [
       "'月初めに発注されるはずの仕事が一向に発注されずとてもヒマです。でも月中より難しい仕事にかかる予定なので、うっかり仕事を入れたら自滅しそう。なので、ヒ...'"
      ]
     },
     "execution_count": 27,
     "metadata": {},
     "output_type": "execute_result"
    }
   ],
   "source": [
    "a.find_element_by_css_selector('.c-post__description').text # 概要を取得"
   ]
  },
  {
   "cell_type": "raw",
   "metadata": {},
   "source": [
    "# 問題なく取得できているようならスクリプト化する"
   ]
  },
  {
   "cell_type": "markdown",
   "metadata": {},
   "source": [
    "# noteのコンテンツを取得する"
   ]
  },
  {
   "cell_type": "code",
   "execution_count": 30,
   "metadata": {
    "collapsed": false
   },
   "outputs": [
    {
     "name": "stdout",
     "output_type": "stream",
     "text": [
      "Overwriting get_note_contents.py\n"
     ]
    }
   ],
   "source": [
    "%%writefile get_note_contents.py\n",
    "\n",
    "# noteのコンテンツを取得する (Ajax通信完了待機対応版)\n",
    "\n",
    "import sys\n",
    "import time # ← 追加\n",
    "from selenium import webdriver\n",
    "\n",
    "\n",
    "def main():\n",
    "    \"\"\"\n",
    "    メインの処理\n",
    "    \"\"\"\n",
    "    \n",
    "    driver = webdriver.PhantomJS() # PhantomJSのWebDriverオブジェクトを作成する\n",
    "    driver.set_window_size(800, 600) # ウインドウサイズを設定する\n",
    "    \n",
    "    navigate(driver) # noteのトップページに遷移する\n",
    "    posts = scrape_posts(driver) # 文章コンテンツのリストを取得する\n",
    "    \n",
    "    # コンテンツの情報を表示する\n",
    "    for post in posts:\n",
    "        print(post)\n",
    "        \n",
    "        \n",
    "def navigate(driver):\n",
    "    \"\"\"\n",
    "    目的のページに遷移する\n",
    "    \"\"\"\n",
    "    \n",
    "    print('Navigating...', file=sys.stderr)\n",
    "    driver.get('https://note.mu/') # noteのトップページを開く\n",
    "    assert 'note' in driver.title # タイトルに'note'が含まれていることを確認する\n",
    "    time.sleep(2)  # 2秒間待つ。 ← この行を追加\n",
    "    \n",
    "    \n",
    "def scrape_posts(driver):\n",
    "    \"\"\"\n",
    "    文章コンテンツのURL、タイトル、概要を含むdictのリストを取得する\n",
    "    \"\"\"\n",
    "    \n",
    "    posts = []\n",
    "    \n",
    "    # すべての文章コンテンツを表すa要素について反復する\n",
    "    for a in driver.find_elements_by_css_selector('a.p-post--basic'):\n",
    "        # URL、タイトル、概要を取得して、dictとしてリストに追加する\n",
    "        posts.append({\n",
    "            'url': a.get_attribute('href'),\n",
    "            'title': a.find_element_by_css_selector('h4').text,\n",
    "            'description': a.find_element_by_css_selector('.c-post__description').text,\n",
    "        })\n",
    "        \n",
    "    return posts\n",
    "\n",
    "\n",
    "if __name__ == '__main__':\n",
    "    main()    "
   ]
  },
  {
   "cell_type": "code",
   "execution_count": null,
   "metadata": {
    "collapsed": false
   },
   "outputs": [],
   "source": [
    "!python get_note_contents.py"
   ]
  },
  {
   "cell_type": "markdown",
   "metadata": {},
   "source": [
    "# おすすめノートのページから続きを読み込む処理"
   ]
  },
  {
   "cell_type": "code",
   "execution_count": 42,
   "metadata": {
    "collapsed": false
   },
   "outputs": [
    {
     "name": "stdout",
     "output_type": "stream",
     "text": [
      "Overwriting get_more_note_contents.py\n"
     ]
    }
   ],
   "source": [
    "%%writefile get_more_note_contents.py\n",
    "\n",
    "# notenのおすすめノートのページから続きを読み込む処理を追加\n",
    "\n",
    "import sys\n",
    "import time # ← 追加\n",
    "from selenium import webdriver\n",
    "from selenium.webdriver.common.by import By\n",
    "from selenium.webdriver.support import expected_conditions as EC\n",
    "from selenium.webdriver.support.ui import WebDriverWait\n",
    "\n",
    "\n",
    "def main():\n",
    "    \"\"\"\n",
    "    メインの処理\n",
    "    \"\"\"\n",
    "    \n",
    "    driver = webdriver.PhantomJS() # PhantomJSのWebDriverオブジェクトを作成する\n",
    "    driver.set_window_size(800, 600) # ウインドウサイズを設定する\n",
    "    \n",
    "    navigate(driver) # noteのトップページに遷移する\n",
    "    posts = scrape_posts(driver) # 文章コンテンツのリストを取得する\n",
    "    \n",
    "    # コンテンツの情報を表示する\n",
    "    for post in posts:\n",
    "        print(post)\n",
    "        \n",
    "        \n",
    "def navigate(driver):\n",
    "    \"\"\"\n",
    "    目的のページに遷移して続きのコンテンツを読み込む\n",
    "    \"\"\"\n",
    "    \n",
    "    print('Navigating...', file=sys.stderr)\n",
    "    driver.get('https://note.mu/') # noteのトップページを開く\n",
    "    assert 'note' in driver.title # タイトルに'note'が含まれていることを確認する\n",
    "    time.sleep(2)  # 2秒間待つ ← この行を追加\n",
    "    \n",
    "    # ページの一番下までスクロールする\n",
    "    driver.execute_script('scroll(0, document.body.scrollHeight)')\n",
    "    \n",
    "    print('Waiting for contents to be loaded...', file=sys.stderr)\n",
    "    time.sleep(2)  # 2秒間待つ\n",
    "    \n",
    "    # ページの一番下までスクロールする\n",
    "    driver.execute_script('scroll(0, document.body.scrollHeight)')\n",
    "    \n",
    "    # 10秒でタイムアウトするWebDriverWaitオブジェクトを作成する\n",
    "    wait = WebDriverWait(driver, 10)\n",
    "    \n",
    "    print('Waiting for the more button to be clickable...', file=sys.stderr)\n",
    "    # もっとみるボタンがクリック可能になるまで待つ\n",
    "    button = wait.until(EC.element_to_be_clickable((By.CSS_SELECTOR, '.btn-more')))\n",
    "    \n",
    "    button.click() # もっとみるボタンをクリックする\n",
    "    \n",
    "    print('Waiting for contents to be loaded...', file=sys.stderr)\n",
    "    time.sleep(2)  # 2秒間待つ\n",
    "    \n",
    "\n",
    "def scrape_posts(driver):\n",
    "    \"\"\"\n",
    "    文章コンテンツのURL、タイトル、概要を含むdictのリストを取得する\n",
    "    \"\"\"\n",
    "    \n",
    "    posts = []\n",
    "    \n",
    "    # すべての文章コンテンツを表すa要素について反復する\n",
    "    for a in driver.find_elements_by_css_selector('a.p-post--basic'):\n",
    "        # URL、タイトル、概要を取得して、dictとしてリストに追加する\n",
    "        posts.append({\n",
    "            'url': a.get_attribute('href'),\n",
    "            'title': a.find_element_by_css_selector('h4').text,\n",
    "            'description': a.find_element_by_css_selector('.c-post__description').text,\n",
    "        })\n",
    "        \n",
    "    return posts\n",
    "\n",
    "\n",
    "if __name__ == '__main__':\n",
    "    main()    "
   ]
  },
  {
   "cell_type": "code",
   "execution_count": null,
   "metadata": {
    "collapsed": false
   },
   "outputs": [],
   "source": [
    "!python get_more_note_contents.py"
   ]
  },
  {
   "cell_type": "code",
   "execution_count": null,
   "metadata": {
    "collapsed": true
   },
   "outputs": [],
   "source": []
  },
  {
   "cell_type": "markdown",
   "metadata": {
    "collapsed": true
   },
   "source": [
    "# おすすめノートのページからRSSフィードを作成する"
   ]
  },
  {
   "cell_type": "code",
   "execution_count": 1,
   "metadata": {
    "collapsed": false
   },
   "outputs": [
    {
     "name": "stdout",
     "output_type": "stream",
     "text": [
      "Writing note_rss.py\n"
     ]
    }
   ],
   "source": [
    "%%writefile note_rss.py\n",
    "\n",
    "# おすすめノートのページからRSSフィードを作成する\n",
    "# カレントディレクトリにrecommend.rss(RSS2.0に従ったXML)が生成される\n",
    "\n",
    "import sys\n",
    "import time # ← 追加\n",
    "from selenium import webdriver\n",
    "from selenium.webdriver.common.by import By\n",
    "from selenium.webdriver.support import expected_conditions as EC\n",
    "from selenium.webdriver.support.ui import WebDriverWait\n",
    "import feedgenerator\n",
    "\n",
    "\n",
    "def main():\n",
    "    \"\"\"\n",
    "    メインの処理\n",
    "    \"\"\"\n",
    "    \n",
    "    driver = webdriver.PhantomJS() # PhantomJSのWebDriverオブジェクトを作成する\n",
    "    driver.set_window_size(800, 600) # ウインドウサイズを設定する\n",
    "    \n",
    "    navigate(driver) # noteのトップページに遷移する\n",
    "    posts = scrape_posts(driver) # 文章コンテンツのリストを取得する\n",
    "    \n",
    "    # RSSフィードとして保存する\n",
    "    with open('recommend.rss', 'w') as f:\n",
    "        save_as_feed(f, posts)\n",
    "        \n",
    "        \n",
    "def navigate(driver):\n",
    "    \"\"\"\n",
    "    目的のページに遷移して続きのコンテンツを読み込む\n",
    "    \"\"\"\n",
    "    \n",
    "    print('Navigating...', file=sys.stderr)\n",
    "    driver.get('https://note.mu/') # noteのトップページを開く\n",
    "    assert 'note' in driver.title # タイトルに'note'が含まれていることを確認する\n",
    "    time.sleep(2)  # 2秒間待つ ← この行を追加\n",
    "    \n",
    "    # ページの一番下までスクロールする\n",
    "    driver.execute_script('scroll(0, document.body.scrollHeight)')\n",
    "    \n",
    "    print('Waiting for contents to be loaded...', file=sys.stderr)\n",
    "    time.sleep(2)  # 2秒間待つ\n",
    "    \n",
    "    # ページの一番下までスクロールする\n",
    "    driver.execute_script('scroll(0, document.body.scrollHeight)')\n",
    "    \n",
    "    # 10秒でタイムアウトするWebDriverWaitオブジェクトを作成する\n",
    "    wait = WebDriverWait(driver, 10)\n",
    "    \n",
    "    print('Waiting for the more button to be clickable...', file=sys.stderr)\n",
    "    # もっとみるボタンがクリック可能になるまで待つ\n",
    "    button = wait.until(EC.element_to_be_clickable((By.CSS_SELECTOR, '.btn-more')))\n",
    "    \n",
    "    button.click() # もっとみるボタンをクリックする\n",
    "    \n",
    "    print('Waiting for contents to be loaded...', file=sys.stderr)\n",
    "    time.sleep(2)  # 2秒間待つ\n",
    "    \n",
    "\n",
    "def scrape_posts(driver):\n",
    "    \"\"\"\n",
    "    文章コンテンツのURL、タイトル、概要を含むdictのリストを取得する\n",
    "    \"\"\"\n",
    "    \n",
    "    posts = []\n",
    "    \n",
    "    # すべての文章コンテンツを表すa要素について反復する\n",
    "    for a in driver.find_elements_by_css_selector('a.p-post--basic'):\n",
    "        # URL、タイトル、概要を取得して、dictとしてリストに追加する\n",
    "        posts.append({\n",
    "            'url': a.get_attribute('href'),\n",
    "            'title': a.find_element_by_css_selector('h4').text,\n",
    "            'description': a.find_element_by_css_selector('.c-post__description').text,\n",
    "        })\n",
    "        \n",
    "    return posts\n",
    "\n",
    "\n",
    "def save_as_feed(f, posts):\n",
    "    \"\"\"\n",
    "    文章コンテンツのリストをフィードとして保存する\n",
    "    \"\"\"\n",
    "    \n",
    "    # フィードを表すRss201rev2Feedオブジェクトを作成する\n",
    "    feed = feedgenerator.Rss201rev2Feed(\n",
    "        title='おすすめノート', # フィードのタイトル\n",
    "        link='https://note.mu/',  # 　フィードに対応するwebサイトのURL\n",
    "        description='おすすめノート') # フィードの概要\n",
    "    \n",
    "    for post in posts:\n",
    "        # フィードにアイテムを追加する\n",
    "        # キーワード引数unique_idは、アイテムを一意に識別するユニークなIDを指定する\n",
    "        # 必須ではないが、このIDを指定しておくとRSSリーダーがアイテムの重複なく扱える\n",
    "        # 可能性が高まるので、ここではコンテンツのURLを指定している\n",
    "        feed.add_item(title=post['title'], link=post['url'],\n",
    "                     description=post['description'], unique_id=post['url'])\n",
    "        \n",
    "    feed.write(f, 'utf-8') # ファイルオブジェクトに書き込む。第2引数にエンコーディングを指定する\n",
    "    \n",
    "\n",
    "if __name__ == '__main__':\n",
    "    main()    "
   ]
  },
  {
   "cell_type": "code",
   "execution_count": 2,
   "metadata": {
    "collapsed": false
   },
   "outputs": [
    {
     "name": "stdout",
     "output_type": "stream",
     "text": [
      "Navigating...\n",
      "Waiting for contents to be loaded...\n",
      "Waiting for the more button to be clickable...\n",
      "Waiting for contents to be loaded...\n"
     ]
    }
   ],
   "source": [
    "!python note_rss.py"
   ]
  },
  {
   "cell_type": "raw",
   "metadata": {},
   "source": [
    "# ファイルを生成したディレクトリでHTTPサーバーを起動する"
   ]
  },
  {
   "cell_type": "code",
   "execution_count": 3,
   "metadata": {
    "collapsed": true
   },
   "outputs": [],
   "source": [
    "# !python -m http.server"
   ]
  },
  {
   "cell_type": "raw",
   "metadata": {},
   "source": [
    "# ブラウザーで http://localhost:8000/recommend.rss にアクセスすると\n",
    "# RSSリーダーに登録するための画面が表示される"
   ]
  },
  {
   "cell_type": "code",
   "execution_count": null,
   "metadata": {
    "collapsed": true
   },
   "outputs": [],
   "source": []
  },
  {
   "cell_type": "markdown",
   "metadata": {},
   "source": [
    "# chapter 5-7 取得したデータの活用"
   ]
  },
  {
   "cell_type": "markdown",
   "metadata": {},
   "source": [
    "# ジオコーディングによる位置情報の取得"
   ]
  },
  {
   "cell_type": "raw",
   "metadata": {},
   "source": [
    "# ジオコーディングAPIを使用して住所から位置情報を取得することができる\n",
    "# ここでは使用目的の制限が少ないYahoo!のものを使用する\n",
    "# 常時SSL（AOSSL）対応にともないリクエストURLが書籍記載のものから変更されている\n",
    "# デフォルトはXMLだが、PythonではJSON形式の方が扱いやすいので、output=jsonとしている"
   ]
  },
  {
   "cell_type": "code",
   "execution_count": null,
   "metadata": {
    "collapsed": true
   },
   "outputs": [],
   "source": [
    "# jqコマンドはJSONに対してクエリを実行して一部を抽出できるコマンド\n",
    "# jq . を実行すると標準入力に与えたJSON文字列が整形して表示される\n",
    "# brew install jq"
   ]
  },
  {
   "cell_type": "raw",
   "metadata": {},
   "source": [
    "# 「\\」(バックスラッシュ)は改行記号"
   ]
  },
  {
   "cell_type": "code",
   "execution_count": 27,
   "metadata": {
    "collapsed": false,
    "scrolled": true
   },
   "outputs": [
    {
     "name": "stdout",
     "output_type": "stream",
     "text": [
      "\u001b[1;39m{\r\n",
      "  \u001b[0m\u001b[34;1m\"ResultInfo\"\u001b[0m\u001b[1;39m: \u001b[0m\u001b[1;39m{\r\n",
      "    \u001b[0m\u001b[34;1m\"Count\"\u001b[0m\u001b[1;39m: \u001b[0m\u001b[0;39m1\u001b[0m\u001b[1;39m,\r\n",
      "    \u001b[0m\u001b[34;1m\"Total\"\u001b[0m\u001b[1;39m: \u001b[0m\u001b[0;39m1\u001b[0m\u001b[1;39m,\r\n",
      "    \u001b[0m\u001b[34;1m\"Start\"\u001b[0m\u001b[1;39m: \u001b[0m\u001b[0;39m1\u001b[0m\u001b[1;39m,\r\n",
      "    \u001b[0m\u001b[34;1m\"Status\"\u001b[0m\u001b[1;39m: \u001b[0m\u001b[0;39m200\u001b[0m\u001b[1;39m,\r\n",
      "    \u001b[0m\u001b[34;1m\"Description\"\u001b[0m\u001b[1;39m: \u001b[0m\u001b[0;32m\"\"\u001b[0m\u001b[1;39m,\r\n",
      "    \u001b[0m\u001b[34;1m\"Copyright\"\u001b[0m\u001b[1;39m: \u001b[0m\u001b[0;32m\"\"\u001b[0m\u001b[1;39m,\r\n",
      "    \u001b[0m\u001b[34;1m\"Latency\"\u001b[0m\u001b[1;39m: \u001b[0m\u001b[0;39m0.054\u001b[0m\u001b[1;39m\r\n",
      "  \u001b[1;39m}\u001b[0m\u001b[1;39m,\r\n",
      "  \u001b[0m\u001b[34;1m\"Feature\"\u001b[0m\u001b[1;39m: \u001b[0m\u001b[1;39m[\r\n",
      "    \u001b[1;39m{\r\n",
      "      \u001b[0m\u001b[34;1m\"Id\"\u001b[0m\u001b[1;39m: \u001b[0m\u001b[0;32m\"13106.8.7.7\"\u001b[0m\u001b[1;39m,\r\n",
      "      \u001b[0m\u001b[34;1m\"Gid\"\u001b[0m\u001b[1;39m: \u001b[0m\u001b[0;32m\"\"\u001b[0m\u001b[1;39m,\r\n",
      "      \u001b[0m\u001b[34;1m\"Name\"\u001b[0m\u001b[1;39m: \u001b[0m\u001b[0;32m\"東京都台東区上野公園7-7\"\u001b[0m\u001b[1;39m,\r\n",
      "      \u001b[0m\u001b[34;1m\"Geometry\"\u001b[0m\u001b[1;39m: \u001b[0m\u001b[1;39m{\r\n",
      "        \u001b[0m\u001b[34;1m\"Type\"\u001b[0m\u001b[1;39m: \u001b[0m\u001b[0;32m\"point\"\u001b[0m\u001b[1;39m,\r\n",
      "        \u001b[0m\u001b[34;1m\"Coordinates\"\u001b[0m\u001b[1;39m: \u001b[0m\u001b[0;32m\"139.77589247,35.71533133\"\u001b[0m\u001b[1;39m,\r\n",
      "        \u001b[0m\u001b[34;1m\"BoundingBox\"\u001b[0m\u001b[1;39m: \u001b[0m\u001b[0;32m\"139.77029247,35.70973133 139.78149247,35.72093133\"\u001b[0m\u001b[1;39m\r\n",
      "      \u001b[1;39m}\u001b[0m\u001b[1;39m,\r\n",
      "      \u001b[0m\u001b[34;1m\"Category\"\u001b[0m\u001b[1;39m: \u001b[0m\u001b[1;39m[]\u001b[0m\u001b[1;39m,\r\n",
      "      \u001b[0m\u001b[34;1m\"Description\"\u001b[0m\u001b[1;39m: \u001b[0m\u001b[0;32m\"\"\u001b[0m\u001b[1;39m,\r\n",
      "      \u001b[0m\u001b[34;1m\"Style\"\u001b[0m\u001b[1;39m: \u001b[0m\u001b[1;39m[]\u001b[0m\u001b[1;39m,\r\n",
      "      \u001b[0m\u001b[34;1m\"Property\"\u001b[0m\u001b[1;39m: \u001b[0m\u001b[1;39m{\r\n",
      "        \u001b[0m\u001b[34;1m\"Uid\"\u001b[0m\u001b[1;39m: \u001b[0m\u001b[0;32m\"0505dcfa8557a4206edfa281475b0c83f82e9283\"\u001b[0m\u001b[1;39m,\r\n",
      "        \u001b[0m\u001b[34;1m\"CassetteId\"\u001b[0m\u001b[1;39m: \u001b[0m\u001b[0;32m\"b22fee69b0dcaf2c2fe2d6a27906dafc\"\u001b[0m\u001b[1;39m,\r\n",
      "        \u001b[0m\u001b[34;1m\"Yomi\"\u001b[0m\u001b[1;39m: \u001b[0m\u001b[0;32m\"トウキョウトタイトウクウエノコウエン\"\u001b[0m\u001b[1;39m,\r\n",
      "        \u001b[0m\u001b[34;1m\"Country\"\u001b[0m\u001b[1;39m: \u001b[0m\u001b[1;39m{\r\n",
      "          \u001b[0m\u001b[34;1m\"Code\"\u001b[0m\u001b[1;39m: \u001b[0m\u001b[0;32m\"JP\"\u001b[0m\u001b[1;39m,\r\n",
      "          \u001b[0m\u001b[34;1m\"Name\"\u001b[0m\u001b[1;39m: \u001b[0m\u001b[0;32m\"日本\"\u001b[0m\u001b[1;39m\r\n",
      "        \u001b[1;39m}\u001b[0m\u001b[1;39m,\r\n",
      "        \u001b[0m\u001b[34;1m\"Address\"\u001b[0m\u001b[1;39m: \u001b[0m\u001b[0;32m\"東京都台東区上野公園7-7\"\u001b[0m\u001b[1;39m,\r\n",
      "        \u001b[0m\u001b[34;1m\"GovernmentCode\"\u001b[0m\u001b[1;39m: \u001b[0m\u001b[0;32m\"13106\"\u001b[0m\u001b[1;39m,\r\n",
      "        \u001b[0m\u001b[34;1m\"AddressMatchingLevel\"\u001b[0m\u001b[1;39m: \u001b[0m\u001b[0;32m\"6\"\u001b[0m\u001b[1;39m,\r\n",
      "        \u001b[0m\u001b[34;1m\"AddressType\"\u001b[0m\u001b[1;39m: \u001b[0m\u001b[0;32m\"地番・戸番\"\u001b[0m\u001b[1;39m\r\n",
      "      \u001b[1;39m}\u001b[0m\u001b[1;39m\r\n",
      "    \u001b[1;39m}\u001b[0m\u001b[1;39m\r\n",
      "  \u001b[1;39m]\u001b[0m\u001b[1;39m\r\n",
      "\u001b[1;39m}\u001b[0m\r\n"
     ]
    }
   ],
   "source": [
    "# jq . あり\n",
    "!curl -s 'https://map.yahooapis.jp/geocode/V1/geoCoder?appid=dj00aiZpPTgxQUZmbUZBcWx2TCZzPWNvbnN1bWVyc2VjcmV0Jng9ZjE-\\\n",
    "&output=json&query=東京都台東区上野公園7番7号' | jq ."
   ]
  },
  {
   "cell_type": "code",
   "execution_count": 23,
   "metadata": {
    "collapsed": false
   },
   "outputs": [
    {
     "name": "stdout",
     "output_type": "stream",
     "text": [
      "{\"ResultInfo\":{\"Count\":1,\"Total\":1,\"Start\":1,\"Status\":200,\"Description\":\"\",\"Copyright\":\"\",\"Latency\":0.056},\"Feature\":[{\"Id\":\"13106.8.7.7\",\"Gid\":\"\",\"Name\":\"\\u6771\\u4eac\\u90fd\\u53f0\\u6771\\u533a\\u4e0a\\u91ce\\u516c\\u57127-7\",\"Geometry\":{\"Type\":\"point\",\"Coordinates\":\"139.77589247,35.71533133\",\"BoundingBox\":\"139.77029247,35.70973133 139.78149247,35.72093133\"},\"Category\":[],\"Description\":\"\",\"Style\":[],\"Property\":{\"Uid\":\"0505dcfa8557a4206edfa281475b0c83f82e9283\",\"CassetteId\":\"b22fee69b0dcaf2c2fe2d6a27906dafc\",\"Yomi\":\"\\u30c8\\u30a6\\u30ad\\u30e7\\u30a6\\u30c8\\u30bf\\u30a4\\u30c8\\u30a6\\u30af\\u30a6\\u30a8\\u30ce\\u30b3\\u30a6\\u30a8\\u30f3\",\"Country\":{\"Code\":\"JP\",\"Name\":\"\\u65e5\\u672c\"},\"Address\":\"\\u6771\\u4eac\\u90fd\\u53f0\\u6771\\u533a\\u4e0a\\u91ce\\u516c\\u57127-7\",\"GovernmentCode\":\"13106\",\"AddressMatchingLevel\":\"6\",\"AddressType\":\"\\u5730\\u756a\\u30fb\\u6238\\u756a\"}}]}"
     ]
    }
   ],
   "source": [
    "# jq . なし\n",
    "!curl -s 'https://map.yahooapis.jp/geocode/V1/geoCoder?appid=dj00aiZpPTgxQUZmbUZBcWx2TCZzPWNvbnN1bWVyc2VjcmV0Jng9ZjE-\\\n",
    "&output=json&query=東京都台東区上野公園7番7号'"
   ]
  },
  {
   "cell_type": "raw",
   "metadata": {},
   "source": [
    "# jqの引数に「.」以外のフィルターを記述してJSONの一部だけを抽出することもできる"
   ]
  },
  {
   "cell_type": "code",
   "execution_count": 22,
   "metadata": {
    "collapsed": false
   },
   "outputs": [
    {
     "name": "stdout",
     "output_type": "stream",
     "text": [
      "\u001b[0;39m1\u001b[0m\r\n"
     ]
    }
   ],
   "source": [
    "# 結果の数だけを抽出する\n",
    "!curl -s 'https://map.yahooapis.jp/geocode/V1/geoCoder?appid=dj00aiZpPTgxQUZmbUZBcWx2TCZzPWNvbnN1bWVyc2VjcmV0Jng9ZjE-\\\n",
    "&output=json&query=東京都台東区上野公園7番7号' | jq .ResultInfo.Count"
   ]
  },
  {
   "cell_type": "code",
   "execution_count": 26,
   "metadata": {
    "collapsed": false
   },
   "outputs": [
    {
     "name": "stdout",
     "output_type": "stream",
     "text": [
      "\u001b[0;32m\"139.77589247,35.71533133\"\u001b[0m\r\n"
     ]
    }
   ],
   "source": [
    "# 結果と緯度だけを抽出する\n",
    "!curl -s 'https://map.yahooapis.jp/geocode/V1/geoCoder?appid=dj00aiZpPTgxQUZmbUZBcWx2TCZzPWNvbnN1bWVyc2VjcmV0Jng9ZjE-\\\n",
    "&output=json&query=東京都台東区上野公園7番7号' | jq .Feature[0].Geometry.Coordinates"
   ]
  },
  {
   "cell_type": "code",
   "execution_count": null,
   "metadata": {
    "collapsed": false
   },
   "outputs": [],
   "source": []
  },
  {
   "cell_type": "markdown",
   "metadata": {},
   "source": [
    "# code 5.27 SPARQLとジオコーダAPIを使って日本の美術館の位置情報を取得する"
   ]
  },
  {
   "cell_type": "code",
   "execution_count": 34,
   "metadata": {
    "collapsed": false
   },
   "outputs": [
    {
     "name": "stdout",
     "output_type": "stream",
     "text": [
      "Overwriting get_museum_with_location.py\n"
     ]
    }
   ],
   "source": [
    "%%writefile get_museum_with_location.py\n",
    "\n",
    "# 日本の美術館の位置情報を取得する\n",
    "\n",
    "import sys\n",
    "import os\n",
    "import json\n",
    "import dbm\n",
    "from urllib.request import urlopen\n",
    "from urllib.parse import urlencode\n",
    "from SPARQLWrapper import SPARQLWrapper\n",
    "\n",
    "\n",
    "def main():\n",
    "    features = [] # 美術館の情報を格納するためのリスト\n",
    "    \n",
    "    for museum in get_museums():\n",
    "        # ラベルがある場合はラベルを、ない場合はsの値を取得\n",
    "        label = museum.get('label', museum['s'])\n",
    "        address = museum['address']\n",
    "        \n",
    "        if 'lon_degree' in museum:\n",
    "            # 位置情報が含まれている場合は、経度と緯度を60度数(度分秒)から10進数に変換する\n",
    "            # 10進数の度 = 60進数の度 + 60進数の分 / 60 + 60進数の秒 / 3600\n",
    "            lon = float(museum['lon_degree']) + float(museum['lon_minute']) / 60 + \\\n",
    "                float(museum['lon_second']) / 3600\n",
    "            lat = float(museum['lat_degree']) + float(museum['lat_minute']) / 60 + \\\n",
    "                float(museum['lat_second']) / 3600\n",
    "                \n",
    "        else:\n",
    "            # 位置情報が含まれない場合は、住所をジオコーディングして経度と緯度を取得する\n",
    "            lon, lat = geocode(address)\n",
    "            \n",
    "        print(label, address, lon, lat) # 変数の値を表示\n",
    "        \n",
    "        # ジオコーディングしても位置情報を取得できなかった場合はfeaturesに含めない\n",
    "        if lon is None:\n",
    "            continue\n",
    "            \n",
    "        # featuresに美術館の情報をGeoJSONのFeatureの形式で追加する\n",
    "        features.append({\n",
    "            'type': 'Feature',\n",
    "            'geometry': {'type': 'Point', 'coordinates': [lon, lat]},\n",
    "            'properties': {'label': label, 'address': address},\n",
    "        })\n",
    "    \n",
    "    # GeoJSONのFeatureCollectionの形式でdictを作成する\n",
    "    feature_collection = {\n",
    "        'type': 'FeatureCollection',\n",
    "        'features': features,\n",
    "    }\n",
    "    # FeatureCollectionを.geojsonという拡張子のファイルに書き出す\n",
    "    with open('museum.geojson', 'w') as f:\n",
    "        json.dump(feature_collection, f)\n",
    "    \n",
    "    \n",
    "def get_museums():\n",
    "    \"\"\"\n",
    "    SPARQLを使ってDBPedia Japaneseから美術館の情報を取得する\n",
    "    \"\"\"\n",
    "    \n",
    "    print('Executing SPARQL query...', file=sys.stderr)\n",
    "    \n",
    "    # SPARQLエンドポイントのURLを指定してインスタンスを作成する\n",
    "    sparql = SPARQLWrapper('http://ja.dbpedia.org/sparql')\n",
    "    # 日本の美術館を取得するクエリを設定する。\n",
    "    # バックスラッシュを含むので、rで始まるraw文字列を使用している\n",
    "    sparql.setQuery(r'''\n",
    "    SELECT * WHERE {\n",
    "        ?s rdf:type dbpedia-owl:Museum ;\n",
    "        prop-ja:所在地 ?address .\n",
    "        OPTIONAL { ?s rdfs:label ?label . }\n",
    "        OPTIONAL {\n",
    "        ?s prop-ja:経度度 ?lon_degree ;\n",
    "            prop-ja:経度分 ?lon_minute ;\n",
    "            prop-ja:経度秒 ?lon_second ;\n",
    "            prop-ja:緯度度 ?lat_degree ;\n",
    "            prop-ja:緯度分 ?lat_minute ;\n",
    "            prop-ja:緯度秒 ?lat_second .\n",
    "        }\n",
    "        FILTER REGEX(?address, \"^\\\\p{Han}{2,3}[都道府県]\")\n",
    "    } ORDER BY ?s\n",
    "    ''')\n",
    "    # 取得するフォーマットとしてJSONを指定する\n",
    "    sparql.setReturnFormat('json')\n",
    "    # query()でクエリを実行し、convert()でレスポンスをパースしてdictを得る\n",
    "    response = sparql.query().convert()\n",
    "    \n",
    "    print('Got {0} results'.format(len(response['results']['bindings']), file=sys.stderr))\n",
    "    \n",
    "    # クエリの実行結果を反復処理する\n",
    "    for result in response['results']['bindings']:\n",
    "        # 扱いやすいように{変数名1: 値1, 変数名2: 値2, ...}という形式のdictをyieldする\n",
    "        # resultを加工した辞書を得るために、辞書内包表記というリスト内包表記に似た表記法を使う\n",
    "        yield {name: binding['value'] for name, binding in result.items()}\n",
    "        \n",
    "        \n",
    "# Yahoo!ジオコーダAPIのURL\n",
    "YAHOO_GEOCODER_API_URL = 'https://map.yahooapis.jp/geocode/V1/geoCoder'\n",
    "# DBM(ファイルを使ったキーバリュー型のDB)をジオコーディング結果のキャッシュとして使用する\n",
    "# この変数はdictと同じように扱える\n",
    "geocoding_cache = dbm.open('geocoding.db', 'c')\n",
    "\n",
    "\n",
    "def geocode(address):\n",
    "    \"\"\"\n",
    "    引数で指定した住所をジオコーディングして、経度と緯度のペアを返す\n",
    "    \"\"\"\n",
    "    \n",
    "    if address not in geocoding_cache:\n",
    "        # 住所がキャッシュに存在しない場合はYahoo!ジオコーダAPIでジオコーディングする\n",
    "        print('Geocoding {0}...'.format(address), file=sys.stderr)\n",
    "        url = YAHOO_GEOCODER_API_URL + '?' + urlencode({\n",
    "            # アプリケーションIDは環境変数から取得する\n",
    "            'appid': os.environ['YAHOOJAPAN_APP_ID'],\n",
    "            'output': 'json',\n",
    "            'query': address,\n",
    "        })\n",
    "        \n",
    "        response_text = urlopen(url).read()\n",
    "        # APIのレスポンスをキャッシュに格納する\n",
    "        # キーや値にはbytes型しか使えないが、str型は自動的にbytes型に変換される\n",
    "        geocoding_cache[address] = response_text\n",
    "        \n",
    "    # キャッシュ内のAPIレスポンスをdictに変換\n",
    "    # 値はbytes型なので、文字列として扱うにはデコードが必要\n",
    "    response = json.loads(geocoding_cache[address].decode('utf-8'))\n",
    "    \n",
    "    if 'Feature' not in response:\n",
    "        # ジオコーディングで結果が得られなかった場合はNoneのペアを返す\n",
    "        return (None, None)\n",
    "    \n",
    "    # Coordinateというキーの値を , で分割\n",
    "    coordinates = response['Feature'][0]['Geometry']['Coordinates'].split(',')\n",
    "    # floatnのペアに変換して返す\n",
    "    return (float(coordinates[0]), float(coordinates[1]))\n",
    "\n",
    "\n",
    "if __name__ == '__main__':\n",
    "    main()"
   ]
  },
  {
   "cell_type": "code",
   "execution_count": null,
   "metadata": {
    "collapsed": false
   },
   "outputs": [],
   "source": [
    "!forego run python get_museum_with_location.py"
   ]
  },
  {
   "cell_type": "code",
   "execution_count": null,
   "metadata": {
    "collapsed": true
   },
   "outputs": [],
   "source": []
  }
 ],
 "metadata": {
  "kernelspec": {
   "display_name": "Python 3",
   "language": "python",
   "name": "python3"
  },
  "language_info": {
   "codemirror_mode": {
    "name": "ipython",
    "version": 3
   },
   "file_extension": ".py",
   "mimetype": "text/x-python",
   "name": "python",
   "nbconvert_exporter": "python",
   "pygments_lexer": "ipython3",
   "version": "3.6.0"
  }
 },
 "nbformat": 4,
 "nbformat_minor": 2
}
