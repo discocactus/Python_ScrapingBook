{
 "cells": [
  {
   "cell_type": "code",
   "execution_count": 1,
   "metadata": {
    "collapsed": true
   },
   "outputs": [],
   "source": [
    "# chapter 4-2 クローラー作成にあたっての注意"
   ]
  },
  {
   "cell_type": "code",
   "execution_count": 2,
   "metadata": {
    "collapsed": true
   },
   "outputs": [],
   "source": [
    "# robots.txtによるクローラーへの指示"
   ]
  },
  {
   "cell_type": "code",
   "execution_count": 3,
   "metadata": {
    "collapsed": true
   },
   "outputs": [],
   "source": [
    "# robots.textのパース"
   ]
  },
  {
   "cell_type": "code",
   "execution_count": null,
   "metadata": {
    "collapsed": true
   },
   "outputs": [],
   "source": []
  },
  {
   "cell_type": "code",
   "execution_count": 4,
   "metadata": {
    "collapsed": true
   },
   "outputs": [],
   "source": [
    "import urllib.robotparser"
   ]
  },
  {
   "cell_type": "code",
   "execution_count": 5,
   "metadata": {
    "collapsed": true
   },
   "outputs": [],
   "source": [
    "rp = urllib.robotparser.RobotFileParser()"
   ]
  },
  {
   "cell_type": "code",
   "execution_count": 6,
   "metadata": {
    "collapsed": true
   },
   "outputs": [],
   "source": [
    "rp.set_url('http://gihyo.jp/robots.txt') # set_url()でrobots.txtのURLを設定"
   ]
  },
  {
   "cell_type": "code",
   "execution_count": 7,
   "metadata": {
    "collapsed": true
   },
   "outputs": [],
   "source": [
    "rp.read() # read()でrobots.txtを読み込む"
   ]
  },
  {
   "cell_type": "code",
   "execution_count": 14,
   "metadata": {
    "collapsed": false
   },
   "outputs": [
    {
     "data": {
      "text/plain": [
       "False"
      ]
     },
     "execution_count": 14,
     "metadata": {},
     "output_type": "execute_result"
    }
   ],
   "source": [
    "# can_fetch()の第一引数にUser-Agentの文字列を、第2引数に対象のURLを指定すると、\n",
    "# そのURLのクロールが許可されているかどうかを取得できる\n",
    "rp.can_fetch('my_bot', 'http://gihyo.jp/')"
   ]
  },
  {
   "cell_type": "code",
   "execution_count": null,
   "metadata": {
    "collapsed": true
   },
   "outputs": [],
   "source": []
  },
  {
   "cell_type": "code",
   "execution_count": 15,
   "metadata": {
    "collapsed": true
   },
   "outputs": [],
   "source": [
    "# HTTP通信におけるエラーへの対処法"
   ]
  },
  {
   "cell_type": "code",
   "execution_count": 16,
   "metadata": {
    "collapsed": true
   },
   "outputs": [],
   "source": [
    "# Pythonによるエラー処理"
   ]
  },
  {
   "cell_type": "code",
   "execution_count": null,
   "metadata": {
    "collapsed": true
   },
   "outputs": [],
   "source": []
  },
  {
   "cell_type": "code",
   "execution_count": 54,
   "metadata": {
    "collapsed": false
   },
   "outputs": [
    {
     "name": "stdout",
     "output_type": "stream",
     "text": [
      "Overwriting error_handling.py\n"
     ]
    }
   ],
   "source": [
    "%%writefile error_handling.py\n",
    "\n",
    "# Pythonによるエラー処理\n",
    "\n",
    "import time\n",
    "import requests\n",
    "\n",
    "TEMPORARY_ERROR_CODES = (400, 500, 502, 503, 504) # 一時的なエラーを表すステータスコード\n",
    "\n",
    "\n",
    "def main():\n",
    "    \"\"\"\n",
    "    メインとなる処理\n",
    "    \"\"\"\n",
    "    response = fetch('http://httpbin.org/status/200,404,503')\n",
    "    if 200 <= response.status_code < 300:\n",
    "        print('Success!')\n",
    "    else:\n",
    "        print('Error!')\n",
    "        \n",
    "        \n",
    "def fetch(url):\n",
    "    \"\"\"\n",
    "    指定したURLを取得してResponseオブジェクトを返す\n",
    "    一時的なエラーが起きた場合は、最大3回リトライする\n",
    "    \"\"\"\n",
    "    max_retries = 3 # 最大で3回リトライする\n",
    "    retries = 0 # 現在のリトライ回数を示す変数\n",
    "    while True:\n",
    "        try:\n",
    "            print('Retrieving {0}...'.format(url))\n",
    "            response = requests.get(url)\n",
    "            print('Status: {0}'.format(response.status_code))\n",
    "            if response.status_code not in TEMPORARY_ERROR_CODES:\n",
    "                return response # 一時的なエラーでなければresponseを返す\n",
    "            \n",
    "        except requests.exceptions.RequestException as ex:\n",
    "            # ネットワークレベルのエラー(RequestException)の場合はリトライする\n",
    "            print('Exception occured: {0}'.format(ex))\n",
    "            \n",
    "        retries += 1\n",
    "        if retries >= max_retries:\n",
    "            raise Exception('Too many retries.') # リトライ回数の上限を超えた場合は例外を発生させる\n",
    "                    \n",
    "        wait = 2**(retries -1) # 指数関数的なリトライ間隔を求める\n",
    "        print('Waiting {0} seconds...'.format(wait))\n",
    "        time.sleep(wait) # ウェイトを取る\n",
    "                \n",
    "\n",
    "if __name__ == '__main__':\n",
    "    main()"
   ]
  },
  {
   "cell_type": "code",
   "execution_count": 51,
   "metadata": {
    "collapsed": false
   },
   "outputs": [
    {
     "name": "stdout",
     "output_type": "stream",
     "text": [
      "Retrieving http://httpbin.org/status/200,404,503...\n",
      "Status: 503\n",
      "Waiting 1 seconds...\n",
      "Retrieving http://httpbin.org/status/200,404,503...\n",
      "Status: 404\n",
      "Error!\n"
     ]
    }
   ],
   "source": [
    "!python error_handling.py"
   ]
  },
  {
   "cell_type": "code",
   "execution_count": null,
   "metadata": {
    "collapsed": true
   },
   "outputs": [],
   "source": []
  },
  {
   "cell_type": "code",
   "execution_count": 30,
   "metadata": {
    "collapsed": true
   },
   "outputs": [],
   "source": [
    "# retryingライブラリを使用して記述を簡潔化"
   ]
  },
  {
   "cell_type": "code",
   "execution_count": null,
   "metadata": {
    "collapsed": true
   },
   "outputs": [],
   "source": []
  },
  {
   "cell_type": "code",
   "execution_count": 53,
   "metadata": {
    "collapsed": false
   },
   "outputs": [
    {
     "name": "stdout",
     "output_type": "stream",
     "text": [
      "Overwriting error_handling_with_retrying.py\n"
     ]
    }
   ],
   "source": [
    "%%writefile error_handling_with_retrying.py\n",
    "\n",
    "# retryingライブラリを使用して記述を簡潔化\n",
    "\n",
    "import requests\n",
    "from retrying import retry\n",
    "\n",
    "TEMPORARY_ERROR_CODES = (400, 500, 502, 503, 504) # 一時的なエラーを表すステータスコード\n",
    "\n",
    "\n",
    "def main():\n",
    "    \"\"\"\n",
    "    メインとなる処理\n",
    "    \"\"\"\n",
    "    response = fetch('http://httpbin.org/status/200,404,503')\n",
    "    if 200 <= response.status_code < 300:\n",
    "        print('Success!')\n",
    "    else:\n",
    "        print('Error!')\n",
    "        \n",
    "        \n",
    "# stop_max_attempt_numberは最大リトライ関数を指定する\n",
    "# wait_exponential_multiplierは指数関数的なウェイトを取る場合の初回のウェイトをミリ秒単位で指定する\n",
    "@retry(stop_max_attempt_number=3, wait_exponential_multiplier=1000)\n",
    "def fetch(url):\n",
    "    \"\"\"\n",
    "    指定したURLを取得してResponseオブジェクトを返す\n",
    "    一時的なエラーが起きた場合は、最大3回リトライする\n",
    "    \"\"\"\n",
    "    print('Retrieving{0}...'.format(url))\n",
    "    response = requests.get(url)\n",
    "    print('Status: {0}'.format(response.status_code))\n",
    "    if response.status_code not in TEMPORARY_ERROR_CODES:\n",
    "        return response # 一時的なエラーでなければresponseを返す\n",
    "    \n",
    "    # 一時的なエラーの場合は例外を発生させてリトライする\n",
    "    raise Exception('Temporary Error: {0}'.format(response.status_code))\n",
    "    \n",
    "    \n",
    "if __name__ == '__main__':\n",
    "    main()"
   ]
  },
  {
   "cell_type": "code",
   "execution_count": 41,
   "metadata": {
    "collapsed": false
   },
   "outputs": [
    {
     "name": "stdout",
     "output_type": "stream",
     "text": [
      "Retrievinghttp://httpbin.org/status/200,404,503...\n",
      "Status: 503\n",
      "Retrievinghttp://httpbin.org/status/200,404,503...\n",
      "Status: 404\n",
      "Error!\n"
     ]
    }
   ],
   "source": [
    "!python error_handling_with_retrying.py"
   ]
  },
  {
   "cell_type": "code",
   "execution_count": null,
   "metadata": {
    "collapsed": true
   },
   "outputs": [],
   "source": []
  },
  {
   "cell_type": "code",
   "execution_count": 52,
   "metadata": {
    "collapsed": true
   },
   "outputs": [],
   "source": [
    "# chapter 4-3 繰り返しの実行を前提とした設計"
   ]
  },
  {
   "cell_type": "code",
   "execution_count": null,
   "metadata": {
    "collapsed": true
   },
   "outputs": [],
   "source": [
    "# 更新されたデータだけを取得する"
   ]
  },
  {
   "cell_type": "code",
   "execution_count": null,
   "metadata": {
    "collapsed": true
   },
   "outputs": [],
   "source": [
    "# CacheControlを使ってキャッシュを処理する"
   ]
  },
  {
   "cell_type": "code",
   "execution_count": null,
   "metadata": {
    "collapsed": true
   },
   "outputs": [],
   "source": []
  },
  {
   "cell_type": "code",
   "execution_count": 68,
   "metadata": {
    "collapsed": false
   },
   "outputs": [
    {
     "name": "stdout",
     "output_type": "stream",
     "text": [
      "Overwriting request_with_cache.py\n"
     ]
    }
   ],
   "source": [
    "%%writefile request_with_cache.py\n",
    "\n",
    "# CacheControlを使ってキャッシュを処理する\n",
    "\n",
    "import requests\n",
    "from cachecontrol import CacheControl\n",
    "\n",
    "session = requests.session()\n",
    "cached_session = CacheControl(session) # sessionをラップしたcached_sessionを作る\n",
    "\n",
    "# 1回目はキャッシュがないのでサーバーから取得しキャッシュする\n",
    "response = cached_session.get('http://docs.python.org/3/')\n",
    "print(response.from_cache) # False\n",
    "\n",
    "# 2回目以降はETagとLast-Modifiedの値を使って更新されているかを確認する\n",
    "# 更新されていない場合のコンテンツはキャッシュから取得するので高速に処理できる\n",
    "response = cached_session.get('http://docs.python.org/3/')\n",
    "print(response.from_cache) # True"
   ]
  },
  {
   "cell_type": "code",
   "execution_count": 69,
   "metadata": {
    "collapsed": false
   },
   "outputs": [
    {
     "name": "stdout",
     "output_type": "stream",
     "text": [
      "False\r\n",
      "True\r\n"
     ]
    }
   ],
   "source": [
    "!python request_with_cache.py"
   ]
  },
  {
   "cell_type": "code",
   "execution_count": null,
   "metadata": {
    "collapsed": true
   },
   "outputs": [],
   "source": []
  },
  {
   "cell_type": "code",
   "execution_count": 1,
   "metadata": {
    "collapsed": true
   },
   "outputs": [],
   "source": [
    "# chapter 4-4 クロール先の変化に対応する"
   ]
  },
  {
   "cell_type": "code",
   "execution_count": 2,
   "metadata": {
    "collapsed": true
   },
   "outputs": [],
   "source": [
    "# 変化を検知する"
   ]
  },
  {
   "cell_type": "code",
   "execution_count": 3,
   "metadata": {
    "collapsed": true
   },
   "outputs": [],
   "source": [
    "# 正規表現で価格として正しいかチェックする"
   ]
  },
  {
   "cell_type": "code",
   "execution_count": null,
   "metadata": {
    "collapsed": true
   },
   "outputs": [],
   "source": []
  },
  {
   "cell_type": "code",
   "execution_count": 13,
   "metadata": {
    "collapsed": false
   },
   "outputs": [
    {
     "name": "stdout",
     "output_type": "stream",
     "text": [
      "Overwriting validate_with_re.py\n"
     ]
    }
   ],
   "source": [
    "%%writefile validate_with_re.py\n",
    "\n",
    "# 正規表現で価格として正しいかチェックする\n",
    "\n",
    "import re\n",
    "\n",
    "value = '3,000'\n",
    "if not re.search(r'^[0-9,]+$', value): # 数字とカンマのみを含む正規表現にマッチするかチェックする\n",
    "    raise ValueError('Invalid price') # 正しい値でない場合は例外を発生させる"
   ]
  },
  {
   "cell_type": "code",
   "execution_count": 14,
   "metadata": {
    "collapsed": false
   },
   "outputs": [],
   "source": [
    "!python validate_with_re.py"
   ]
  },
  {
   "cell_type": "code",
   "execution_count": null,
   "metadata": {
    "collapsed": true
   },
   "outputs": [],
   "source": []
  },
  {
   "cell_type": "code",
   "execution_count": 15,
   "metadata": {
    "collapsed": true
   },
   "outputs": [],
   "source": [
    "# ライブラリを使用してスキーマを定義する"
   ]
  },
  {
   "cell_type": "code",
   "execution_count": 16,
   "metadata": {
    "collapsed": true
   },
   "outputs": [],
   "source": [
    "# Voluptuousによるバリデーション"
   ]
  },
  {
   "cell_type": "code",
   "execution_count": null,
   "metadata": {
    "collapsed": true
   },
   "outputs": [],
   "source": []
  },
  {
   "cell_type": "code",
   "execution_count": 24,
   "metadata": {
    "collapsed": false
   },
   "outputs": [
    {
     "name": "stdout",
     "output_type": "stream",
     "text": [
      "Overwriting validate_with_voluptuous.py\n"
     ]
    }
   ],
   "source": [
    "%%writefile validate_with_voluptuous.py\n",
    "\n",
    "# Voluptuousによるバリデーション\n",
    "\n",
    "from voluptuous import Schema, Match\n",
    "\n",
    "# 次の4つのルールを持つスキーマを定義する\n",
    "schema = Schema({ # ルール1：オブジェクトはdictである\n",
    "    'name': str, # ルール2：nameの値は文字列である\n",
    "    'price': Match(r'^[0-9,]+$'), # ルール3：priceの値は正規表現にマッチする\n",
    "}, required=True) # ルール4：dictのキーは必須である\n",
    "\n",
    "# Schemaオブジェクトを関数として呼び出すと、引数のオブジェクトを対象にバリデーションを行う\n",
    "schema({\n",
    "    'name': 'ぶどう',\n",
    "    'price': '3,000',\n",
    "}) #スキーマに適合するので例外は発生しない\n",
    "\n",
    "schema({\n",
    "    'name': None,\n",
    "    'price': '3,000',\n",
    "}) # スキーマに適合しないので、例外MultipleInvalidが発生する"
   ]
  },
  {
   "cell_type": "code",
   "execution_count": 25,
   "metadata": {
    "collapsed": false
   },
   "outputs": [
    {
     "name": "stdout",
     "output_type": "stream",
     "text": [
      "Traceback (most recent call last):\r\n",
      "  File \"validate_with_voluptuous.py\", line 20, in <module>\r\n",
      "    'price': '3,000',\r\n",
      "  File \"/Users/Really/.pyenv/versions/anaconda3-4.3.1/lib/python3.6/site-packages/voluptuous/schema_builder.py\", line 221, in __call__\r\n",
      "    return self._compiled([], data)\r\n",
      "  File \"/Users/Really/.pyenv/versions/anaconda3-4.3.1/lib/python3.6/site-packages/voluptuous/schema_builder.py\", line 538, in validate_dict\r\n",
      "    return base_validate(path, iteritems(data), out)\r\n",
      "  File \"/Users/Really/.pyenv/versions/anaconda3-4.3.1/lib/python3.6/site-packages/voluptuous/schema_builder.py\", line 370, in validate_mapping\r\n",
      "    raise er.MultipleInvalid(errors)\r\n",
      "voluptuous.error.MultipleInvalid: expected str for dictionary value @ data['name']\r\n"
     ]
    }
   ],
   "source": [
    "!python validate_with_voluptuous.py"
   ]
  },
  {
   "cell_type": "code",
   "execution_count": null,
   "metadata": {
    "collapsed": true
   },
   "outputs": [],
   "source": []
  },
  {
   "cell_type": "code",
   "execution_count": 22,
   "metadata": {
    "collapsed": true
   },
   "outputs": [],
   "source": [
    "# 変化を通知する"
   ]
  },
  {
   "cell_type": "code",
   "execution_count": 23,
   "metadata": {
    "collapsed": true
   },
   "outputs": [],
   "source": [
    "# Pythonからメールを送信する"
   ]
  },
  {
   "cell_type": "code",
   "execution_count": 36,
   "metadata": {
    "collapsed": false
   },
   "outputs": [
    {
     "name": "stdout",
     "output_type": "stream",
     "text": [
      "Overwriting send_email.py\n"
     ]
    }
   ],
   "source": [
    "%%writefile send_email.py\n",
    "\n",
    "# メールを送信する(Gmailを使用)\n",
    "\n",
    "import smtplib\n",
    "from email.mime.text import MIMEText\n",
    "from email.header import Header\n",
    "\n",
    "msg = MIMEText('メールの本文です') # MIMETextオブジェクトでメッセージを組み立てる\n",
    "msg['Subject'] = Header('メールの件名', 'utf-8') # 件名に日本語を含める場合はHeaderオブジェクトを使う\n",
    "msg['From'] = 'me@gmail.com' # 差出人のメールアドレス\n",
    "msg['To'] = 'you@gmail.com' # 送信先のメールアドレス\n",
    "\n",
    "with smtplib.SMTP_SSL('smtp.gmail.com') as smtp: # SMTP()の第1引数にSMTPサーバーのホスト名を指定する\n",
    "    # Googleアカウントのユーザー名とパスワードを指定してログインする\n",
    "    # 2段階認証を設定している場合は、アプリパスワードを生成して使用する\n",
    "    smtp.login('me@gmail.com', 'パスワード')\n",
    "    smtp.send_message(msg) # send_message()メソッドでメールを送信する"
   ]
  },
  {
   "cell_type": "code",
   "execution_count": 35,
   "metadata": {
    "collapsed": false
   },
   "outputs": [],
   "source": [
    "!python send_email.py"
   ]
  },
  {
   "cell_type": "code",
   "execution_count": null,
   "metadata": {
    "collapsed": true
   },
   "outputs": [],
   "source": []
  }
 ],
 "metadata": {
  "kernelspec": {
   "display_name": "Python 3",
   "language": "python",
   "name": "python3"
  },
  "language_info": {
   "codemirror_mode": {
    "name": "ipython",
    "version": 3
   },
   "file_extension": ".py",
   "mimetype": "text/x-python",
   "name": "python",
   "nbconvert_exporter": "python",
   "pygments_lexer": "ipython3",
   "version": "3.6.0"
  }
 },
 "nbformat": 4,
 "nbformat_minor": 2
}
